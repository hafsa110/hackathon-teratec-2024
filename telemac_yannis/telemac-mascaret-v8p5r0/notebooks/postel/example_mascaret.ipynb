{
 "cells": [
  {
   "cell_type": "markdown",
   "metadata": {},
   "source": [
    "# Example mascaret"
   ]
  },
  {
   "cell_type": "markdown",
   "metadata": {},
   "source": [
    "## Geometry file"
   ]
  },
  {
   "cell_type": "code",
   "execution_count": 1,
   "metadata": {
    "execution": {
     "iopub.execute_input": "2023-12-01T09:09:55.998176Z",
     "iopub.status.busy": "2023-12-01T09:09:55.997466Z",
     "iopub.status.idle": "2023-12-01T09:09:56.077665Z",
     "shell.execute_reply": "2023-12-01T09:09:56.077041Z"
    },
    "scrolled": true
   },
   "outputs": [
    {
     "name": "stdout",
     "output_type": "stream",
     "text": [
      "~> MascaretGeoFile: /home/d60881/telemac/examples/mascaret/Test6/geometrie\n",
      "    - Reach #1 (Bief_1) with 30 sections\n",
      "        1) Section #1 (prof1_1) at pk 0.000000\n",
      "        2) Section #2 (prof1_2) at pk 50.000000\n",
      "        3) Section #3 (prof1_3) at pk 100.000000\n",
      "        4) Section #4 (prof1_4) at pk 150.000000\n",
      "        5) Section #5 (prof1_5) at pk 200.000000\n",
      "        6) Section #6 (prof1_6) at pk 250.000000\n",
      "        7) Section #7 (prof1_7) at pk 300.000000\n",
      "        8) Section #8 (prof1_8) at pk 350.000000\n",
      "        9) Section #9 (prof1_9) at pk 400.000000\n",
      "        10) Section #10 (prof1_10) at pk 425.000000\n",
      "        11) Section #11 (prof1_11) at pk 435.000000\n",
      "        12) Section #12 (prof1_12) at pk 450.000000\n",
      "        13) Section #13 (prof1_13) at pk 470.000000\n",
      "        14) Section #14 (prof1_14) at pk 475.000000\n",
      "        15) Section #15 (prof1_15) at pk 500.000000\n",
      "        16) Section #16 (prof1_16) at pk 505.000000\n",
      "        17) Section #17 (prof1_17) at pk 530.000000\n",
      "        18) Section #18 (prof1_18) at pk 550.000000\n",
      "        19) Section #19 (prof1_19) at pk 565.000000\n",
      "        20) Section #20 (prof1_20) at pk 575.000000\n",
      "        21) Section #21 (prof1_21) at pk 600.000000\n",
      "        22) Section #22 (prof1_22) at pk 650.000000\n",
      "        23) Section #23 (prof1_23) at pk 700.000000\n",
      "        24) Section #24 (prof1_24) at pk 750.000000\n",
      "        25) Section #25 (prof1_25) at pk 800.000000\n",
      "        26) Section #26 (prof1_26) at pk 820.000000\n",
      "        27) Section #27 (prof1_27) at pk 900.000000\n",
      "        28) Section #28 (prof1_28) at pk 950.000000\n",
      "        29) Section #29 (prof1_29) at pk 1000.000000\n",
      "        30) Section #30 (prof1_30) at pk 1500.000000\n",
      "\n",
      "~> MascaretGeoFile: /home/d60881/telemac/examples/mascaret/Test15/mascaret0.geo\n",
      "    - Reach #1 (Bief_1) with 2 sections\n",
      "        1) Section #1 (PK1) at pk 0.000000\n",
      "        2) Section #2 (PK1bis) at pk 6.800000\n",
      "    - Reach #2 (Bief_2) with 2 sections\n",
      "        3) Section #3 (PK2) at pk 7.377300\n",
      "        4) Section #4 (PK2bis) at pk 10.800000\n",
      "    - Reach #3 (Bief_3) with 2 sections\n",
      "        5) Section #5 (PK3) at pk 100.000000\n",
      "        6) Section #6 (PK3bis) at pk 103.000000\n",
      "\n"
     ]
    }
   ],
   "source": [
    "import os.path\n",
    "from data_manip.formats.mascaretgeo_file import MascaretGeoFile\n",
    "\n",
    "# File with a single reach\n",
    "mascgeo_file = MascaretGeoFile(os.path.join(os.environ['HOMETEL'],\n",
    "                                            'examples', 'mascaret', 'Test6', 'geometrie'),\n",
    "                               fformat='geo')\n",
    "print(mascgeo_file.summary())\n",
    "\n",
    "# File with multiples reaches\n",
    "mascgeo_file = MascaretGeoFile(os.path.join(os.environ['HOMETEL'],\n",
    "                                            'examples', 'mascaret', 'Test15', 'mascaret0.geo'))\n",
    "print(mascgeo_file.summary())"
   ]
  },
  {
   "cell_type": "markdown",
   "metadata": {},
   "source": [
    "## Opthyca result file"
   ]
  },
  {
   "cell_type": "markdown",
   "metadata": {},
   "source": [
    "Run some validation mascaret test cases such as `Test18` and `Test26` to have generate opt files ( respectively `sarap_ecr.opt` and `rezo_ecr.opt`)."
   ]
  },
  {
   "cell_type": "code",
   "execution_count": 2,
   "metadata": {
    "execution": {
     "iopub.execute_input": "2023-12-01T09:09:56.080621Z",
     "iopub.status.busy": "2023-12-01T09:09:56.080318Z",
     "iopub.status.idle": "2023-12-01T09:09:57.229867Z",
     "shell.execute_reply": "2023-12-01T09:09:57.227027Z"
    },
    "scrolled": true
   },
   "outputs": [
    {
     "name": "stdout",
     "output_type": "stream",
     "text": [
      "\r\n",
      "\r\n",
      "Loading Options and Configurations\r\n",
      "~~~~~~~~~~~~~~~~~~~~~~~~~~~~~~~~~~~~~~~~~~~~~~~~~~~~~~~~~~~~~~~~~~~~~~~~\r\n",
      "\r\n"
     ]
    },
    {
     "name": "stdout",
     "output_type": "stream",
     "text": [
      "          ___          _____ \r\n",
      "         / _ \\        | ____|\r\n",
      " __   __| (_) | _ __  | |__  \r\n",
      " \\ \\ / / > _ < | '_ \\ |___ \\ \r\n",
      "  \\ V / | (_) || |_) | ___) |\r\n",
      "   \\_/   \\___/ | .__/ |____/ \r\n",
      "               | |           \r\n",
      "               |_|           \r\n",
      "\r\n",
      "\r\n",
      "Running your CAS file(s) for:\r\n",
      "~~~~~~~~~~~~~~~~~~~~~~~~~~~~~~~~~~~~~~~~~~~~~~~~~~~~~~~~~~~~~~~~~~~~~~~~\r\n",
      "\r\n",
      "\r\n",
      "\r\n",
      "~~~~~~~~~~~~~~~~~~~~~~~~~~~~~~~~~~~~~~~~~~~~~~~~~~~~~~~~~~~~~~~~~~~~~~~~\r\n",
      "\r\n",
      "S11.gfortran.dyn: \r\n",
      "    \r\n",
      "\r\n",
      "    +> Scibian 11 dynamic build using GFortran 10.2.1 and Open MPI.\r\n",
      "\r\n",
      "    +> root:    /home/d60881/telemac\r\n",
      "    +> module: ad / api / artemis / bief\r\n",
      "               damocles  / gaia  / gretel  / hermes\r\n",
      "               identify_liq_bnd  / khione  / mascaret  / nestor\r\n",
      "               parallel  / partel  / postel3d  / special\r\n",
      "               stbtel  / telemac2d  / telemac3d  / tomawac\r\n",
      "               waqtel\r\n",
      "\r\n",
      "\r\n",
      "~~~~~~~~~~~~~~~~~~~~~~~~~~~~~~~~~~~~~~~~~~~~~~~~~~~~~~~~~~~~~~~~~~~~~~~~\r\n",
      "\r\n",
      "\r\n",
      "... processing the steering file\r\n"
     ]
    },
    {
     "name": "stdout",
     "output_type": "stream",
     "text": [
      "\r\n",
      "... checking parallelisation\r\n",
      "\r\n",
      "... handling temporary directories\r\n",
      "~+> Creating FichierCas.txt\r\n",
      "~+> Copying Abaques.txt\r\n",
      "~+> Copying Controle.txt\r\n",
      "~+> Copying dico_Courlis.txt\r\n",
      "[                                                                ]   0%  | ---s\r",
      "                                                                               \r",
      "[                                                                ]   0%  | ---s\r",
      "[\\\\\\\\\\\\\\\\\\\\\\\\\\\\\\\\                                                  ]  25%  | 1s\r",
      "[\\\\\\\\\\\\\\\\\\\\\\\\\\\\\\\\\\\\\\\\\\\\\\\\\\\\\\\\\\\\\\\\\\                                 ]  50%  | 1s\r",
      "                                                                               \r",
      "\r\n",
      "... checking the executable\r\n",
      "\r\n",
      "\r\n",
      "Running your simulation(s) :\r\n",
      "~~~~~~~~~~~~~~~~~~~~~~~~~~~~~~~~~~~~~~~~~~~~~~~~~~~~~~~~~~~~~~~~~~~~~~~~\r\n",
      "\r\n",
      "\r\n",
      "\r\n",
      "In /home/d60881/telemac/examples/mascaret/Test18:\r\n",
      "mpirun --use-hwthread-cpus -np 1 /home/d60881/telemac/builds/S11.gfortran.dyn/bin/mascaret\r\n",
      "\r\n",
      "\r\n"
     ]
    },
    {
     "name": "stdout",
     "output_type": "stream",
     "text": [
      " Fichiercas : FichierCas.txt\r\n",
      "\r\n",
      " TELEMAC-MASCARET V8P4R0 == Copyright (C) 2000-2022 EDF-CEREMA ==\r\n",
      "\r\n",
      " Data File : sarap.xcas\r\n",
      "\r\n"
     ]
    },
    {
     "name": "stdout",
     "output_type": "stream",
     "text": [
      " Study name : deversoir\r\n",
      "\r\n",
      " Hydraulic statistics (prior solve phase)\r\n",
      "    ------ Geometric parameters ------\r\n",
      "    Number of reach(es)       =            1\r\n",
      "    Number of cross-sections  =            8\r\n",
      "    Number of open boundaries =            2\r\n",
      "    Number of junction(s)     =            0\r\n",
      "    Number of inflow(s)       =           18\r\n",
      "    Number of lateral weir(s) =            0\r\n",
      "    Number of storage area(s) =            0\r\n",
      "    Number of link(s)         =            0\r\n",
      "    Number of dam(s)/weir(s)  =            0\r\n",
      "    ------ Numerical parameters ------\r\n",
      "    Number of 1D nodes (mesh) =          144\r\n",
      "    Computation Kernel        =            1\r\n",
      "    Initial time step         =      1.0E+00\r\n",
      "    Variable time step?       =            0\r\n",
      "    Number of time steps      =            2\r\n",
      "\r\n",
      " OptionCourlis F\r\n",
      " Start the Simulation...\r\n"
     ]
    },
    {
     "name": "stdout",
     "output_type": "stream",
     "text": [
      " Simulation ended successfully in    2.37060040E-02  s\r\n",
      " TEMPS PASSE   2.37129927E-02\r\n",
      " FIN CORRECTE DU CALCUL\r\n",
      "\r\n",
      "... merging separated result files\r\n",
      "\r\n",
      "... handling result files\r\n",
      "\r\n",
      "... deleting working dir\r\n",
      "\r\n",
      "\r\n",
      "\r\n",
      "My work is done\r\n",
      "\r\n",
      "\r\n"
     ]
    }
   ],
   "source": [
    "# Run Test18: ressaut\n",
    "HOMETEL = %env HOMETEL\n",
    "%cd -q {HOMETEL}/examples/mascaret/Test18\n",
    "!mascaret.py sarap.xcas"
   ]
  },
  {
   "cell_type": "code",
   "execution_count": 3,
   "metadata": {
    "execution": {
     "iopub.execute_input": "2023-12-01T09:09:57.239871Z",
     "iopub.status.busy": "2023-12-01T09:09:57.239184Z",
     "iopub.status.idle": "2023-12-01T09:09:58.616123Z",
     "shell.execute_reply": "2023-12-01T09:09:58.613264Z"
    }
   },
   "outputs": [
    {
     "name": "stdout",
     "output_type": "stream",
     "text": [
      "\r\n",
      "\r\n",
      "Loading Options and Configurations\r\n",
      "~~~~~~~~~~~~~~~~~~~~~~~~~~~~~~~~~~~~~~~~~~~~~~~~~~~~~~~~~~~~~~~~~~~~~~~~\r\n",
      "\r\n"
     ]
    },
    {
     "name": "stdout",
     "output_type": "stream",
     "text": [
      "          ___          _____ \r\n",
      "         / _ \\        | ____|\r\n",
      " __   __| (_) | _ __  | |__  \r\n",
      " \\ \\ / / > _ < | '_ \\ |___ \\ \r\n",
      "  \\ V / | (_) || |_) | ___) |\r\n",
      "   \\_/   \\___/ | .__/ |____/ \r\n",
      "               | |           \r\n",
      "               |_|           \r\n",
      "\r\n",
      "\r\n",
      "Running your CAS file(s) for:\r\n",
      "~~~~~~~~~~~~~~~~~~~~~~~~~~~~~~~~~~~~~~~~~~~~~~~~~~~~~~~~~~~~~~~~~~~~~~~~\r\n",
      "\r\n",
      "\r\n",
      "\r\n",
      "~~~~~~~~~~~~~~~~~~~~~~~~~~~~~~~~~~~~~~~~~~~~~~~~~~~~~~~~~~~~~~~~~~~~~~~~\r\n",
      "\r\n",
      "S11.gfortran.dyn: \r\n",
      "    \r\n",
      "\r\n",
      "    +> Scibian 11 dynamic build using GFortran 10.2.1 and Open MPI.\r\n",
      "\r\n",
      "    +> root:    /home/d60881/telemac\r\n",
      "    +> module: ad / api / artemis / bief\r\n",
      "               damocles  / gaia  / gretel  / hermes\r\n",
      "               identify_liq_bnd  / khione  / mascaret  / nestor\r\n",
      "               parallel  / partel  / postel3d  / special\r\n",
      "               stbtel  / telemac2d  / telemac3d  / tomawac\r\n",
      "               waqtel\r\n",
      "\r\n",
      "\r\n",
      "~~~~~~~~~~~~~~~~~~~~~~~~~~~~~~~~~~~~~~~~~~~~~~~~~~~~~~~~~~~~~~~~~~~~~~~~\r\n",
      "\r\n",
      "\r\n",
      "... processing the steering file\r\n"
     ]
    },
    {
     "name": "stdout",
     "output_type": "stream",
     "text": [
      "\r\n",
      "... checking parallelisation\r\n",
      "\r\n",
      "... handling temporary directories\r\n",
      "~+> Creating FichierCas.txt\r\n",
      "~+> Copying Abaques.txt\r\n",
      "~+> Copying Controle.txt\r\n",
      "~+> Copying dico_Courlis.txt\r\n",
      "[                                                                ]   0%  | ---s\r",
      "                                                                               \r",
      "[                                                                ]   0%  | ---s\r",
      "[\\\\\\\\\\\\\\\\\\\\\\\\\\\\\\\\                                                  ]  25%  | 1s\r",
      "[\\\\\\\\\\\\\\\\\\\\\\\\\\\\\\\\\\\\\\\\\\\\\\\\\\\\\\\\\\\\\\\\\\                                 ]  50%  | 1s\r",
      "                                                                               \r",
      "\r\n",
      "... checking the executable\r\n",
      "\r\n",
      "\r\n",
      "Running your simulation(s) :\r\n",
      "~~~~~~~~~~~~~~~~~~~~~~~~~~~~~~~~~~~~~~~~~~~~~~~~~~~~~~~~~~~~~~~~~~~~~~~~\r\n",
      "\r\n",
      "\r\n",
      "\r\n",
      "In /home/d60881/telemac/examples/mascaret/Test26:\r\n",
      "mpirun --use-hwthread-cpus -np 1 /home/d60881/telemac/builds/S11.gfortran.dyn/bin/mascaret\r\n",
      "\r\n",
      "\r\n"
     ]
    },
    {
     "name": "stdout",
     "output_type": "stream",
     "text": [
      " Fichiercas : FichierCas.txt\r\n",
      "\r\n",
      " TELEMAC-MASCARET V8P4R0 == Copyright (C) 2000-2022 EDF-CEREMA ==\r\n",
      "\r\n",
      " Data File : rezo.xcas\r\n",
      "\r\n"
     ]
    },
    {
     "name": "stdout",
     "output_type": "stream",
     "text": [
      " Study name : Etude hydraulique1d\r\n",
      "\r\n",
      " Hydraulic statistics (prior solve phase)\r\n",
      "    ------ Geometric parameters ------\r\n",
      "    Number of reach(es)       =            3\r\n",
      "    Number of cross-sections  =            6\r\n",
      "    Number of open boundaries =            3\r\n",
      "    Number of junction(s)     =            1\r\n",
      "    Number of inflow(s)       =            0\r\n",
      "    Number of lateral weir(s) =            0\r\n",
      "    Number of storage area(s) =            3\r\n",
      "    Number of link(s)         =            5\r\n",
      "    Number of dam(s)/weir(s)  =            0\r\n",
      "    ------ Numerical parameters ------\r\n",
      "    Number of 1D nodes (mesh) =           63\r\n",
      "    Computation Kernel        =            2\r\n",
      "    Initial time step         =      1.0E+01\r\n",
      "    Variable time step?       =            0\r\n",
      "    Reduced Momentum Equation?=            0\r\n",
      "    Number of time steps      =         1000\r\n",
      "\r\n",
      " OptionCourlis F\r\n",
      " Start the Simulation...\r\n"
     ]
    },
    {
     "name": "stdout",
     "output_type": "stream",
     "text": [
      " Simulation ended successfully in   0.197530001      s\r\n",
      " TEMPS PASSE  0.197975993\r\n",
      " FIN CORRECTE DU CALCUL\r\n",
      "\r\n",
      "... merging separated result files\r\n",
      "\r\n",
      "... handling result files\r\n",
      "\r\n",
      "... deleting working dir\r\n",
      "\r\n",
      "\r\n",
      "\r\n",
      "My work is done\r\n",
      "\r\n",
      "\r\n"
     ]
    }
   ],
   "source": [
    "# Run Test26: confluence\n",
    "HOMETEL = %env HOMETEL\n",
    "%cd -q {HOMETEL}/examples/mascaret/Test26\n",
    "!mascaret.py rezo.xcas"
   ]
  },
  {
   "cell_type": "code",
   "execution_count": 4,
   "metadata": {
    "execution": {
     "iopub.execute_input": "2023-12-01T09:09:58.625862Z",
     "iopub.status.busy": "2023-12-01T09:09:58.625104Z",
     "iopub.status.idle": "2023-12-01T09:09:58.698279Z",
     "shell.execute_reply": "2023-12-01T09:09:58.697655Z"
    },
    "scrolled": true
   },
   "outputs": [
    {
     "name": "stdout",
     "output_type": "stream",
     "text": [
      "~> MascaretFile: /home/d60881/telemac/examples/mascaret/Test26/rezo_ecr.opt (mode=r)\n",
      "    - Reach #1 (Reach_1) with 21 sections\n",
      "        0) Section #1 (Profil_1) at pk 0.000000\n",
      "        1) Section #2 (Profil_2) at pk 50.000000\n",
      "        2) Section #3 (Profil_3) at pk 100.000000\n",
      "        3) Section #4 (Profil_4) at pk 150.000000\n",
      "        4) Section #5 (Profil_5) at pk 200.000000\n",
      "        5) Section #6 (Profil_6) at pk 250.000000\n",
      "        6) Section #7 (Profil_7) at pk 300.000000\n",
      "        7) Section #8 (Profil_8) at pk 350.000000\n",
      "        8) Section #9 (Profil_9) at pk 400.000000\n",
      "        9) Section #10 (Profil_10) at pk 450.000000\n",
      "        10) Section #11 (Profil_11) at pk 500.000000\n",
      "        11) Section #12 (Profil_12) at pk 550.000000\n",
      "        12) Section #13 (Profil_13) at pk 600.000000\n",
      "        13) Section #14 (Profil_14) at pk 650.000000\n",
      "        14) Section #15 (Profil_15) at pk 700.000000\n",
      "        15) Section #16 (Profil_16) at pk 750.000000\n",
      "        16) Section #17 (Profil_17) at pk 800.000000\n",
      "        17) Section #18 (Profil_18) at pk 850.000000\n",
      "        18) Section #19 (Profil_19) at pk 900.000000\n",
      "        19) Section #20 (Profil_20) at pk 950.000000\n",
      "        20) Section #21 (Profil_21) at pk 1000.000000\n",
      "    - Reach #2 (Reach_2) with 21 sections\n",
      "        0) Section #22 (Profil_22) at pk 1001.000000\n",
      "        1) Section #23 (Profil_23) at pk 1051.000000\n",
      "        2) Section #24 (Profil_24) at pk 1101.000000\n",
      "        3) Section #25 (Profil_25) at pk 1151.000000\n",
      "        4) Section #26 (Profil_26) at pk 1201.000000\n",
      "        5) Section #27 (Profil_27) at pk 1251.000000\n",
      "        6) Section #28 (Profil_28) at pk 1301.000000\n",
      "        7) Section #29 (Profil_29) at pk 1351.000000\n",
      "        8) Section #30 (Profil_30) at pk 1401.000000\n",
      "        9) Section #31 (Profil_31) at pk 1451.000000\n",
      "        10) Section #32 (Profil_32) at pk 1501.000000\n",
      "        11) Section #33 (Profil_33) at pk 1551.000000\n",
      "        12) Section #34 (Profil_34) at pk 1601.000000\n",
      "        13) Section #35 (Profil_35) at pk 1651.000000\n",
      "        14) Section #36 (Profil_36) at pk 1701.000000\n",
      "        15) Section #37 (Profil_37) at pk 1751.000000\n",
      "        16) Section #38 (Profil_38) at pk 1801.000000\n",
      "        17) Section #39 (Profil_39) at pk 1851.000000\n",
      "        18) Section #40 (Profil_40) at pk 1901.000000\n",
      "        19) Section #41 (Profil_41) at pk 1951.000000\n",
      "        20) Section #42 (Profil_42) at pk 2001.000000\n",
      "    - Reach #3 (Reach_3) with 21 sections\n",
      "        0) Section #43 (Profil_43) at pk 2002.000000\n",
      "        1) Section #44 (Profil_44) at pk 2052.000000\n",
      "        2) Section #45 (Profil_45) at pk 2102.000000\n",
      "        3) Section #46 (Profil_46) at pk 2152.000000\n",
      "        4) Section #47 (Profil_47) at pk 2202.000000\n",
      "        5) Section #48 (Profil_48) at pk 2252.000000\n",
      "        6) Section #49 (Profil_49) at pk 2302.000000\n",
      "        7) Section #50 (Profil_50) at pk 2352.000000\n",
      "        8) Section #51 (Profil_51) at pk 2402.000000\n",
      "        9) Section #52 (Profil_52) at pk 2452.000000\n",
      "        10) Section #53 (Profil_53) at pk 2502.000000\n",
      "        11) Section #54 (Profil_54) at pk 2552.000000\n",
      "        12) Section #55 (Profil_55) at pk 2602.000000\n",
      "        13) Section #56 (Profil_56) at pk 2652.000000\n",
      "        14) Section #57 (Profil_57) at pk 2702.000000\n",
      "        15) Section #58 (Profil_58) at pk 2752.000000\n",
      "        16) Section #59 (Profil_59) at pk 2802.000000\n",
      "        17) Section #60 (Profil_60) at pk 2852.000000\n",
      "        18) Section #61 (Profil_61) at pk 2902.000000\n",
      "        19) Section #62 (Profil_62) at pk 2952.000000\n",
      "        20) Section #63 (Profil_63) at pk 3002.000000\n",
      "10 variables:\n",
      "    - Cote du fond (m) | ZREF \n",
      "    - Cote de l eau (m) | Z \n",
      "    - Debit mineur (m3/s) | QMIN \n",
      "    - Debit majeur (m3/s) | QMAJ \n",
      "    - Coefficient de frottement mineur (m1/3/s) | KMIN \n",
      "    - Coefficient de frottement majeur (m1/3/s) | KMAJ \n",
      "    - Nombre de Froude () | FR \n",
      "    - Vitesse mineure (m/s) | VMIN \n",
      "    - Hauteur d'eau (m) | Y \n",
      "    - Debit total (m3/s) | Q \n",
      "101 temporal frames:\n",
      "    - 0) 0.000000\n",
      "    - 1) 100.000000\n",
      "    - 2) 200.000000\n",
      "    - 3) 300.000000\n",
      "    - 4) 400.000000\n",
      "    - 5) 500.000000\n",
      "    - 6) 600.000000\n",
      "    - 7) 700.000000\n",
      "    - 8) 800.000000\n",
      "    - 9) 900.000000\n",
      "    - 10) 1000.000000\n",
      "    - 11) 1100.000000\n",
      "    - 12) 1200.000000\n",
      "    - 13) 1300.000000\n",
      "    - 14) 1400.000000\n",
      "    - 15) 1500.000000\n",
      "    - 16) 1600.000000\n",
      "    - 17) 1700.000000\n",
      "    - 18) 1800.000000\n",
      "    - 19) 1900.000000\n",
      "    - 20) 2000.000000\n",
      "    - 21) 2100.000000\n",
      "    - 22) 2200.000000\n",
      "    - 23) 2300.000000\n",
      "    - 24) 2400.000000\n",
      "    - 25) 2500.000000\n",
      "    - 26) 2600.000000\n",
      "    - 27) 2700.000000\n",
      "    - 28) 2800.000000\n",
      "    - 29) 2900.000000\n",
      "    - 30) 3000.000000\n",
      "    - 31) 3100.000000\n",
      "    - 32) 3200.000000\n",
      "    - 33) 3300.000000\n",
      "    - 34) 3400.000000\n",
      "    - 35) 3500.000000\n",
      "    - 36) 3600.000000\n",
      "    - 37) 3700.000000\n",
      "    - 38) 3800.000000\n",
      "    - 39) 3900.000000\n",
      "    - 40) 4000.000000\n",
      "    - 41) 4100.000000\n",
      "    - 42) 4200.000000\n",
      "    - 43) 4300.000000\n",
      "    - 44) 4400.000000\n",
      "    - 45) 4500.000000\n",
      "    - 46) 4600.000000\n",
      "    - 47) 4700.000000\n",
      "    - 48) 4800.000000\n",
      "    - 49) 4900.000000\n",
      "    - 50) 5000.000000\n",
      "    - 51) 5100.000000\n",
      "    - 52) 5200.000000\n",
      "    - 53) 5300.000000\n",
      "    - 54) 5400.000000\n",
      "    - 55) 5500.000000\n",
      "    - 56) 5600.000000\n",
      "    - 57) 5700.000000\n",
      "    - 58) 5800.000000\n",
      "    - 59) 5900.000000\n",
      "    - 60) 6000.000000\n",
      "    - 61) 6100.000000\n",
      "    - 62) 6200.000000\n",
      "    - 63) 6300.000000\n",
      "    - 64) 6400.000000\n",
      "    - 65) 6500.000000\n",
      "    - 66) 6600.000000\n",
      "    - 67) 6700.000000\n",
      "    - 68) 6800.000000\n",
      "    - 69) 6900.000000\n",
      "    - 70) 7000.000000\n",
      "    - 71) 7100.000000\n",
      "    - 72) 7200.000000\n",
      "    - 73) 7300.000000\n",
      "    - 74) 7400.000000\n",
      "    - 75) 7500.000000\n",
      "    - 76) 7600.000000\n",
      "    - 77) 7700.000000\n",
      "    - 78) 7800.000000\n",
      "    - 79) 7900.000000\n",
      "    - 80) 8000.000000\n",
      "    - 81) 8100.000000\n",
      "    - 82) 8200.000000\n",
      "    - 83) 8300.000000\n",
      "    - 84) 8400.000000\n",
      "    - 85) 8500.000000\n",
      "    - 86) 8600.000000\n",
      "    - 87) 8700.000000\n",
      "    - 88) 8800.000000\n",
      "    - 89) 8900.000000\n",
      "    - 90) 9000.000000\n",
      "    - 91) 9100.000000\n",
      "    - 92) 9200.000000\n",
      "    - 93) 9300.000000\n",
      "    - 94) 9400.000000\n",
      "    - 95) 9500.000000\n",
      "    - 96) 9600.000000\n",
      "    - 97) 9700.000000\n",
      "    - 98) 9800.000000\n",
      "    - 99) 9900.000000\n",
      "    - 100) 10000.000000\n",
      "\n"
     ]
    }
   ],
   "source": [
    "import os.path\n",
    "from data_manip.formats.mascaret_file import MascaretFile\n",
    "\n",
    "masc_file = MascaretFile(os.path.join(os.environ['HOMETEL'], 'examples', 'mascaret', 'Test26', 'rezo_ecr.opt'))\n",
    "print(masc_file.summary())"
   ]
  },
  {
   "cell_type": "code",
   "execution_count": 5,
   "metadata": {
    "execution": {
     "iopub.execute_input": "2023-12-01T09:09:58.700236Z",
     "iopub.status.busy": "2023-12-01T09:09:58.700079Z",
     "iopub.status.idle": "2023-12-01T09:09:58.705452Z",
     "shell.execute_reply": "2023-12-01T09:09:58.705075Z"
    }
   },
   "outputs": [
    {
     "data": {
      "text/plain": [
       "OrderedDict([(1, Reach #1 (Reach_1) with 21 sections),\n",
       "             (2, Reach #2 (Reach_2) with 21 sections),\n",
       "             (3, Reach #3 (Reach_3) with 21 sections)])"
      ]
     },
     "execution_count": 5,
     "metadata": {},
     "output_type": "execute_result"
    }
   ],
   "source": [
    "# Get reaches\n",
    "masc_file.reaches"
   ]
  },
  {
   "cell_type": "code",
   "execution_count": 6,
   "metadata": {
    "execution": {
     "iopub.execute_input": "2023-12-01T09:09:58.707275Z",
     "iopub.status.busy": "2023-12-01T09:09:58.707089Z",
     "iopub.status.idle": "2023-12-01T09:09:58.710987Z",
     "shell.execute_reply": "2023-12-01T09:09:58.710618Z"
    }
   },
   "outputs": [
    {
     "data": {
      "text/plain": [
       "OrderedDict([(1, Section #1 (Profil_1) at pk 0.000000),\n",
       "             (2, Section #2 (Profil_2) at pk 50.000000),\n",
       "             (3, Section #3 (Profil_3) at pk 100.000000),\n",
       "             (4, Section #4 (Profil_4) at pk 150.000000),\n",
       "             (5, Section #5 (Profil_5) at pk 200.000000),\n",
       "             (6, Section #6 (Profil_6) at pk 250.000000),\n",
       "             (7, Section #7 (Profil_7) at pk 300.000000),\n",
       "             (8, Section #8 (Profil_8) at pk 350.000000),\n",
       "             (9, Section #9 (Profil_9) at pk 400.000000),\n",
       "             (10, Section #10 (Profil_10) at pk 450.000000),\n",
       "             (11, Section #11 (Profil_11) at pk 500.000000),\n",
       "             (12, Section #12 (Profil_12) at pk 550.000000),\n",
       "             (13, Section #13 (Profil_13) at pk 600.000000),\n",
       "             (14, Section #14 (Profil_14) at pk 650.000000),\n",
       "             (15, Section #15 (Profil_15) at pk 700.000000),\n",
       "             (16, Section #16 (Profil_16) at pk 750.000000),\n",
       "             (17, Section #17 (Profil_17) at pk 800.000000),\n",
       "             (18, Section #18 (Profil_18) at pk 850.000000),\n",
       "             (19, Section #19 (Profil_19) at pk 900.000000),\n",
       "             (20, Section #20 (Profil_20) at pk 950.000000),\n",
       "             (21, Section #21 (Profil_21) at pk 1000.000000)])"
      ]
     },
     "execution_count": 6,
     "metadata": {},
     "output_type": "execute_result"
    }
   ],
   "source": [
    "# Get sections of reach `1`\n",
    "masc_file.reaches[1].sections"
   ]
  },
  {
   "cell_type": "code",
   "execution_count": 7,
   "metadata": {
    "execution": {
     "iopub.execute_input": "2023-12-01T09:09:58.712802Z",
     "iopub.status.busy": "2023-12-01T09:09:58.712631Z",
     "iopub.status.idle": "2023-12-01T09:09:58.715813Z",
     "shell.execute_reply": "2023-12-01T09:09:58.715459Z"
    }
   },
   "outputs": [
    {
     "data": {
      "text/plain": [
       "Section #1 (Profil_1) at pk 0.000000"
      ]
     },
     "execution_count": 7,
     "metadata": {},
     "output_type": "execute_result"
    }
   ],
   "source": [
    "# Get section `1` of reach `1`\n",
    "masc_file.reaches[1].sections[1]"
   ]
  },
  {
   "cell_type": "markdown",
   "metadata": {},
   "source": [
    "## Longitudinal profile"
   ]
  },
  {
   "cell_type": "code",
   "execution_count": 8,
   "metadata": {
    "execution": {
     "iopub.execute_input": "2023-12-01T09:09:58.717616Z",
     "iopub.status.busy": "2023-12-01T09:09:58.717437Z",
     "iopub.status.idle": "2023-12-01T09:09:59.091960Z",
     "shell.execute_reply": "2023-12-01T09:09:59.091418Z"
    }
   },
   "outputs": [
    {
     "data": {
      "image/png": "[encoded data removed]",
      "text/plain": [
       "<Figure size 1000x800 with 1 Axes>"
      ]
     },
     "metadata": {},
     "output_type": "display_data"
    }
   ],
   "source": [
    "import matplotlib.pyplot as plt\n",
    "import os.path\n",
    "\n",
    "from data_manip.formats.mascaret_file import MascaretFile\n",
    "from postel.plot1d import plot1d\n",
    "\n",
    "\n",
    "# Selection to display\n",
    "masc_file = MascaretFile(os.path.join(os.environ['HOMETEL'], 'examples', 'mascaret', 'Test18', 'sarap_ecr.opt'))\n",
    "varnames = ['Cote de l eau', 'Cote du fond']\n",
    "reach_id = 1  # first reach\n",
    "time_index = -1  # last frame\n",
    "reach = masc_file.reaches[reach_id]\n",
    "\n",
    "fig, ax = plt.subplots(figsize=(10,8))\n",
    "\n",
    "for varname in varnames:\n",
    "    var_pos = masc_file.get_position_var(varname)\n",
    "    values = masc_file.get_values_at_reach(time_index, reach_id, var_pos)\n",
    "    plot1d(ax, reach.get_section_pk_list(), values,\n",
    "           plot_label='%s' % varname,\n",
    "           x_label='Distance (m)',\n",
    "           y_label='Cote (m)')\n",
    "\n",
    "# Displaying legend\n",
    "ax.legend()\n",
    "\n",
    "# Showing figure\n",
    "plt.show()\n",
    "\n",
    "del plt\n",
    "del masc_file"
   ]
  },
  {
   "cell_type": "markdown",
   "metadata": {},
   "source": [
    "## Temporal profile"
   ]
  },
  {
   "cell_type": "code",
   "execution_count": 9,
   "metadata": {
    "execution": {
     "iopub.execute_input": "2023-12-01T09:09:59.094049Z",
     "iopub.status.busy": "2023-12-01T09:09:59.093822Z",
     "iopub.status.idle": "2023-12-01T09:09:59.417239Z",
     "shell.execute_reply": "2023-12-01T09:09:59.416702Z"
    }
   },
   "outputs": [
    {
     "data": {
      "image/png": "[encoded data removed]",
      "text/plain": [
       "<Figure size 1000x800 with 1 Axes>"
      ]
     },
     "metadata": {},
     "output_type": "display_data"
    }
   ],
   "source": [
    "import matplotlib.pyplot as plt\n",
    "import os.path\n",
    "\n",
    "from data_manip.formats.mascaret_file import MascaretFile\n",
    "from postel.plot1d import plot1d\n",
    "\n",
    "\n",
    "# Selection to display\n",
    "masc_file = MascaretFile(os.path.join(os.environ['HOMETEL'], 'examples', 'mascaret', 'Test26', 'rezo_ecr.opt'))\n",
    "varname = 'Cote de l eau'\n",
    "reach_id = 2  # first reach\n",
    "reach = masc_file.reaches[reach_id]\n",
    "sections = reach[:5]  # First 5 sections of requested reach\n",
    "\n",
    "# Build plot\n",
    "fig, ax = plt.subplots(figsize=(10, 8))\n",
    "\n",
    "var_pos = masc_file.get_position_var(varname)\n",
    "for section in sections:\n",
    "    values = masc_file.get_series(reach_id, section.id, [var_pos])\n",
    "    plot1d(ax, masc_file.times, values,\n",
    "           plot_label='%s' % section.name,\n",
    "           x_label='Temps (s)',\n",
    "           y_label='Z (m)')\n",
    "\n",
    "# Displaying legend\n",
    "ax.legend()\n",
    "\n",
    "# Showing figure\n",
    "plt.show()\n",
    "\n",
    "del plt\n",
    "del masc_file"
   ]
  },
  {
   "cell_type": "markdown",
   "metadata": {},
   "source": [
    "## creation .lig file (LIDOP format)\n",
    "\n",
    "Write a LIDOP format file for compute reprise"
   ]
  },
  {
   "cell_type": "code",
   "execution_count": 10,
   "metadata": {
    "execution": {
     "iopub.execute_input": "2023-12-01T09:09:59.419237Z",
     "iopub.status.busy": "2023-12-01T09:09:59.419053Z",
     "iopub.status.idle": "2023-12-01T09:09:59.447461Z",
     "shell.execute_reply": "2023-12-01T09:09:59.446943Z"
    }
   },
   "outputs": [],
   "source": [
    "import os.path\n",
    "from data_manip.formats.mascaret_file import MascaretFile\n",
    "\n",
    "masc_file = MascaretFile(os.path.join(os.environ['HOMETEL'], 'examples', 'mascaret', 'Test26', 'rezo_ecr.opt'))\n",
    "# the last time_step for .lig file\n",
    "id_time = masc_file.ntimestep - 1\n",
    "# id_time = -1 # give the same result\n",
    "masc_file.export_as_lig('rezo_ecr.lig', id_time)"
   ]
  },
  {
   "cell_type": "markdown",
   "metadata": {},
   "source": [
    "Display the .lig file:"
   ]
  },
  {
   "cell_type": "code",
   "execution_count": 11,
   "metadata": {
    "execution": {
     "iopub.execute_input": "2023-12-01T09:09:59.449517Z",
     "iopub.status.busy": "2023-12-01T09:09:59.449214Z",
     "iopub.status.idle": "2023-12-01T09:09:59.452200Z",
     "shell.execute_reply": "2023-12-01T09:09:59.451821Z"
    }
   },
   "outputs": [
    {
     "name": "stdout",
     "output_type": "stream",
     "text": [
      "RESULTATS CALCUL,DATE : 01/01/1900 00:00\n",
      "FICHIER RESULTAT MASCARET                                               \n",
      "----------------------------------------------------------------------- \n",
      " IMAX  = 63   NBBIEF= 3  \n",
      " I1,I2 = 1    21   22   42   43   63   \n",
      " X\n",
      "     0.000000    50.000000   100.000000   150.000000   200.000000\n",
      "   250.000000   300.000000   350.000000   400.000000   450.000000\n",
      "   500.000000   550.000000   600.000000   650.000000   700.000000\n",
      "   750.000000   800.000000   850.000000   900.000000   950.000000\n",
      "  1000.000000  1001.000000  1051.000000  1101.000000  1151.000000\n",
      "  1201.000000  1251.000000  1301.000000  1351.000000  1401.000000\n",
      "  1451.000000  1501.000000  1551.000000  1601.000000  1651.000000\n",
      "  1701.000000  1751.000000  1801.000000  1851.000000  1901.000000\n",
      "  1951.000000  2001.000000  2002.000000  2052.000000  2102.000000\n",
      "  2152.000000  2202.000000  2252.000000  2302.000000  2352.000000\n",
      "  2402.000000  2452.000000  2502.000000  2552.000000  2602.000000\n",
      "  2652.000000  2702.000000  2752.000000  2802.000000  2852.000000\n",
      "  2902.000000  2952.000000  3002.000000\n",
      " Z\n",
      "    12.204000    12.202000    12.201000    12.199000    12.197000\n",
      "    12.195000    12.193000    12.191000    12.189000    12.187000\n",
      "    12.185000    12.185000    12.183000    12.181000    12.179000\n",
      "    12.177000    12.175000    12.173000    12.171000    12.169000\n",
      "    12.167000    12.204000    12.202000    12.200000    12.198000\n",
      "    12.196000    12.195000    12.193000    12.191000    12.189000\n",
      "    12.187000    12.185000    12.185000    12.183000    12.181000\n",
      "    12.179000    12.177000    12.175000    12.173000    12.171000\n",
      "    12.169000    12.167000    12.167000    12.159000    12.151000\n",
      "    12.142000    12.134000    12.125000    12.117000    12.108000\n",
      "    12.099000    12.091000    12.082000    12.082000    12.073000\n",
      "    12.064000    12.055000    12.046000    12.037000    12.028000\n",
      "    12.019000    12.009000    12.000000\n",
      " Q\n",
      "   400.000000   400.003000   400.006000   400.008000   400.011000\n",
      "   400.014000   400.017000   400.020000   400.022000   400.025000\n",
      "   400.028000   412.845000   412.847000   412.850000   412.853000\n",
      "   412.856000   412.858000   412.861000   412.863000   412.866000\n",
      "   412.869000   400.000000   400.003000   400.005000   400.008000\n",
      "   400.011000   400.013000   400.016000   400.019000   400.021000\n",
      "   400.024000   400.026000   408.129000   408.132000   408.134000\n",
      "   408.137000   408.140000   408.142000   408.145000   408.147000\n",
      "   408.150000   408.152000   821.021000   821.023000   821.026000\n",
      "   821.028000   821.030000   821.032000   821.034000   821.036000\n",
      "   821.038000   821.039000   821.041000   826.486000   826.488000\n",
      "   826.489000   826.490000   826.491000   826.491000   826.492000\n",
      "   826.492000   826.493000   826.493000\n",
      " FIN\n",
      "\n"
     ]
    }
   ],
   "source": [
    "with open('rezo_ecr.lig', 'r') as f:\n",
    "    print(f.read())"
   ]
  },
  {
   "cell_type": "markdown",
   "metadata": {},
   "source": [
    "## Creation opthyca file (OPTHYCA format)\n",
    "\n",
    "This could be interesting if you reduce the variable number or the time step number in the mascaret results file"
   ]
  },
  {
   "cell_type": "code",
   "execution_count": 12,
   "metadata": {
    "execution": {
     "iopub.execute_input": "2023-12-01T09:09:59.454045Z",
     "iopub.status.busy": "2023-12-01T09:09:59.453864Z",
     "iopub.status.idle": "2023-12-01T09:09:59.483165Z",
     "shell.execute_reply": "2023-12-01T09:09:59.482663Z"
    }
   },
   "outputs": [
    {
     "name": "stdout",
     "output_type": "stream",
     "text": [
      "vars_indexes =  [0, 1, 9]\n",
      "times_indexes =  [0, -1]\n"
     ]
    }
   ],
   "source": [
    "import os.path\n",
    "from data_manip.formats.mascaret_file import MascaretFile\n",
    "\n",
    "path_file = os.path.join(os.environ['HOMETEL'], 'examples', 'mascaret', 'Test26')\n",
    "\n",
    "masc_file = MascaretFile(os.path.join(path_file, 'rezo_ecr.opt'))\n",
    "\n",
    "# List of time index \n",
    "times_indexes=[0,-1]\n",
    "# [initialisation time step, last time step]\n",
    "vars_indexes=[]\n",
    "# get position with variable name\n",
    "vars_indexes.append(masc_file.get_position_var(\"Cote du fond\"))\n",
    "vars_indexes.append(masc_file.get_position_var(\"Cote de l eau\"))\n",
    "# get position with abbreviation of variable name\n",
    "vars_indexes.append(masc_file.get_position_var_abbr(\"Q\"))\n",
    "print('vars_indexes = ',vars_indexes)\n",
    "print('times_indexes = ',times_indexes)\n",
    "\n",
    "# Write a new file\n",
    "masc_file.write_optfile(os.path.join(path_file, 'rezo_ecr_ZQ.opt'), times_indexes, vars_indexes)\n",
    "\n",
    "del masc_file"
   ]
  },
  {
   "cell_type": "markdown",
   "metadata": {},
   "source": [
    "Check the new file which is created."
   ]
  },
  {
   "cell_type": "code",
   "execution_count": 13,
   "metadata": {
    "execution": {
     "iopub.execute_input": "2023-12-01T09:09:59.485087Z",
     "iopub.status.busy": "2023-12-01T09:09:59.484904Z",
     "iopub.status.idle": "2023-12-01T09:09:59.489280Z",
     "shell.execute_reply": "2023-12-01T09:09:59.488908Z"
    }
   },
   "outputs": [
    {
     "name": "stdout",
     "output_type": "stream",
     "text": [
      "~> MascaretFile: /home/d60881/telemac/examples/mascaret/Test26/rezo_ecr_ZQ.opt (mode=r)\n",
      "    - Reach #1 (Reach_1) with 21 sections\n",
      "        0) Section #1 (Profil_1) at pk 0.000000\n",
      "        1) Section #2 (Profil_2) at pk 50.000000\n",
      "        2) Section #3 (Profil_3) at pk 100.000000\n",
      "        3) Section #4 (Profil_4) at pk 150.000000\n",
      "        4) Section #5 (Profil_5) at pk 200.000000\n",
      "        5) Section #6 (Profil_6) at pk 250.000000\n",
      "        6) Section #7 (Profil_7) at pk 300.000000\n",
      "        7) Section #8 (Profil_8) at pk 350.000000\n",
      "        8) Section #9 (Profil_9) at pk 400.000000\n",
      "        9) Section #10 (Profil_10) at pk 450.000000\n",
      "        10) Section #11 (Profil_11) at pk 500.000000\n",
      "        11) Section #12 (Profil_12) at pk 550.000000\n",
      "        12) Section #13 (Profil_13) at pk 600.000000\n",
      "        13) Section #14 (Profil_14) at pk 650.000000\n",
      "        14) Section #15 (Profil_15) at pk 700.000000\n",
      "        15) Section #16 (Profil_16) at pk 750.000000\n",
      "        16) Section #17 (Profil_17) at pk 800.000000\n",
      "        17) Section #18 (Profil_18) at pk 850.000000\n",
      "        18) Section #19 (Profil_19) at pk 900.000000\n",
      "        19) Section #20 (Profil_20) at pk 950.000000\n",
      "        20) Section #21 (Profil_21) at pk 1000.000000\n",
      "    - Reach #2 (Reach_2) with 21 sections\n",
      "        0) Section #22 (Profil_22) at pk 1001.000000\n",
      "        1) Section #23 (Profil_23) at pk 1051.000000\n",
      "        2) Section #24 (Profil_24) at pk 1101.000000\n",
      "        3) Section #25 (Profil_25) at pk 1151.000000\n",
      "        4) Section #26 (Profil_26) at pk 1201.000000\n",
      "        5) Section #27 (Profil_27) at pk 1251.000000\n",
      "        6) Section #28 (Profil_28) at pk 1301.000000\n",
      "        7) Section #29 (Profil_29) at pk 1351.000000\n",
      "        8) Section #30 (Profil_30) at pk 1401.000000\n",
      "        9) Section #31 (Profil_31) at pk 1451.000000\n",
      "        10) Section #32 (Profil_32) at pk 1501.000000\n",
      "        11) Section #33 (Profil_33) at pk 1551.000000\n",
      "        12) Section #34 (Profil_34) at pk 1601.000000\n",
      "        13) Section #35 (Profil_35) at pk 1651.000000\n",
      "        14) Section #36 (Profil_36) at pk 1701.000000\n",
      "        15) Section #37 (Profil_37) at pk 1751.000000\n",
      "        16) Section #38 (Profil_38) at pk 1801.000000\n",
      "        17) Section #39 (Profil_39) at pk 1851.000000\n",
      "        18) Section #40 (Profil_40) at pk 1901.000000\n",
      "        19) Section #41 (Profil_41) at pk 1951.000000\n",
      "        20) Section #42 (Profil_42) at pk 2001.000000\n",
      "    - Reach #3 (Reach_3) with 21 sections\n",
      "        0) Section #43 (Profil_43) at pk 2002.000000\n",
      "        1) Section #44 (Profil_44) at pk 2052.000000\n",
      "        2) Section #45 (Profil_45) at pk 2102.000000\n",
      "        3) Section #46 (Profil_46) at pk 2152.000000\n",
      "        4) Section #47 (Profil_47) at pk 2202.000000\n",
      "        5) Section #48 (Profil_48) at pk 2252.000000\n",
      "        6) Section #49 (Profil_49) at pk 2302.000000\n",
      "        7) Section #50 (Profil_50) at pk 2352.000000\n",
      "        8) Section #51 (Profil_51) at pk 2402.000000\n",
      "        9) Section #52 (Profil_52) at pk 2452.000000\n",
      "        10) Section #53 (Profil_53) at pk 2502.000000\n",
      "        11) Section #54 (Profil_54) at pk 2552.000000\n",
      "        12) Section #55 (Profil_55) at pk 2602.000000\n",
      "        13) Section #56 (Profil_56) at pk 2652.000000\n",
      "        14) Section #57 (Profil_57) at pk 2702.000000\n",
      "        15) Section #58 (Profil_58) at pk 2752.000000\n",
      "        16) Section #59 (Profil_59) at pk 2802.000000\n",
      "        17) Section #60 (Profil_60) at pk 2852.000000\n",
      "        18) Section #61 (Profil_61) at pk 2902.000000\n",
      "        19) Section #62 (Profil_62) at pk 2952.000000\n",
      "        20) Section #63 (Profil_63) at pk 3002.000000\n",
      "3 variables:\n",
      "    - Cote du fond (m) | ZREF \n",
      "    - Cote de l eau (m) | Z \n",
      "    - Debit total (m3/s) | Q \n",
      "2 temporal frames:\n",
      "    - 0) 0.000000\n",
      "    - 1) 10000.000000\n",
      "\n"
     ]
    }
   ],
   "source": [
    "# check new file \n",
    "masc_file_new = MascaretFile(os.path.join(path_file, 'rezo_ecr_ZQ.opt'))\n",
    "print(masc_file_new.summary())\n",
    "del masc_file_new"
   ]
  },
  {
   "cell_type": "code",
   "execution_count": 14,
   "metadata": {
    "execution": {
     "iopub.execute_input": "2023-12-01T09:09:59.491048Z",
     "iopub.status.busy": "2023-12-01T09:09:59.490868Z",
     "iopub.status.idle": "2023-12-01T09:09:59.493693Z",
     "shell.execute_reply": "2023-12-01T09:09:59.493306Z"
    }
   },
   "outputs": [
    {
     "name": "stdout",
     "output_type": "stream",
     "text": [
      "[variables]\n",
      "\"Cote du fond\";\"ZREF\";\"m\";0\n",
      "\"Cote de l eau\";\"Z\";\"m\";0\n",
      "\"Debit total\";\"Q\";\"m3/s\";0\n",
      "[resultats]\n",
      "0.0;\" 1\";\"    1\";0.0;6.0;12.204;400.0 \n",
      "0.0;\" 1\";\"    2\";50.0;6.0;12.202;400.0 \n",
      "0.0;\" 1\";\"    3\";100.0;6.0;12.2;400.0 \n",
      "0.0;\" 1\";\"    4\";150.0;6.0;12.198;400.0 \n",
      "0.0;\" 1\";\"    5\";200.0;6.0;12.196;400.0 \n",
      "0.0;\" 1\";\"    6\";250.0;6.0;12.194;400.0 \n",
      "0.0;\" 1\";\"    7\";300.0;6.0;12.193;400.0 \n",
      "0.0;\" 1\";\"    8\";350.0;6.0;12.191;400.0 \n",
      "0.0;\" 1\";\"    9\";400.0;6.0;12.189;400.0 \n",
      "0.0;\" 1\";\"   10\";450.0;6.0;12.187;400.0 \n",
      "0.0;\" 1\";\"   11\";500.0;6.0;12.185;400.0 \n",
      "0.0;\" 1\";\"   12\";550.0;6.0;12.183;400.0 \n",
      "0.0;\" 1\";\"   13\";600.0;6.0;12.181;400.0 \n",
      "0.0;\" 1\";\"   14\";650.0;6.0;12.179;400.0 \n",
      "0.0;\" 1\";\"   15\";700.0;6.0;12.177;400.0 \n",
      "0.0;\" 1\";\"   16\";750.0;6.0;12.175;400.0 \n",
      "0.0;\" 1\";\"   17\";800.0;6.0;12.174;400.0 \n",
      "0.0;\" 1\";\"   18\";850.0;6.0;12.172;400.0 \n",
      "0.0;\" 1\";\"   19\";900.0;6.0;12.17;400.0 \n",
      "0.0;\" 1\";\"   20\";950.0;6.0;12.168;400.0 \n",
      "0.0;\" 1\";\"   21\";1000.0;6.0;12.166;400.0 \n",
      "0.0;\" 2\";\"   22\";1001.0;6.0;12.204;400.0 \n",
      "0.0;\" 2\";\"   23\";1051.0;6.0;12.202;400.0 \n",
      "0.0;\" 2\";\"   24\";1101.0;6.0;12.2;400.0 \n",
      "0.0;\" 2\";\"   25\";1151.0;6.0;12.198;400.0 \n",
      "0.0;\" 2\";\"   26\";1201.0;6.0;12.196;400.0 \n",
      "0.0;\" 2\";\"   27\";1251.0;6.0;12.194;400.0 \n",
      "0.0;\" 2\";\"   28\";1301.0;6.0;12.193;400.0 \n",
      "0.0;\" 2\";\"   29\";1351.0;6.0;12.191;400.0 \n",
      "0.0;\" 2\";\"   30\";1401.0;6.0;12.189;400.0 \n",
      "0.0;\" 2\";\"   31\";1451.0;6.0;12.187;400.0 \n",
      "0.0;\" 2\";\"   32\";1501.0;6.0;12.185;400.0 \n",
      "0.0;\" 2\";\"   33\";1551.0;6.0;12.183;400.0 \n",
      "0.0;\" 2\";\"   34\";1601.0;6.0;12.181;400.0 \n",
      "0.0;\" 2\";\"   35\";1651.0;6.0;12.179;400.0 \n",
      "0.0;\" 2\";\"   36\";1701.0;6.0;12.177;400.0 \n",
      "0.0;\" 2\";\"   37\";1751.0;6.0;12.175;400.0 \n",
      "0.0;\" 2\";\"   38\";1801.0;6.0;12.174;400.0 \n",
      "0.0;\" 2\";\"   39\";1851.0;6.0;12.172;400.0 \n",
      "0.0;\" 2\";\"   40\";1901.0;6.0;12.17;400.0 \n",
      "0.0;\" 2\";\"   41\";1951.0;6.0;12.168;400.0 \n",
      "0.0;\" 2\";\"   42\";2001.0;6.0;12.166;400.0 \n",
      "0.0;\" 3\";\"   43\";2002.0;6.0;12.166;800.0 \n",
      "0.0;\" 3\";\"   44\";2052.0;6.0;12.158;800.0 \n",
      "0.0;\" 3\";\"   45\";2102.0;6.0;12.149;800.0 \n",
      "0.0;\" 3\";\"   46\";2152.0;6.0;12.141;800.0 \n",
      "0.0;\" 3\";\"   47\";2202.0;6.0;12.133;800.0 \n",
      "0.0;\" 3\";\"   48\";2252.0;6.0;12.125;800.0 \n",
      "0.0;\" 3\";\"   49\";2302.0;6.0;12.116;800.0 \n",
      "0.0;\" 3\";\"   50\";2352.0;6.0;12.108;800.0 \n",
      "0.0;\" 3\";\"   51\";2402.0;6.0;12.1;800.0 \n",
      "0.0;\" 3\";\"   52\";2452.0;6.0;12.091;800.0 \n",
      "0.0;\" 3\";\"   53\";2502.0;6.0;12.083;800.0 \n",
      "0.0;\" 3\";\"   54\";2552.0;6.0;12.075;800.0 \n",
      "0.0;\" 3\";\"   55\";2602.0;6.0;12.066;800.0 \n",
      "0.0;\" 3\";\"   56\";2652.0;6.0;12.058;800.0 \n",
      "0.0;\" 3\";\"   57\";2702.0;6.0;12.05;800.0 \n",
      "0.0;\" 3\";\"   58\";2752.0;6.0;12.042;800.0 \n",
      "0.0;\" 3\";\"   59\";2802.0;6.0;12.033;800.0 \n",
      "0.0;\" 3\";\"   60\";2852.0;6.0;12.025;800.0 \n",
      "0.0;\" 3\";\"   61\";2902.0;6.0;12.017;800.0 \n",
      "0.0;\" 3\";\"   62\";2952.0;6.0;12.008;800.0 \n",
      "0.0;\" 3\";\"   63\";3002.0;6.0;12.0;800.0 \n",
      "10000.0;\" 1\";\"    1\";0.0;6.0;12.204;400.0 \n",
      "10000.0;\" 1\";\"    2\";50.0;6.0;12.202;400.003 \n",
      "10000.0;\" 1\";\"    3\";100.0;6.0;12.201;400.006 \n",
      "10000.0;\" 1\";\"    4\";150.0;6.0;12.199;400.008 \n",
      "10000.0;\" 1\";\"    5\";200.0;6.0;12.197;400.011 \n",
      "10000.0;\" 1\";\"    6\";250.0;6.0;12.195;400.014 \n",
      "10000.0;\" 1\";\"    7\";300.0;6.0;12.193;400.017 \n",
      "10000.0;\" 1\";\"    8\";350.0;6.0;12.191;400.02 \n",
      "10000.0;\" 1\";\"    9\";400.0;6.0;12.189;400.022 \n",
      "10000.0;\" 1\";\"   10\";450.0;6.0;12.187;400.025 \n",
      "10000.0;\" 1\";\"   11\";500.0;6.0;12.185;400.028 \n",
      "10000.0;\" 1\";\"   12\";550.0;6.0;12.185;412.845 \n",
      "10000.0;\" 1\";\"   13\";600.0;6.0;12.183;412.847 \n",
      "10000.0;\" 1\";\"   14\";650.0;6.0;12.181;412.85 \n",
      "10000.0;\" 1\";\"   15\";700.0;6.0;12.179;412.853 \n",
      "10000.0;\" 1\";\"   16\";750.0;6.0;12.177;412.856 \n",
      "10000.0;\" 1\";\"   17\";800.0;6.0;12.175;412.858 \n",
      "10000.0;\" 1\";\"   18\";850.0;6.0;12.173;412.861 \n",
      "10000.0;\" 1\";\"   19\";900.0;6.0;12.171;412.863 \n",
      "10000.0;\" 1\";\"   20\";950.0;6.0;12.169;412.866 \n",
      "10000.0;\" 1\";\"   21\";1000.0;6.0;12.167;412.869 \n",
      "10000.0;\" 2\";\"   22\";1001.0;6.0;12.204;400.0 \n",
      "10000.0;\" 2\";\"   23\";1051.0;6.0;12.202;400.003 \n",
      "10000.0;\" 2\";\"   24\";1101.0;6.0;12.2;400.005 \n",
      "10000.0;\" 2\";\"   25\";1151.0;6.0;12.198;400.008 \n",
      "10000.0;\" 2\";\"   26\";1201.0;6.0;12.196;400.011 \n",
      "10000.0;\" 2\";\"   27\";1251.0;6.0;12.195;400.013 \n",
      "10000.0;\" 2\";\"   28\";1301.0;6.0;12.193;400.016 \n",
      "10000.0;\" 2\";\"   29\";1351.0;6.0;12.191;400.019 \n",
      "10000.0;\" 2\";\"   30\";1401.0;6.0;12.189;400.021 \n",
      "10000.0;\" 2\";\"   31\";1451.0;6.0;12.187;400.024 \n",
      "10000.0;\" 2\";\"   32\";1501.0;6.0;12.185;400.026 \n",
      "10000.0;\" 2\";\"   33\";1551.0;6.0;12.185;408.129 \n",
      "10000.0;\" 2\";\"   34\";1601.0;6.0;12.183;408.132 \n",
      "10000.0;\" 2\";\"   35\";1651.0;6.0;12.181;408.134 \n",
      "10000.0;\" 2\";\"   36\";1701.0;6.0;12.179;408.137 \n",
      "10000.0;\" 2\";\"   37\";1751.0;6.0;12.177;408.14 \n",
      "10000.0;\" 2\";\"   38\";1801.0;6.0;12.175;408.142 \n",
      "10000.0;\" 2\";\"   39\";1851.0;6.0;12.173;408.145 \n",
      "10000.0;\" 2\";\"   40\";1901.0;6.0;12.171;408.147 \n",
      "10000.0;\" 2\";\"   41\";1951.0;6.0;12.169;408.15 \n",
      "10000.0;\" 2\";\"   42\";2001.0;6.0;12.167;408.152 \n",
      "10000.0;\" 3\";\"   43\";2002.0;6.0;12.167;821.021 \n",
      "10000.0;\" 3\";\"   44\";2052.0;6.0;12.159;821.023 \n",
      "10000.0;\" 3\";\"   45\";2102.0;6.0;12.151;821.026 \n",
      "10000.0;\" 3\";\"   46\";2152.0;6.0;12.142;821.028 \n",
      "10000.0;\" 3\";\"   47\";2202.0;6.0;12.134;821.03 \n",
      "10000.0;\" 3\";\"   48\";2252.0;6.0;12.125;821.032 \n",
      "10000.0;\" 3\";\"   49\";2302.0;6.0;12.117;821.034 \n",
      "10000.0;\" 3\";\"   50\";2352.0;6.0;12.108;821.036 \n",
      "10000.0;\" 3\";\"   51\";2402.0;6.0;12.099;821.038 \n",
      "10000.0;\" 3\";\"   52\";2452.0;6.0;12.091;821.039 \n",
      "10000.0;\" 3\";\"   53\";2502.0;6.0;12.082;821.041 \n",
      "10000.0;\" 3\";\"   54\";2552.0;6.0;12.082;826.486 \n",
      "10000.0;\" 3\";\"   55\";2602.0;6.0;12.073;826.488 \n",
      "10000.0;\" 3\";\"   56\";2652.0;6.0;12.064;826.489 \n",
      "10000.0;\" 3\";\"   57\";2702.0;6.0;12.055;826.49 \n",
      "10000.0;\" 3\";\"   58\";2752.0;6.0;12.046;826.491 \n",
      "10000.0;\" 3\";\"   59\";2802.0;6.0;12.037;826.491 \n",
      "10000.0;\" 3\";\"   60\";2852.0;6.0;12.028;826.492 \n",
      "10000.0;\" 3\";\"   61\";2902.0;6.0;12.019;826.492 \n",
      "10000.0;\" 3\";\"   62\";2952.0;6.0;12.009;826.493 \n",
      "10000.0;\" 3\";\"   63\";3002.0;6.0;12.0;826.493 \n",
      "\n"
     ]
    }
   ],
   "source": [
    "with open('rezo_ecr_ZQ.opt', 'r') as f:\n",
    "    print(f.read())"
   ]
  }
 ],
 "metadata": {
  "kernelspec": {
   "display_name": "Python 3 (ipykernel)",
   "language": "python",
   "name": "python3"
  },
  "language_info": {
   "codemirror_mode": {
    "name": "ipython",
    "version": 3
   },
   "file_extension": ".py",
   "mimetype": "text/x-python",
   "name": "python",
   "nbconvert_exporter": "python",
   "pygments_lexer": "ipython3",
   "version": "3.9.17"
  }
 },
 "nbformat": 4,
 "nbformat_minor": 1
}
