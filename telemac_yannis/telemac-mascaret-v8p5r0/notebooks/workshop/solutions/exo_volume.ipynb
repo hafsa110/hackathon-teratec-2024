{
 "cells": [
  {
   "cell_type": "markdown",
   "metadata": {},
   "source": [
    "# Example of volume calculations\n",
    "\n",
    "A volume is computed through the whole domain between 2 surfaces, called upper and lower values in this document.\n",
    "\n",
    "Typical calculations involve the following variables:\n",
    "\n",
    "<table>\n",
    "\t<tr>\n",
    "\t\t<th>Upper values</th>\n",
    "\t\t<th>Lower values</th>\n",
    "\t\t<th>Interpretation</th>\n",
    "\t</tr>\n",
    "\t<tr>\n",
    "\t\t<td>WATER DEPTH</td>\n",
    "\t\t<td>0</td>\n",
    "\t\t<td rowspan=\"2\">Liquid volume</td>\n",
    "\t</tr>\n",
    "\t<tr>\n",
    "\t\t<td>FREE SURFACE</td>\n",
    "\t\t<td>BOTTOM</td>\n",
    "\t</tr>\n",
    "\t<tr>\n",
    "\t\t<td>BOTTOM</td>\n",
    "\t\t<td>RIGID BED</td>\n",
    "\t\t<td>Solid volume</td>\n",
    "\t</tr>\n",
    "\t<tr>\n",
    "\t\t<td>BOTTOM</td>\n",
    "\t\t<td>initial values</td>\n",
    "\t\t<td>Solid volume from beginning</td>\n",
    "\t</tr>\n",
    "\t<tr>\n",
    "\t\t<td>BED SHEAR STRESS</td>\n",
    "\t\t<td>0</td>\n",
    "\t\t<td>Bottom friction force (approx.)</td>\n",
    "\t</tr>\n",
    "</table>"
   ]
  },
  {
   "cell_type": "markdown",
   "metadata": {},
   "source": [
    "Below are the data and imports you will need for the exercices."
   ]
  },
  {
   "cell_type": "code",
   "execution_count": 1,
   "metadata": {
    "execution": {
     "iopub.execute_input": "2023-12-01T09:20:53.422026Z",
     "iopub.status.busy": "2023-12-01T09:20:53.421358Z",
     "iopub.status.idle": "2023-12-01T09:20:53.826688Z",
     "shell.execute_reply": "2023-12-01T09:20:53.826116Z"
    }
   },
   "outputs": [],
   "source": [
    "from os import environ, path\n",
    "import matplotlib.pyplot as plt\n",
    "import numpy as np\n",
    "\n",
    "from data_manip.extraction.telemac_file import TelemacFile\n",
    "from postel.plot1d import plot1d\n",
    "\n",
    "# Path to result file\n",
    "res_path = path.join(environ['HOMETEL'], 'notebooks', 'workshop', 'data', 'r2d_tide-ES_VE95.slf')\n",
    "sis_path = path.join(environ['HOMETEL'], 'notebooks', 'workshop', 'data', 'sis_bosse-t2d.slf')"
   ]
  },
  {
   "cell_type": "markdown",
   "metadata": {},
   "source": [
    "## Exo1 : Initial liquid volume\n",
    "\n",
    "Compute initial liquid volume for the example file `r2d_tide-ES_VE95.slf`."
   ]
  },
  {
   "cell_type": "code",
   "execution_count": 2,
   "metadata": {
    "execution": {
     "iopub.execute_input": "2023-12-01T09:20:53.829415Z",
     "iopub.status.busy": "2023-12-01T09:20:53.828813Z",
     "iopub.status.idle": "2023-12-01T09:20:53.855441Z",
     "shell.execute_reply": "2023-12-01T09:20:53.854991Z"
    }
   },
   "outputs": [
    {
     "name": "stdout",
     "output_type": "stream",
     "text": [
      "Initial liquid volume = 77576.289859 Mm3\n"
     ]
    }
   ],
   "source": [
    "from data_manip.computation.volume import volume_calculation\n",
    "from data_manip.extraction.telemac_file import TelemacFile\n",
    "\n",
    "# defining the timestep index of extraction\n",
    "record = 0\n",
    "\n",
    "# loading the 2D results file in an object TelemacFile\n",
    "res = TelemacFile(res_path)\n",
    "\n",
    "# extracting connectivity array\n",
    "ikle = res.get_mesh_connectivity()\n",
    "\n",
    "# extracting water depth from the results file \n",
    "depth = res.get_data_value(\"WATER DEPTH\", record)\n",
    "\n",
    "# extracting x and y coordinates from the results file\n",
    "coord_x = res.get_mesh_coord(1)\n",
    "coord_y = res.get_mesh_coord(2)\n",
    "\n",
    "# Calculating the volume of water\n",
    "volume_init, _, _ = volume_calculation(ikle, depth, coord_x, coord_y)\n",
    "\n",
    "print(\"Initial liquid volume = %f Mm3\" % (volume_init/1.0e6))"
   ]
  },
  {
   "cell_type": "markdown",
   "metadata": {},
   "source": [
    "## Exo2 : Temporal evolution of liquid volume\n",
    "\n",
    "Plot temporal evolution of liquid volume for the example file `r2d_tide-ES_VE95.slf`.\n",
    "\n",
    "The variable is called `HAUTEUR D'EAU`. Recommended units are hours for time and Mm³ for volume."
   ]
  },
  {
   "cell_type": "code",
   "execution_count": 3,
   "metadata": {
    "execution": {
     "iopub.execute_input": "2023-12-01T09:20:53.857458Z",
     "iopub.status.busy": "2023-12-01T09:20:53.857263Z",
     "iopub.status.idle": "2023-12-01T09:20:58.274012Z",
     "shell.execute_reply": "2023-12-01T09:20:58.273489Z"
    },
    "scrolled": true
   },
   "outputs": [
    {
     "name": "stdout",
     "output_type": "stream",
     "text": [
      "Volume at record 0: 77576.289859 Mm3\n",
      "Volume at record 1: 77359.356053 Mm3\n",
      "Volume at record 2: 77269.749475 Mm3\n",
      "Volume at record 3: 77278.532550 Mm3\n",
      "Volume at record 4: 76687.575338 Mm3\n",
      "Volume at record 5: 75886.674871 Mm3\n",
      "Volume at record 6: 74962.964433 Mm3\n",
      "Volume at record 7: 73901.789998 Mm3\n"
     ]
    },
    {
     "name": "stdout",
     "output_type": "stream",
     "text": [
      "Volume at record 8: 72869.000580 Mm3\n",
      "Volume at record 9: 71921.165223 Mm3\n"
     ]
    },
    {
     "name": "stdout",
     "output_type": "stream",
     "text": [
      "Volume at record 10: 71037.002395 Mm3\n",
      "Volume at record 11: 70053.236513 Mm3\n",
      "Volume at record 12: 69028.925287 Mm3\n",
      "Volume at record 13: 68018.353987 Mm3\n",
      "Volume at record 14: 67004.757365 Mm3\n",
      "Volume at record 15: 66052.728716 Mm3\n",
      "Volume at record 16: 65220.244383 Mm3\n",
      "Volume at record 17: 64508.742925 Mm3\n",
      "Volume at record 18: 63884.884550 Mm3\n",
      "Volume at record 19: 63341.153795 Mm3\n"
     ]
    },
    {
     "name": "stdout",
     "output_type": "stream",
     "text": [
      "Volume at record 20: 62887.444017 Mm3\n",
      "Volume at record 21: 62510.414425 Mm3\n"
     ]
    },
    {
     "name": "stdout",
     "output_type": "stream",
     "text": [
      "Volume at record 22: 62209.798016 Mm3\n",
      "Volume at record 23: 62008.334601 Mm3\n",
      "Volume at record 24: 61916.935798 Mm3\n",
      "Volume at record 25: 61932.353105 Mm3\n",
      "Volume at record 26: 62050.738643 Mm3\n",
      "Volume at record 27: 62270.170772 Mm3\n",
      "Volume at record 28: 62582.308506 Mm3\n",
      "Volume at record 29: 62974.950923 Mm3\n",
      "Volume at record 30: 63442.907962 Mm3\n",
      "Volume at record 31: 63986.386623 Mm3\n"
     ]
    },
    {
     "name": "stdout",
     "output_type": "stream",
     "text": [
      "Volume at record 32: 64604.972097 Mm3\n",
      "Volume at record 33: 65299.516098 Mm3\n"
     ]
    },
    {
     "name": "stdout",
     "output_type": "stream",
     "text": [
      "Volume at record 34: 66072.627661 Mm3\n",
      "Volume at record 35: 66919.032136 Mm3\n",
      "Volume at record 36: 67828.937981 Mm3\n",
      "Volume at record 37: 68789.359169 Mm3\n",
      "Volume at record 38: 69786.496408 Mm3\n",
      "Volume at record 39: 70803.273409 Mm3\n",
      "Volume at record 40: 71821.321250 Mm3\n",
      "Volume at record 41: 72822.248573 Mm3\n",
      "Volume at record 42: 73786.316223 Mm3\n",
      "Volume at record 43: 74693.026862 Mm3\n"
     ]
    },
    {
     "name": "stdout",
     "output_type": "stream",
     "text": [
      "Volume at record 44: 75521.095164 Mm3\n",
      "Volume at record 45: 76249.528198 Mm3\n"
     ]
    },
    {
     "name": "stdout",
     "output_type": "stream",
     "text": [
      "Volume at record 46: 76858.316132 Mm3\n",
      "Volume at record 47: 77330.086381 Mm3\n",
      "Volume at record 48: 77650.520556 Mm3\n",
      "Volume at record 49: 77811.438986 Mm3\n",
      "Volume at record 50: 77808.954865 Mm3\n",
      "Volume at record 51: 77643.971252 Mm3\n",
      "Volume at record 52: 77322.117644 Mm3\n",
      "Volume at record 53: 76851.155900 Mm3\n",
      "Volume at record 54: 76241.965923 Mm3\n",
      "Volume at record 55: 75512.186784 Mm3\n"
     ]
    },
    {
     "name": "stdout",
     "output_type": "stream",
     "text": [
      "Volume at record 56: 74683.180174 Mm3\n",
      "Volume at record 57: 73775.491529 Mm3\n",
      "Volume at record 58: 72808.547855 Mm3\n"
     ]
    },
    {
     "name": "stdout",
     "output_type": "stream",
     "text": [
      "Volume at record 59: 71801.031937 Mm3\n",
      "Volume at record 60: 70771.539599 Mm3\n",
      "Volume at record 61: 69738.255242 Mm3\n",
      "Volume at record 62: 68718.974435 Mm3\n",
      "Volume at record 63: 67730.861896 Mm3\n",
      "Volume at record 64: 66789.866539 Mm3\n",
      "Volume at record 65: 65909.745166 Mm3\n",
      "Volume at record 66: 65101.517802 Mm3\n",
      "Volume at record 67: 64374.757961 Mm3\n"
     ]
    },
    {
     "name": "stdout",
     "output_type": "stream",
     "text": [
      "Volume at record 68: 63736.753411 Mm3\n",
      "Volume at record 69: 63192.343551 Mm3\n",
      "Volume at record 70: 62744.748582 Mm3\n"
     ]
    },
    {
     "name": "stdout",
     "output_type": "stream",
     "text": [
      "Volume at record 71: 62395.627405 Mm3\n",
      "Volume at record 72: 62145.777833 Mm3\n",
      "Volume at record 73: 61994.409551 Mm3\n",
      "Volume at record 74: 61940.079484 Mm3\n",
      "Volume at record 75: 61981.703963 Mm3\n",
      "Volume at record 76: 62118.255283 Mm3\n",
      "Volume at record 77: 62349.025517 Mm3\n",
      "Volume at record 78: 62672.916559 Mm3\n"
     ]
    },
    {
     "name": "stdout",
     "output_type": "stream",
     "text": [
      "Volume at record 79: 63085.665129 Mm3\n",
      "Volume at record 80: 63580.596255 Mm3\n",
      "Volume at record 81: 64153.057294 Mm3\n"
     ]
    },
    {
     "name": "stdout",
     "output_type": "stream",
     "text": [
      "Volume at record 82: 64800.202086 Mm3\n",
      "Volume at record 83: 65520.783323 Mm3\n",
      "Volume at record 84: 66314.269076 Mm3\n",
      "Volume at record 85: 67177.600137 Mm3\n",
      "Volume at record 86: 68103.913708 Mm3\n",
      "Volume at record 87: 69079.787091 Mm3\n",
      "Volume at record 88: 70089.187123 Mm3\n"
     ]
    },
    {
     "name": "stdout",
     "output_type": "stream",
     "text": [
      "Volume at record 89: 71113.973814 Mm3\n",
      "Volume at record 90: 72133.310184 Mm3\n",
      "Volume at record 91: 73129.221369 Mm3\n",
      "Volume at record 92: 74081.815390 Mm3\n",
      "Volume at record 93: 74970.587160 Mm3\n"
     ]
    },
    {
     "name": "stdout",
     "output_type": "stream",
     "text": [
      "Volume at record 94: 75774.158370 Mm3\n",
      "Volume at record 95: 76470.974948 Mm3\n",
      "Volume at record 96: 77041.095609 Mm3\n",
      "Volume at record 97: 77467.656512 Mm3\n",
      "Volume at record 98: 77738.303901 Mm3\n",
      "Volume at record 99: 77846.734567 Mm3\n",
      "Volume at record 100: 77792.320701 Mm3\n"
     ]
    },
    {
     "name": "stdout",
     "output_type": "stream",
     "text": [
      "Volume at record 101: 77577.955446 Mm3\n",
      "Volume at record 102: 77210.418236 Mm3\n",
      "Volume at record 103: 76696.695486 Mm3\n",
      "Volume at record 104: 76046.668506 Mm3\n",
      "Volume at record 105: 75278.673712 Mm3\n"
     ]
    },
    {
     "name": "stdout",
     "output_type": "stream",
     "text": [
      "Volume at record 106: 74415.501033 Mm3\n",
      "Volume at record 107: 73477.543218 Mm3\n",
      "Volume at record 108: 72490.182228 Mm3\n",
      "Volume at record 109: 71474.436055 Mm3\n",
      "Volume at record 110: 70445.700657 Mm3\n",
      "Volume at record 111: 69421.155681 Mm3\n",
      "Volume at record 112: 68417.515881 Mm3\n"
     ]
    },
    {
     "name": "stdout",
     "output_type": "stream",
     "text": [
      "Volume at record 113: 67446.129572 Mm3\n",
      "Volume at record 114: 66523.016416 Mm3\n",
      "Volume at record 115: 65661.801346 Mm3\n",
      "Volume at record 116: 64873.637881 Mm3\n",
      "Volume at record 117: 64169.749792 Mm3\n"
     ]
    },
    {
     "name": "stdout",
     "output_type": "stream",
     "text": [
      "Volume at record 118: 63557.576055 Mm3\n",
      "Volume at record 119: 63041.872570 Mm3\n",
      "Volume at record 120: 62624.988454 Mm3\n",
      "Volume at record 121: 62307.351890 Mm3\n",
      "Volume at record 122: 62088.362370 Mm3\n",
      "Volume at record 123: 61966.772885 Mm3\n",
      "Volume at record 124: 61941.553854 Mm3\n"
     ]
    },
    {
     "name": "stdout",
     "output_type": "stream",
     "text": [
      "Volume at record 125: 62011.393701 Mm3\n",
      "Volume at record 126: 62175.892475 Mm3\n",
      "Volume at record 127: 62434.551801 Mm3\n",
      "Volume at record 128: 62785.261822 Mm3\n",
      "Volume at record 129: 63223.232283 Mm3\n"
     ]
    },
    {
     "name": "stdout",
     "output_type": "stream",
     "text": [
      "Volume at record 130: 63742.040917 Mm3\n",
      "Volume at record 131: 64338.288843 Mm3\n",
      "Volume at record 132: 65010.570018 Mm3\n",
      "Volume at record 133: 65747.031156 Mm3\n",
      "Volume at record 134: 66557.235437 Mm3\n",
      "Volume at record 135: 67437.671291 Mm3\n",
      "Volume at record 136: 68377.255496 Mm3\n"
     ]
    },
    {
     "name": "stdout",
     "output_type": "stream",
     "text": [
      "Volume at record 137: 69365.680363 Mm3\n",
      "Volume at record 138: 70386.229209 Mm3\n",
      "Volume at record 139: 71418.735422 Mm3\n",
      "Volume at record 140: 72436.343426 Mm3\n",
      "Volume at record 141: 73425.921262 Mm3\n"
     ]
    },
    {
     "name": "stdout",
     "output_type": "stream",
     "text": [
      "Volume at record 142: 74363.826324 Mm3\n",
      "Volume at record 143: 75219.154358 Mm3\n",
      "Volume at record 144: 75983.695457 Mm3\n",
      "Volume at record 145: 76633.464436 Mm3\n",
      "Volume at record 146: 77159.062553 Mm3\n",
      "Volume at record 147: 77542.793064 Mm3\n",
      "Volume at record 148: 77773.834634 Mm3\n"
     ]
    },
    {
     "name": "stdout",
     "output_type": "stream",
     "text": [
      "Volume at record 149: 77840.981640 Mm3\n",
      "Volume at record 150: 77740.233134 Mm3\n",
      "Volume at record 151: 77477.228048 Mm3\n",
      "Volume at record 152: 77064.345663 Mm3\n",
      "Volume at record 153: 76506.611137 Mm3\n"
     ]
    },
    {
     "name": "stdout",
     "output_type": "stream",
     "text": [
      "Volume at record 154: 75816.898122 Mm3\n",
      "Volume at record 155: 75019.290194 Mm3\n",
      "Volume at record 156: 74132.811061 Mm3\n",
      "Volume at record 157: 73180.030775 Mm3\n",
      "Volume at record 158: 72182.680348 Mm3\n",
      "Volume at record 159: 71159.667830 Mm3\n",
      "Volume at record 160: 70128.982222 Mm3\n"
     ]
    },
    {
     "name": "stdout",
     "output_type": "stream",
     "text": [
      "Volume at record 161: 69106.752392 Mm3\n",
      "Volume at record 162: 68109.121999 Mm3\n",
      "Volume at record 163: 67150.476030 Mm3\n",
      "Volume at record 164: 66244.463311 Mm3\n",
      "Volume at record 165: 65404.077901 Mm3\n"
     ]
    },
    {
     "name": "stdout",
     "output_type": "stream",
     "text": [
      "Volume at record 166: 64641.247115 Mm3\n",
      "Volume at record 167: 63966.037091 Mm3\n",
      "Volume at record 168: 63384.267149 Mm3\n",
      "Volume at record 169: 62899.643084 Mm3\n",
      "Volume at record 170: 62513.405530 Mm3\n",
      "Volume at record 171: 62225.917999 Mm3\n"
     ]
    },
    {
     "name": "stdout",
     "output_type": "stream",
     "text": [
      "Volume at record 172: 62037.047821 Mm3\n",
      "Volume at record 173: 61945.647414 Mm3\n",
      "Volume at record 174: 61950.860472 Mm3\n",
      "Volume at record 175: 62051.668607 Mm3\n",
      "Volume at record 176: 62246.750510 Mm3\n"
     ]
    },
    {
     "name": "stdout",
     "output_type": "stream",
     "text": [
      "Volume at record 177: 62535.400042 Mm3\n",
      "Volume at record 178: 62915.001492 Mm3\n",
      "Volume at record 179: 63378.693096 Mm3\n",
      "Volume at record 180: 63921.705391 Mm3\n",
      "Volume at record 181: 64541.325342 Mm3\n",
      "Volume at record 182: 65235.554174 Mm3\n",
      "Volume at record 183: 66003.847541 Mm3\n"
     ]
    },
    {
     "name": "stdout",
     "output_type": "stream",
     "text": [
      "Volume at record 184: 66843.877022 Mm3\n",
      "Volume at record 185: 67748.339915 Mm3\n",
      "Volume at record 186: 68697.008000 Mm3\n",
      "Volume at record 187: 69689.249308 Mm3\n",
      "Volume at record 188: 70705.997722 Mm3\n"
     ]
    },
    {
     "name": "stdout",
     "output_type": "stream",
     "text": [
      "Volume at record 189: 71727.870692 Mm3\n",
      "Volume at record 190: 72738.985443 Mm3\n",
      "Volume at record 191: 73715.960893 Mm3\n",
      "Volume at record 192: 74636.490463 Mm3\n",
      "Volume at record 193: 75481.596672 Mm3\n",
      "Volume at record 194: 76213.669952 Mm3\n",
      "Volume at record 195: 76827.112315 Mm3\n"
     ]
    },
    {
     "name": "stdout",
     "output_type": "stream",
     "text": [
      "Volume at record 196: 77302.896516 Mm3\n",
      "Volume at record 197: 77628.579580 Mm3\n",
      "Volume at record 198: 77801.491556 Mm3\n",
      "Volume at record 199: 77816.437898 Mm3\n",
      "Volume at record 200: 77670.138483 Mm3\n"
     ]
    },
    {
     "data": {
      "image/png": "[encoded data removed]",
      "text/plain": [
       "<Figure size 1000x500 with 1 Axes>"
      ]
     },
     "metadata": {},
     "output_type": "display_data"
    }
   ],
   "source": [
    "# Initialising figure and axis\n",
    "fig, ax = plt.subplots(figsize=(10,5))\n",
    "\n",
    "# Initialize two empty lists\n",
    "times = []\n",
    "volumes = []\n",
    "\n",
    "for record in range(res.ntimestep):\n",
    "    time = res.times[record]\n",
    "    times.append(time)\n",
    "\n",
    "    depth = res.get_data_value(\"WATER DEPTH\", record)       \n",
    "    volume, _, _ = volume_calculation(ikle, depth, coord_x, coord_y)\n",
    "    volumes.append(volume)\n",
    "\n",
    "    print(\"Volume at record %i: %f Mm3\" % (record, volume/1e6))\n",
    "\n",
    "plot1d(ax, np.array(times)/3600, np.array(volumes)/1e6,  # plot values with custom units\n",
    "       x_label='Time (hours)', y_label='Water volume (Mm³)')\n",
    "plt.show()"
   ]
  },
  {
   "cell_type": "markdown",
   "metadata": {},
   "source": [
    "## Exo3 : Temporal evolution of solid volume\n",
    "\n",
    "Plot temporal evolution of solid volume for the example file `sis_bosse-t2d.slf`.\n",
    "\n",
    "The variable is called `BOTTOM`. Recommended units are minutes for time and m³ for volume."
   ]
  },
  {
   "cell_type": "code",
   "execution_count": 4,
   "metadata": {
    "execution": {
     "iopub.execute_input": "2023-12-01T09:20:58.276055Z",
     "iopub.status.busy": "2023-12-01T09:20:58.275863Z",
     "iopub.status.idle": "2023-12-01T09:20:58.279267Z",
     "shell.execute_reply": "2023-12-01T09:20:58.278847Z"
    }
   },
   "outputs": [],
   "source": [
    "# loading the 2D results file in an object TelemacFile\n",
    "res = TelemacFile(sis_path)\n",
    "\n",
    "# extracting connectivity array\n",
    "ikle = res.get_mesh_connectivity()\n",
    "\n",
    "# extracting x and y coordinates from the results file\n",
    "coord_x = res.get_mesh_coord(1)\n",
    "coord_y = res.get_mesh_coord(2)"
   ]
  },
  {
   "cell_type": "code",
   "execution_count": 5,
   "metadata": {
    "execution": {
     "iopub.execute_input": "2023-12-01T09:20:58.281186Z",
     "iopub.status.busy": "2023-12-01T09:20:58.281007Z",
     "iopub.status.idle": "2023-12-01T09:20:58.750664Z",
     "shell.execute_reply": "2023-12-01T09:20:58.750158Z"
    },
    "scrolled": true
   },
   "outputs": [
    {
     "name": "stdout",
     "output_type": "stream",
     "text": [
      "Volume at record 0: 0.399989 m3\n",
      "Volume at record 1: 0.399166 m3\n",
      "Volume at record 2: 0.399160 m3\n",
      "Volume at record 3: 0.399150 m3\n",
      "Volume at record 4: 0.399139 m3\n",
      "Volume at record 5: 0.399129 m3\n",
      "Volume at record 6: 0.399119 m3\n",
      "Volume at record 7: 0.399109 m3\n",
      "Volume at record 8: 0.399099 m3\n",
      "Volume at record 9: 0.399089 m3\n",
      "Volume at record 10: 0.399079 m3\n",
      "Volume at record 11: 0.399069 m3\n",
      "Volume at record 12: 0.399059 m3\n",
      "Volume at record 13: 0.399049 m3\n",
      "Volume at record 14: 0.399038 m3\n",
      "Volume at record 15: 0.399028 m3\n",
      "Volume at record 16: 0.399018 m3\n",
      "Volume at record 17: 0.399008 m3\n",
      "Volume at record 18: 0.398998 m3\n",
      "Volume at record 19: 0.398988 m3\n",
      "Volume at record 20: 0.398978 m3\n",
      "Volume at record 21: 0.398968 m3\n",
      "Volume at record 22: 0.398958 m3\n",
      "Volume at record 23: 0.398947 m3\n",
      "Volume at record 24: 0.398937 m3\n",
      "Volume at record 25: 0.398927 m3\n",
      "Volume at record 26: 0.398917 m3\n",
      "Volume at record 27: 0.398907 m3\n",
      "Volume at record 28: 0.398897 m3\n",
      "Volume at record 29: 0.398887 m3\n",
      "Volume at record 30: 0.398877 m3\n",
      "Volume at record 31: 0.398867 m3\n",
      "Volume at record 32: 0.398857 m3\n",
      "Volume at record 33: 0.398846 m3\n",
      "Volume at record 34: 0.398836 m3\n",
      "Volume at record 35: 0.398826 m3\n",
      "Volume at record 36: 0.398816 m3\n",
      "Volume at record 37: 0.398806 m3\n",
      "Volume at record 38: 0.398796 m3\n",
      "Volume at record 39: 0.398786 m3\n",
      "Volume at record 40: 0.398776 m3\n",
      "Volume at record 41: 0.398765 m3\n",
      "Volume at record 42: 0.398755 m3\n",
      "Volume at record 43: 0.398745 m3\n",
      "Volume at record 44: 0.398735 m3\n",
      "Volume at record 45: 0.398725 m3\n",
      "Volume at record 46: 0.398715 m3\n",
      "Volume at record 47: 0.398705 m3\n",
      "Volume at record 48: 0.398695 m3\n",
      "Volume at record 49: 0.398685 m3\n",
      "Volume at record 50: 0.398674 m3\n",
      "Volume at record 51: 0.398664 m3\n",
      "Volume at record 52: 0.398654 m3\n",
      "Volume at record 53: 0.398644 m3\n",
      "Volume at record 54: 0.398634 m3\n",
      "Volume at record 55: 0.398624 m3\n",
      "Volume at record 56: 0.398614 m3\n",
      "Volume at record 57: 0.398604 m3\n",
      "Volume at record 58: 0.398593 m3\n",
      "Volume at record 59: 0.398583 m3\n",
      "Volume at record 60: 0.398573 m3\n",
      "Volume at record 61: 0.398563 m3\n",
      "Volume at record 62: 0.398553 m3\n",
      "Volume at record 63: 0.398543 m3\n",
      "Volume at record 64: 0.398533 m3\n",
      "Volume at record 65: 0.398523 m3\n",
      "Volume at record 66: 0.398513 m3\n",
      "Volume at record 67: 0.398502 m3\n",
      "Volume at record 68: 0.398492 m3\n",
      "Volume at record 69: 0.398482 m3\n",
      "Volume at record 70: 0.398472 m3\n",
      "Volume at record 71: 0.398462 m3\n",
      "Volume at record 72: 0.398452 m3\n",
      "Volume at record 73: 0.398442 m3\n",
      "Volume at record 74: 0.398432 m3\n",
      "Volume at record 75: 0.398421 m3\n",
      "Volume at record 76: 0.398411 m3\n",
      "Volume at record 77: 0.398401 m3\n",
      "Volume at record 78: 0.398391 m3\n",
      "Volume at record 79: 0.398381 m3\n",
      "Volume at record 80: 0.398371 m3\n",
      "Volume at record 81: 0.398361 m3\n",
      "Volume at record 82: 0.398351 m3\n",
      "Volume at record 83: 0.398341 m3\n",
      "Volume at record 84: 0.398330 m3\n",
      "Volume at record 85: 0.398320 m3\n"
     ]
    },
    {
     "name": "stdout",
     "output_type": "stream",
     "text": [
      "Volume at record 86: 0.398310 m3\n",
      "Volume at record 87: 0.398300 m3\n",
      "Volume at record 88: 0.398290 m3\n",
      "Volume at record 89: 0.398280 m3\n",
      "Volume at record 90: 0.398270 m3\n",
      "Volume at record 91: 0.398260 m3\n",
      "Volume at record 92: 0.398250 m3\n",
      "Volume at record 93: 0.398240 m3\n",
      "Volume at record 94: 0.398229 m3\n",
      "Volume at record 95: 0.398219 m3\n",
      "Volume at record 96: 0.398209 m3\n",
      "Volume at record 97: 0.398199 m3\n",
      "Volume at record 98: 0.398189 m3\n",
      "Volume at record 99: 0.398179 m3\n",
      "Volume at record 100: 0.398169 m3\n"
     ]
    },
    {
     "data": {
      "image/png": "[encoded data removed]",
      "text/plain": [
       "<Figure size 1000x500 with 1 Axes>"
      ]
     },
     "metadata": {},
     "output_type": "display_data"
    }
   ],
   "source": [
    "# Initialising figure and axis\n",
    "fig, ax = plt.subplots(figsize=(10,5))\n",
    "\n",
    "# Initialize two empty lists\n",
    "times = []\n",
    "volumes = []\n",
    "\n",
    "for record in range(res.ntimestep):\n",
    "    time = res.times[record]\n",
    "    times.append(time)\n",
    "\n",
    "    try:\n",
    "        depth = res.get_data_value(\"BOTTOM\", record)\n",
    "    except TelemacException:\n",
    "        pass  #FIXME: remove me if possible\n",
    "        \n",
    "    volume, _, _ = volume_calculation(ikle, depth, coord_x, coord_y)\n",
    "    volumes.append(volume)\n",
    "\n",
    "    print(\"Volume at record %i: %f m3\" % (record, volume))\n",
    "\n",
    "diff_volumes = np.array(volumes) - volumes[0]\n",
    "plot1d(ax, np.array(times)/60, diff_volumes,  # plot values with custom units\n",
    "       x_label='Time (min)', y_label='Volume (m3)')\n",
    "plt.show()"
   ]
  },
  {
   "cell_type": "code",
   "execution_count": null,
   "metadata": {},
   "outputs": [],
   "source": []
  }
 ],
 "metadata": {
  "kernelspec": {
   "display_name": "Python 3",
   "language": "python",
   "name": "python3"
  },
  "language_info": {
   "codemirror_mode": {
    "name": "ipython",
    "version": 3
   },
   "file_extension": ".py",
   "mimetype": "text/x-python",
   "name": "python",
   "nbconvert_exporter": "python",
   "pygments_lexer": "ipython3",
   "version": "3.9.17"
  }
 },
 "nbformat": 4,
 "nbformat_minor": 2
}
