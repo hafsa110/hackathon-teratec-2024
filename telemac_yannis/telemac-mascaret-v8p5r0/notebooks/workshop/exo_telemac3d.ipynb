{
 "cells": [
  {
   "cell_type": "markdown",
   "metadata": {},
   "source": [
    "# Telemac3d exercise\n",
    "\n",
    "\n",
    "We are going to work with the telemac3d test case source.git a"
   ]
  },
  {
   "cell_type": "code",
   "execution_count": 1,
   "metadata": {
    "collapsed": false,
    "execution": {
     "iopub.execute_input": "2023-12-01T09:20:23.538033Z",
     "iopub.status.busy": "2023-12-01T09:20:23.535833Z",
     "iopub.status.idle": "2023-12-01T09:20:23.925251Z",
     "shell.execute_reply": "2023-12-01T09:20:23.924709Z"
    }
   },
   "outputs": [],
   "source": [
    "from data_manip.extraction.telemac_file import TelemacFile\n",
    "from data_manip.computation.triangulation import\\\n",
    "                triangulation_from_data\n",
    "from postel.plot2d import plot2d_vectors, plot2d_scalar_filled_contour\n",
    "import matplotlib.pyplot as plt\n",
    "import numpy as np\n",
    "from os import path, environ\n",
    "\n",
    "file_name = path.join(environ['HOMETEL'], \n",
    "                      'notebooks',\n",
    "                      'workshop',\n",
    "                      'data', \n",
    "                      'r3d_source.slf')"
   ]
  },
  {
   "cell_type": "markdown",
   "metadata": {},
   "source": [
    "## Exo1\n",
    "\n",
    "Plot the value of norm of the velocity in s scalar filled contour and on top of that plot the vectors for the file \"file_name\".\n",
    "\n",
    "For the third plane and record 5."
   ]
  },
  {
   "cell_type": "code",
   "execution_count": null,
   "metadata": {
    "collapsed": false
   },
   "outputs": [],
   "source": []
  },
  {
   "cell_type": "markdown",
   "metadata": {},
   "source": [
    "## Exo 2\n",
    "\n",
    "Plot the value of the three tracers in the file at the last record for the first plane."
   ]
  },
  {
   "cell_type": "code",
   "execution_count": null,
   "metadata": {
    "collapsed": false
   },
   "outputs": [],
   "source": []
  },
  {
   "cell_type": "markdown",
   "metadata": {},
   "source": [
    "## Exo3"
   ]
  },
  {
   "cell_type": "code",
   "execution_count": 2,
   "metadata": {
    "collapsed": true,
    "execution": {
     "iopub.execute_input": "2023-12-01T09:20:23.927692Z",
     "iopub.status.busy": "2023-12-01T09:20:23.927461Z",
     "iopub.status.idle": "2023-12-01T09:20:23.930453Z",
     "shell.execute_reply": "2023-12-01T09:20:23.929971Z"
    }
   },
   "outputs": [],
   "source": [
    "poly = [[-50, 0], [50, 0]]"
   ]
  },
  {
   "cell_type": "markdown",
   "metadata": {},
   "source": [
    "Plot a vertical slice for each tracer at the last record.\n",
    "\n",
    "Discretize the polyline using a TelemacFile function."
   ]
  },
  {
   "cell_type": "code",
   "execution_count": null,
   "metadata": {
    "collapsed": false
   },
   "outputs": [],
   "source": []
  }
 ],
 "metadata": {
  "kernelspec": {
   "display_name": "Python 3",
   "language": "python",
   "name": "python3"
  },
  "language_info": {
   "codemirror_mode": {
    "name": "ipython",
    "version": 3
   },
   "file_extension": ".py",
   "mimetype": "text/x-python",
   "name": "python",
   "nbconvert_exporter": "python",
   "pygments_lexer": "ipython3",
   "version": "3.9.17"
  }
 },
 "nbformat": 4,
 "nbformat_minor": 2
}
