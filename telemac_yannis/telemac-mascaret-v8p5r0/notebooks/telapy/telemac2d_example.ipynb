{
 "cells": [
  {
   "cell_type": "markdown",
   "metadata": {},
   "source": [
    "<span style=\"float:left;\">Licence CC BY-SA</span><span style=\"float:right;\">Fabrice Zaoui&nbsp;</span><br/>\n",
    "___"
   ]
  },
  {
   "cell_type": "markdown",
   "metadata": {},
   "source": [
    "This tutorial is intended for people who want an example showing how to run Telemac 2D in an interactive mode with the help of the Python programming language."
   ]
  },
  {
   "cell_type": "markdown",
   "metadata": {},
   "source": [
    "# Import Telemac2D as a Python module"
   ]
  },
  {
   "cell_type": "code",
   "execution_count": 1,
   "metadata": {
    "execution": {
     "iopub.execute_input": "2023-12-01T09:20:08.983975Z",
     "iopub.status.busy": "2023-12-01T09:20:08.983737Z",
     "iopub.status.idle": "2023-12-01T09:20:09.026934Z",
     "shell.execute_reply": "2023-12-01T09:20:09.026332Z"
    }
   },
   "outputs": [],
   "source": [
    "import telapy.api.t2d"
   ]
  },
  {
   "cell_type": "markdown",
   "metadata": {},
   "source": [
    "The module 'TelApy.api.t2d' is located in the '$HOMETEL/scripts/python3/telapy/api' directory. If an error occurs while attempting to import, check the value of the environment variable PYTHONPATH. Alternatively you can also work with the file 'apiT2d.py' listed in your working directory.\n"
   ]
  },
  {
   "cell_type": "markdown",
   "metadata": {
    "collapsed": true
   },
   "source": [
    "# Problem instantiation"
   ]
  },
  {
   "cell_type": "markdown",
   "metadata": {},
   "source": [
    "A problem is created from the \"breach\" example"
   ]
  },
  {
   "cell_type": "code",
   "execution_count": 2,
   "metadata": {
    "execution": {
     "iopub.execute_input": "2023-12-01T09:20:09.029687Z",
     "iopub.status.busy": "2023-12-01T09:20:09.029401Z",
     "iopub.status.idle": "2023-12-01T09:20:12.030756Z",
     "shell.execute_reply": "2023-12-01T09:20:12.030134Z"
    }
   },
   "outputs": [
    {
     "name": "stdout",
     "output_type": "stream",
     "text": [
      "  ~> Checking keyword/rubrique coherence\n"
     ]
    }
   ],
   "source": [
    "# Changing of directory : 'examples' directory of the Telemac sources\n",
    "import os, sys\n",
    "HOMETEL = os.environ.get('HOMETEL')\n",
    "os.chdir(HOMETEL + '/examples/telemac2d/breach')\n",
    "\n",
    "# Instantiation of a Telemac2d object from the test case named 'breach'\n",
    "# - steering file : 't2d_breach.cas'\n",
    "# - language : french (1) or english (2: default)\n",
    "from telapy.api.t2d import Telemac2d\n",
    "from mpi4py import MPI\n",
    "my_problem = Telemac2d('t2d_breach.cas', lang=1, comm=MPI.COMM_WORLD)"
   ]
  },
  {
   "cell_type": "markdown",
   "metadata": {},
   "source": [
    "An object 'my_problem' is now created."
   ]
  },
  {
   "cell_type": "markdown",
   "metadata": {},
   "source": [
    "# Read the steering file"
   ]
  },
  {
   "cell_type": "code",
   "execution_count": 3,
   "metadata": {
    "execution": {
     "iopub.execute_input": "2023-12-01T09:20:12.033322Z",
     "iopub.status.busy": "2023-12-01T09:20:12.033097Z",
     "iopub.status.idle": "2023-12-01T09:20:12.049216Z",
     "shell.execute_reply": "2023-12-01T09:20:12.048693Z"
    }
   },
   "outputs": [
    {
     "name": "stdout",
     "output_type": "stream",
     "text": [
      " MASTER PROCESSOR NUMBER            0  OF THE GROUP OF            1\n"
     ]
    },
    {
     "data": {
      "text/plain": [
       "0"
      ]
     },
     "execution_count": 3,
     "metadata": {},
     "output_type": "execute_result"
    },
    {
     "name": "stdout",
     "output_type": "stream",
     "text": [
      " READ_CONFIG: FILE CONFIG NOT FOUND: CONFIG\n",
      " DEFAULTS VALUES OF LU AND LNG:            6  AND            2\n",
      " LISTING OF TELEMAC2D------------------------------------------------------------------------------\n",
      "\n",
      "                TTTTT  EEEEE  L      EEEEE  M   M  AAAAA  CCCCC\n",
      "                  T    E      L      E      MM MM  A   A  C    \n",
      "                  T    EEE    L      EEE    M M M  AAAAA  C    \n",
      "                  T    E      L      E      M   M  A   A  C    \n",
      "                  T    EEEEE  LLLLL  EEEEE  M   M  A   A  CCCCC\n",
      "                                                               \n",
      "                        2D    VERSION V8P5   FORTRAN 2003       \n",
      "\n",
      "\n",
      "\n",
      "\n",
      "\n",
      "\n",
      "\n",
      "                        ~^~^~^~^~^~^~^~^~^~^~^^~^~^~^~^~^~     \n",
      "                          ~                            ~       \n",
      "                               \\   '    o      '               \n",
      "                               /\\ o       \\  o                 \n",
      "                             >=)'>    '   /\\ '                 \n",
      "                               \\/   \\   >=)'>        ~         \n",
      "                               /    /\\    \\/                   \n",
      "                        ~         >=)'>   /     .              \n",
      "                                    \\/                   )     \n",
      "                                    /                   (      \n",
      "                                          ~          )   )     \n",
      "                          }     ~              (    (   (      \n",
      "                         {                      )    )   )     \n",
      "                          }  }         .       (    (   (      \n",
      "                         {  {               /^^^^^^^^^^^^      \n",
      "                        ^^^^^^^^^\\         /                   \n",
      "                                  ^^^^^^^^^                    \n",
      "\n",
      "\n",
      "\n",
      "\n",
      "\n",
      "\n",
      "  \n",
      " DIFFERENT NUMBER OF PARALLEL PROCESSORS:\n",
      " DECLARED BEFORE (CASE OF COUPLING ?):           1\n",
      " TELEMAC-2D :           0\n",
      " VALUE            1  IS KEPT\n",
      "\n",
      "                   ********************************************\n",
      "                   *               LECDON:                    *\n",
      "                   *        AFTER CALLING DAMOCLES            *\n",
      "                   *        CHECKING OF DATA  READ            *\n",
      "                   *         IN THE STEERING FILE             *\n",
      "                   ********************************************\n",
      "\n",
      "\n",
      " EXITING LECDON. NAME OF THE STUDY:\n",
      " TELEMAC 2D : rupture digue  - Qinitial                                  \n",
      "\n"
     ]
    }
   ],
   "source": [
    "my_problem.set_case()"
   ]
  },
  {
   "cell_type": "markdown",
   "metadata": {},
   "source": [
    "# State initialisation"
   ]
  },
  {
   "cell_type": "code",
   "execution_count": 4,
   "metadata": {
    "execution": {
     "iopub.execute_input": "2023-12-01T09:20:12.051423Z",
     "iopub.status.busy": "2023-12-01T09:20:12.051170Z",
     "iopub.status.idle": "2023-12-01T09:20:12.102540Z",
     "shell.execute_reply": "2023-12-01T09:20:12.101755Z"
    }
   },
   "outputs": [
    {
     "name": "stdout",
     "output_type": "stream",
     "text": [
      " OPENING FILES FOR TELEMAC2D               \n"
     ]
    },
    {
     "name": "stdout",
     "output_type": "stream",
     "text": [
      " OPENING: T2DGEO-geo_breach.slf\n",
      " OPENING: T2DCLI-geo_breach.cli\n",
      " OPENING: T2DPRE-ini_breach.slf\n",
      " OPENING: T2DRES-r2d_breach.slf\n",
      " OPENING: T2DIMP-t2d_breach.liq\n",
      " OPENING: T2DBRC-breach.txt\n",
      "\n",
      "\n",
      "\n",
      "                          *****************************\n",
      "                          *    MEMORY ORGANIZATION    *\n",
      "                          *****************************\n",
      "\n",
      "\n",
      "\n",
      " READ_MESH_INFO: TITLE= C:\\RuptureDigue2D\\Modele.MAT\u0000\u0000\u0000\u0000\u0000\u0000\u0000\u0000\u0000\u0000\u0000\u0000\u0000\u0000\u0000\u0000\u0000\u0000\u0000\u0000\u0000\u0000\u0000\u0000\u0000\u0000\u0000\u0000\u0000\u0000\u0000\u0000\u0000\u0000\u0000\u0000\u0000\u0000\u0000\u0000\u0000\u0000\u0000\u0000\n",
      "            NUMBER OF ELEMENTS:    26449\n",
      "            NUMBER OF POINTS:    13648\n",
      "\n",
      "            TYPE OF ELEMENT: TRIANGLE            \n",
      "            TYPE OF BND ELEMENT: POINT               \n",
      "\n",
      "            SINGLE PRECISION FORMAT (R4)\n",
      "  \n",
      " MXPTEL (BIEF) : MAXIMUM NUMBER OF ELEMENTS AROUND A POINT:   8\n",
      "                 MAXIMUM NUMBER OF POINTS AROUND A POINT:   8\n",
      " USER_CORRXY (BIEF):NO MODIFICATION OF COORDINATES\n",
      "\n",
      " MESH: MESH   ALLOCATED\n",
      "\n",
      "\n",
      "\n",
      "                     *************************************\n",
      "                     *    END OF MEMORY ORGANIZATION:    *\n",
      "                     *************************************\n",
      "\n",
      " INITIALIZING TELEMAC2D FOR        \n",
      " INBIEF (BIEF): NOT A VECTOR MACHINE (ACCORDING TO YOUR DATA)\n",
      " STRCHE (BIEF): NO MODIFICATION OF FRICTION\n",
      "\n",
      "\n",
      " THERE IS     2 LIQUID BOUNDARIES:\n",
      "\n",
      " BOUNDARY    1 : \n",
      "  BEGINS AT BOUNDARY POINT:      534 , WITH GLOBAL NUMBER:        43\n",
      "  AND COORDINATES:     5000.000           0.000000    \n",
      "  ENDS AT BOUNDARY POINT:      544 , WITH GLOBAL NUMBER:       158\n",
      "  AND COORDINATES:     5000.000           26.00000    \n",
      "\n",
      " BOUNDARY    2 : \n",
      "  BEGINS AT BOUNDARY POINT:      836 , WITH GLOBAL NUMBER:         2\n",
      "  AND COORDINATES:     0.000000           26.00000    \n",
      "  ENDS AT BOUNDARY POINT:        1 , WITH GLOBAL NUMBER:        23\n",
      "  AND COORDINATES:     0.000000           0.000000    \n",
      "\n",
      " THERE IS     2 SOLID BOUNDARIES:\n",
      "\n",
      " BOUNDARY    1 : \n",
      "  BEGINS AT BOUNDARY POINT:        1 , WITH GLOBAL NUMBER:        23\n",
      "  AND COORDINATES:     0.000000           0.000000    \n",
      "  ENDS AT BOUNDARY POINT:      534 , WITH GLOBAL NUMBER:        43\n",
      "  AND COORDINATES:     5000.000           0.000000    \n",
      "\n",
      " BOUNDARY    2 : \n",
      "  BEGINS AT BOUNDARY POINT:      544 , WITH GLOBAL NUMBER:       158\n",
      "  AND COORDINATES:     5000.000           26.00000    \n",
      "  ENDS AT BOUNDARY POINT:      836 , WITH GLOBAL NUMBER:         2\n",
      "  AND COORDINATES:     0.000000           26.00000    \n",
      "\n",
      " USER_CORFON (TELEMAC2D): NO MODIFICATION OF BOTTOM\n",
      "\n",
      "\n",
      " CORFON (TELEMAC2D): NO BOTTOM SMOOTHINGS\n",
      "\n",
      "\n",
      "\n",
      " TITLE OF PREVIOUS COMPUTATION: maillage                                                                \n",
      "\n",
      " NAME: BOTTOM            UNIT: M               \n",
      " NAME: FREE SURFACE      UNIT: M               \n",
      " NAME: VELOCITY U        UNIT: M/S             \n",
      " NAME: VELOCITY V        UNIT: M/S             \n",
      "\n",
      " READ_DATASET : READ OF RECORD     1\n",
      "\n",
      "\n",
      " TIME OF RECORD:     15000.00     S\n",
      " ELAPSED TIME RESET TO ZERO\n",
      " RESCUE : WATER DEPTH COMPUTED WITH BATHYMETRY\n",
      "          AND SURFACE ELEVATION\n",
      " PRE READING THE BREACH FILE\n",
      " READING BREACH DATA = OK\n",
      "\n",
      "================================================================================\n",
      " ITERATION        0    TIME:   0.0000 S\n",
      " PRERES: MAXIMUM COURANT NUMBER:    0.2699380    \n",
      " TELEMAC2D INITIALIZED\n"
     ]
    }
   ],
   "source": [
    "my_problem.init_state_default()"
   ]
  },
  {
   "cell_type": "markdown",
   "metadata": {},
   "source": [
    "# Mesh view"
   ]
  },
  {
   "cell_type": "code",
   "execution_count": 5,
   "metadata": {
    "execution": {
     "iopub.execute_input": "2023-12-01T09:20:12.104658Z",
     "iopub.status.busy": "2023-12-01T09:20:12.104466Z",
     "iopub.status.idle": "2023-12-01T09:20:12.712388Z",
     "shell.execute_reply": "2023-12-01T09:20:12.711876Z"
    }
   },
   "outputs": [
    {
     "data": {
      "image/png": "[encoded data removed]",
      "text/plain": [
       "<Figure size 640x480 with 2 Axes>"
      ]
     },
     "metadata": {},
     "output_type": "display_data"
    }
   ],
   "source": [
    "my_figure = my_problem.show_mesh()"
   ]
  },
  {
   "cell_type": "markdown",
   "metadata": {},
   "source": [
    "# State view"
   ]
  },
  {
   "cell_type": "code",
   "execution_count": 6,
   "metadata": {
    "execution": {
     "iopub.execute_input": "2023-12-01T09:20:12.714828Z",
     "iopub.status.busy": "2023-12-01T09:20:12.714610Z",
     "iopub.status.idle": "2023-12-01T09:20:13.178069Z",
     "shell.execute_reply": "2023-12-01T09:20:13.177581Z"
    }
   },
   "outputs": [
    {
     "data": {
      "image/png": "[encoded data removed]",
      "text/plain": [
       "<Figure size 640x480 with 4 Axes>"
      ]
     },
     "metadata": {},
     "output_type": "display_data"
    }
   ],
   "source": [
    "my_new_figure = my_problem.show_state()"
   ]
  },
  {
   "cell_type": "markdown",
   "metadata": {},
   "source": [
    "# Get the number of time steps"
   ]
  },
  {
   "cell_type": "code",
   "execution_count": 7,
   "metadata": {
    "execution": {
     "iopub.execute_input": "2023-12-01T09:20:13.180089Z",
     "iopub.status.busy": "2023-12-01T09:20:13.179910Z",
     "iopub.status.idle": "2023-12-01T09:20:13.183782Z",
     "shell.execute_reply": "2023-12-01T09:20:13.183299Z"
    }
   },
   "outputs": [
    {
     "data": {
      "text/plain": [
       "5400"
      ]
     },
     "execution_count": 7,
     "metadata": {},
     "output_type": "execute_result"
    }
   ],
   "source": [
    "number_of_time_steps = my_problem.get('MODEL.NTIMESTEPS')\n",
    "number_of_time_steps"
   ]
  },
  {
   "cell_type": "markdown",
   "metadata": {},
   "source": [
    "# New array to save the value of a water depth"
   ]
  },
  {
   "cell_type": "code",
   "execution_count": 8,
   "metadata": {
    "execution": {
     "iopub.execute_input": "2023-12-01T09:20:13.185660Z",
     "iopub.status.busy": "2023-12-01T09:20:13.185474Z",
     "iopub.status.idle": "2023-12-01T09:20:13.188148Z",
     "shell.execute_reply": "2023-12-01T09:20:13.187669Z"
    }
   },
   "outputs": [],
   "source": [
    "import numpy as np\n",
    "\n",
    "H_save = np.zeros((number_of_time_steps,))"
   ]
  },
  {
   "cell_type": "markdown",
   "metadata": {},
   "source": [
    "# Get the node number corresponding to the coordinates (2030, 40)"
   ]
  },
  {
   "cell_type": "code",
   "execution_count": 9,
   "metadata": {
    "execution": {
     "iopub.execute_input": "2023-12-01T09:20:13.190000Z",
     "iopub.status.busy": "2023-12-01T09:20:13.189832Z",
     "iopub.status.idle": "2023-12-01T09:20:13.244031Z",
     "shell.execute_reply": "2023-12-01T09:20:13.243484Z"
    }
   },
   "outputs": [
    {
     "name": "stdout",
     "output_type": "stream",
     "text": [
      "8848\n"
     ]
    }
   ],
   "source": [
    "H_node = my_problem.get_node(2030., 40.)\n",
    "print(H_node)"
   ]
  },
  {
   "cell_type": "markdown",
   "metadata": {},
   "source": [
    "# Simulation and save the water depth"
   ]
  },
  {
   "cell_type": "code",
   "execution_count": 10,
   "metadata": {
    "execution": {
     "iopub.execute_input": "2023-12-01T09:20:13.246056Z",
     "iopub.status.busy": "2023-12-01T09:20:13.245869Z",
     "iopub.status.idle": "2023-12-01T09:20:14.756144Z",
     "shell.execute_reply": "2023-12-01T09:20:14.755616Z"
    }
   },
   "outputs": [
    {
     "name": "stdout",
     "output_type": "stream",
     "text": [
      "\r",
      "[                    ] 0%"
     ]
    },
    {
     "name": "stdout",
     "output_type": "stream",
     "text": [
      " THE LIQUID BOUNDARIES FILE CONTAINS\n",
      "           3  LINES WITH:\n",
      " SL(1)    Q(2)     \n",
      "\r",
      "[                    ] 1% USING STREAMLINE VERSION V8P5 FOR CHARACTERISTICS\n"
     ]
    },
    {
     "name": "stdout",
     "output_type": "stream",
     "text": [
      "\r",
      "[                    ] 2%"
     ]
    },
    {
     "name": "stdout",
     "output_type": "stream",
     "text": [
      "\r",
      "[                    ] 3%"
     ]
    },
    {
     "name": "stdout",
     "output_type": "stream",
     "text": [
      "\r",
      "[                    ] 4%"
     ]
    },
    {
     "name": "stdout",
     "output_type": "stream",
     "text": [
      "\r",
      "[=                   ] 5%"
     ]
    },
    {
     "name": "stdout",
     "output_type": "stream",
     "text": [
      "\r",
      "[=                   ] 6%"
     ]
    },
    {
     "name": "stdout",
     "output_type": "stream",
     "text": [
      "\r",
      "[=                   ] 7%"
     ]
    },
    {
     "name": "stdout",
     "output_type": "stream",
     "text": [
      "\r",
      "[=                   ] 8%"
     ]
    },
    {
     "name": "stdout",
     "output_type": "stream",
     "text": [
      "\r",
      "[=                   ] 9%"
     ]
    },
    {
     "name": "stdout",
     "output_type": "stream",
     "text": [
      "\r",
      "[==                  ] 10%"
     ]
    },
    {
     "name": "stdout",
     "output_type": "stream",
     "text": [
      "\r",
      "[==                  ] 11%"
     ]
    },
    {
     "name": "stdout",
     "output_type": "stream",
     "text": [
      "\r",
      "[==                  ] 12%"
     ]
    },
    {
     "name": "stdout",
     "output_type": "stream",
     "text": [
      "\r",
      "[==                  ] 13%"
     ]
    },
    {
     "name": "stdout",
     "output_type": "stream",
     "text": [
      "\r",
      "[==                  ] 14%"
     ]
    },
    {
     "name": "stdout",
     "output_type": "stream",
     "text": [
      "\r",
      "[===                 ] 15%"
     ]
    },
    {
     "name": "stdout",
     "output_type": "stream",
     "text": [
      "\r",
      "[===                 ] 16%"
     ]
    },
    {
     "name": "stdout",
     "output_type": "stream",
     "text": [
      "\r",
      "[===                 ] 17%"
     ]
    },
    {
     "name": "stdout",
     "output_type": "stream",
     "text": [
      "\r",
      "[===                 ] 18%"
     ]
    },
    {
     "name": "stdout",
     "output_type": "stream",
     "text": [
      "\r",
      "[===                 ] 19%"
     ]
    },
    {
     "name": "stdout",
     "output_type": "stream",
     "text": [
      "\r",
      "[====                ] 20%"
     ]
    },
    {
     "name": "stdout",
     "output_type": "stream",
     "text": [
      "\r",
      "[====                ] 21%"
     ]
    },
    {
     "name": "stdout",
     "output_type": "stream",
     "text": [
      "\r",
      "[====                ] 22%"
     ]
    },
    {
     "name": "stdout",
     "output_type": "stream",
     "text": [
      "\r",
      "[====                ] 23%"
     ]
    },
    {
     "name": "stdout",
     "output_type": "stream",
     "text": [
      "\r",
      "[====                ] 24%"
     ]
    },
    {
     "name": "stdout",
     "output_type": "stream",
     "text": [
      "\r",
      "[=====               ] 25%"
     ]
    },
    {
     "name": "stdout",
     "output_type": "stream",
     "text": [
      "\r",
      "[=====               ] 26%"
     ]
    },
    {
     "name": "stdout",
     "output_type": "stream",
     "text": [
      "\r",
      "[=====               ] 27%"
     ]
    },
    {
     "name": "stdout",
     "output_type": "stream",
     "text": [
      "\r",
      "[=====               ] 28%"
     ]
    },
    {
     "name": "stdout",
     "output_type": "stream",
     "text": [
      "\r",
      "[=====               ] 29%"
     ]
    },
    {
     "name": "stdout",
     "output_type": "stream",
     "text": [
      "\r",
      "[======              ] 30%"
     ]
    },
    {
     "name": "stdout",
     "output_type": "stream",
     "text": [
      "\r",
      "[======              ] 31%"
     ]
    },
    {
     "name": "stdout",
     "output_type": "stream",
     "text": [
      "\r",
      "[======              ] 32%"
     ]
    },
    {
     "name": "stdout",
     "output_type": "stream",
     "text": [
      "\r",
      "[======              ] 33%"
     ]
    },
    {
     "name": "stdout",
     "output_type": "stream",
     "text": [
      "\r",
      "[======              ] 34%"
     ]
    },
    {
     "name": "stdout",
     "output_type": "stream",
     "text": [
      "\r",
      "[=======             ] 35%"
     ]
    },
    {
     "name": "stdout",
     "output_type": "stream",
     "text": [
      "\r",
      "[=======             ] 36%"
     ]
    },
    {
     "name": "stdout",
     "output_type": "stream",
     "text": [
      "\r",
      "[=======             ] 37%"
     ]
    },
    {
     "name": "stdout",
     "output_type": "stream",
     "text": [
      "\r",
      "[=======             ] 38%"
     ]
    },
    {
     "name": "stdout",
     "output_type": "stream",
     "text": [
      "\r",
      "[=======             ] 39%"
     ]
    },
    {
     "name": "stdout",
     "output_type": "stream",
     "text": [
      "\r",
      "[========            ] 40%"
     ]
    },
    {
     "name": "stdout",
     "output_type": "stream",
     "text": [
      "\r",
      "[========            ] 41%"
     ]
    },
    {
     "name": "stdout",
     "output_type": "stream",
     "text": [
      "\r",
      "[========            ] 42%"
     ]
    },
    {
     "name": "stdout",
     "output_type": "stream",
     "text": [
      "\r",
      "[========            ] 43%"
     ]
    },
    {
     "name": "stdout",
     "output_type": "stream",
     "text": [
      "\r",
      "[========            ] 44%"
     ]
    },
    {
     "name": "stdout",
     "output_type": "stream",
     "text": [
      "\r",
      "[=========           ] 45%"
     ]
    },
    {
     "name": "stdout",
     "output_type": "stream",
     "text": [
      "\r",
      "[=========           ] 46%"
     ]
    },
    {
     "name": "stdout",
     "output_type": "stream",
     "text": [
      "\r",
      "[=========           ] 47%"
     ]
    },
    {
     "name": "stdout",
     "output_type": "stream",
     "text": [
      "\r",
      "[=========           ] 48%"
     ]
    },
    {
     "name": "stdout",
     "output_type": "stream",
     "text": [
      "\r",
      "[=========           ] 49%"
     ]
    },
    {
     "name": "stdout",
     "output_type": "stream",
     "text": [
      "\r",
      "[==========          ] 50%"
     ]
    },
    {
     "name": "stdout",
     "output_type": "stream",
     "text": [
      "\r",
      "[==========          ] 51%"
     ]
    },
    {
     "name": "stdout",
     "output_type": "stream",
     "text": [
      "\r",
      "[==========          ] 52%"
     ]
    },
    {
     "name": "stdout",
     "output_type": "stream",
     "text": [
      "\r",
      "[==========          ] 53%"
     ]
    },
    {
     "name": "stdout",
     "output_type": "stream",
     "text": [
      "\r",
      "[==========          ] 54%"
     ]
    },
    {
     "name": "stdout",
     "output_type": "stream",
     "text": [
      "\r",
      "[===========         ] 55%"
     ]
    },
    {
     "name": "stdout",
     "output_type": "stream",
     "text": [
      "\r",
      "[===========         ] 56%"
     ]
    },
    {
     "name": "stdout",
     "output_type": "stream",
     "text": [
      "\r",
      "[===========         ] 57%"
     ]
    },
    {
     "name": "stdout",
     "output_type": "stream",
     "text": [
      "\r",
      "[===========         ] 58%"
     ]
    },
    {
     "name": "stdout",
     "output_type": "stream",
     "text": [
      "\r",
      "[===========         ] 59%"
     ]
    },
    {
     "name": "stdout",
     "output_type": "stream",
     "text": [
      "\r",
      "[============        ] 60%"
     ]
    },
    {
     "name": "stdout",
     "output_type": "stream",
     "text": [
      "\r",
      "[============        ] 61%"
     ]
    },
    {
     "name": "stdout",
     "output_type": "stream",
     "text": [
      "\r",
      "[============        ] 62%"
     ]
    },
    {
     "name": "stdout",
     "output_type": "stream",
     "text": [
      "\r",
      "[============        ] 63%"
     ]
    },
    {
     "name": "stdout",
     "output_type": "stream",
     "text": [
      "\r",
      "[============        ] 64%"
     ]
    },
    {
     "name": "stdout",
     "output_type": "stream",
     "text": [
      "\r",
      "[=============       ] 65%"
     ]
    },
    {
     "name": "stdout",
     "output_type": "stream",
     "text": [
      "\r",
      "[=============       ] 66%"
     ]
    },
    {
     "name": "stdout",
     "output_type": "stream",
     "text": [
      "\r",
      "[=============       ] 67%"
     ]
    },
    {
     "name": "stdout",
     "output_type": "stream",
     "text": [
      "\r",
      "[=============       ] 68%"
     ]
    },
    {
     "name": "stdout",
     "output_type": "stream",
     "text": [
      "\r",
      "[=============       ] 69%"
     ]
    },
    {
     "name": "stdout",
     "output_type": "stream",
     "text": [
      "\r",
      "[==============      ] 70%"
     ]
    },
    {
     "name": "stdout",
     "output_type": "stream",
     "text": [
      "\r",
      "[==============      ] 71%"
     ]
    },
    {
     "name": "stdout",
     "output_type": "stream",
     "text": [
      "\r",
      "[==============      ] 72%"
     ]
    },
    {
     "name": "stdout",
     "output_type": "stream",
     "text": [
      "\r",
      "[==============      ] 73%"
     ]
    },
    {
     "name": "stdout",
     "output_type": "stream",
     "text": [
      "\r",
      "[==============      ] 74%"
     ]
    },
    {
     "name": "stdout",
     "output_type": "stream",
     "text": [
      "\r",
      "[===============     ] 75%"
     ]
    },
    {
     "name": "stdout",
     "output_type": "stream",
     "text": [
      "\r",
      "[===============     ] 76%"
     ]
    },
    {
     "name": "stdout",
     "output_type": "stream",
     "text": [
      "\r",
      "[===============     ] 77%"
     ]
    },
    {
     "name": "stdout",
     "output_type": "stream",
     "text": [
      "\r",
      "[===============     ] 78%"
     ]
    },
    {
     "name": "stdout",
     "output_type": "stream",
     "text": [
      "\r",
      "[===============     ] 79%"
     ]
    },
    {
     "name": "stdout",
     "output_type": "stream",
     "text": [
      "\r",
      "[================    ] 80%"
     ]
    },
    {
     "name": "stdout",
     "output_type": "stream",
     "text": [
      "\r",
      "[================    ] 81%"
     ]
    },
    {
     "name": "stdout",
     "output_type": "stream",
     "text": [
      "\r",
      "[================    ] 82%"
     ]
    },
    {
     "name": "stdout",
     "output_type": "stream",
     "text": [
      "\r",
      "[================    ] 83%"
     ]
    },
    {
     "name": "stdout",
     "output_type": "stream",
     "text": [
      "\r",
      "[================    ] 84%"
     ]
    },
    {
     "name": "stdout",
     "output_type": "stream",
     "text": [
      "\r",
      "[=================   ] 85%"
     ]
    },
    {
     "name": "stdout",
     "output_type": "stream",
     "text": [
      "\r",
      "[=================   ] 86%"
     ]
    },
    {
     "name": "stdout",
     "output_type": "stream",
     "text": [
      "\r",
      "[=================   ] 87%"
     ]
    },
    {
     "name": "stdout",
     "output_type": "stream",
     "text": [
      "\r",
      "[=================   ] 88%"
     ]
    },
    {
     "name": "stdout",
     "output_type": "stream",
     "text": [
      "\r",
      "[=================   ] 89%"
     ]
    },
    {
     "name": "stdout",
     "output_type": "stream",
     "text": [
      "\r",
      "[==================  ] 90%"
     ]
    },
    {
     "name": "stdout",
     "output_type": "stream",
     "text": [
      "\r",
      "[==================  ] 91%"
     ]
    },
    {
     "name": "stdout",
     "output_type": "stream",
     "text": [
      "\r",
      "[==================  ] 92%"
     ]
    },
    {
     "name": "stdout",
     "output_type": "stream",
     "text": [
      "\r",
      "[==================  ] 93%"
     ]
    },
    {
     "name": "stdout",
     "output_type": "stream",
     "text": [
      "\r",
      "[==================  ] 94%"
     ]
    },
    {
     "name": "stdout",
     "output_type": "stream",
     "text": [
      "\r",
      "[=================== ] 95%"
     ]
    },
    {
     "name": "stdout",
     "output_type": "stream",
     "text": [
      "\r",
      "[=================== ] 96%"
     ]
    },
    {
     "name": "stdout",
     "output_type": "stream",
     "text": [
      "\r",
      "[=================== ] 97%"
     ]
    },
    {
     "name": "stdout",
     "output_type": "stream",
     "text": [
      "\r",
      "[=================== ] 98%"
     ]
    },
    {
     "name": "stdout",
     "output_type": "stream",
     "text": [
      "\r",
      "[====================] 100%"
     ]
    }
   ],
   "source": [
    "# We will manually reduce the number of time steps to speed up the compuation\n",
    "# Delete the follwing line to run the full case\n",
    "number_of_time_steps = 100\n",
    "for i in range(number_of_time_steps):\n",
    "    sys.stdout.write('\\r')\n",
    "    # the exact output you're looking for:\n",
    "    percent = 100*i//(max(number_of_time_steps-1,1))\n",
    "    sys.stdout.write(\"[%-20s] %d%%\" % ('='*(percent//5), percent))\n",
    "    sys.stdout.flush()\n",
    "    \n",
    "    my_problem.run_one_time_step()\n",
    "    \n",
    "    H_save[i] = my_problem.get('MODEL.WATERDEPTH', i=H_node-1)"
   ]
  },
  {
   "cell_type": "markdown",
   "metadata": {},
   "source": [
    "# Plot the water depth vs time"
   ]
  },
  {
   "cell_type": "code",
   "execution_count": 11,
   "metadata": {
    "execution": {
     "iopub.execute_input": "2023-12-01T09:20:14.758139Z",
     "iopub.status.busy": "2023-12-01T09:20:14.757975Z",
     "iopub.status.idle": "2023-12-01T09:20:14.834678Z",
     "shell.execute_reply": "2023-12-01T09:20:14.834210Z"
    }
   },
   "outputs": [
    {
     "data": {
      "image/png": "[encoded data removed]",
      "text/plain": [
       "<Figure size 640x480 with 1 Axes>"
      ]
     },
     "metadata": {},
     "output_type": "display_data"
    }
   ],
   "source": [
    "import matplotlib.pyplot as plt\n",
    "\n",
    "plt.plot(H_save)\n",
    "plt.grid()\n",
    "plt.xlabel(\"Number of time steps\")\n",
    "plt.ylabel(\"Water level (m)\")\n",
    "plt.show()"
   ]
  },
  {
   "cell_type": "markdown",
   "metadata": {},
   "source": [
    "# And finally, delete the case"
   ]
  },
  {
   "cell_type": "code",
   "execution_count": 12,
   "metadata": {
    "execution": {
     "iopub.execute_input": "2023-12-01T09:20:14.836693Z",
     "iopub.status.busy": "2023-12-01T09:20:14.836509Z",
     "iopub.status.idle": "2023-12-01T09:20:14.839879Z",
     "shell.execute_reply": "2023-12-01T09:20:14.839481Z"
    }
   },
   "outputs": [
    {
     "name": "stdout",
     "output_type": "stream",
     "text": [
      "\n",
      "\n",
      "\n",
      "                     *************************************\n",
      "                     *    END OF MEMORY ORGANIZATION:    *\n",
      "                     *************************************\n",
      "\n",
      "\n",
      "\n",
      "\n",
      " CORRECT END OF RUN\n",
      "\n",
      "\n",
      "\n",
      " ELAPSE TIME : \n",
      "                              2  SECONDS\n"
     ]
    }
   ],
   "source": [
    "ierr = my_problem.finalize()\n",
    "\n",
    "del my_problem"
   ]
  }
 ],
 "metadata": {
  "anaconda-cloud": {},
  "kernelspec": {
   "display_name": "Python 3",
   "language": "python",
   "name": "python3"
  },
  "language_info": {
   "codemirror_mode": {
    "name": "ipython",
    "version": 3
   },
   "file_extension": ".py",
   "mimetype": "text/x-python",
   "name": "python",
   "nbconvert_exporter": "python",
   "pygments_lexer": "ipython3",
   "version": "3.9.17"
  }
 },
 "nbformat": 4,
 "nbformat_minor": 1
}
