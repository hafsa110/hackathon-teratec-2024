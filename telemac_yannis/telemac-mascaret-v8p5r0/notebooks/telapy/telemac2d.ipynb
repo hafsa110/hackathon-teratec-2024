{
 "cells": [
  {
   "cell_type": "markdown",
   "metadata": {},
   "source": [
    "<span style=\"float:left;\">Licence CC BY-SA</span><span style=\"float:right;\">Fabrice Zaoui&nbsp;</span><br/>\n",
    "___"
   ]
  },
  {
   "cell_type": "markdown",
   "metadata": {},
   "source": [
    "This tutorial is intended for people who want to run Telemac 2D in an interactive mode with the help of the Python programming language. The interactive mode means that communication with Telemac becomes possible throughout the simulation without having to stop it. One can easily set or get the value of any variables at each time step with the help of special communication functions: the [Application Programming Interfaces](https://en.wikipedia.org/wiki/Application_programming_interface) (API).\n",
    "\n",
    "By using the APIs, research and engineering with Telemac is encouraged in every fields where communication is crucial: optimization, code coupling, control system, sensitivity analysis and so on."
   ]
  },
  {
   "cell_type": "markdown",
   "metadata": {},
   "source": [
    "# Telemac 2D as a Python module"
   ]
  },
  {
   "cell_type": "markdown",
   "metadata": {},
   "source": [
    "## Building the interface"
   ]
  },
  {
   "cell_type": "markdown",
   "metadata": {},
   "source": [
    "When using Telemac in a classic way (i.e. without API), you first have to compile all the Fortran sources of Telemac with (for example) the following command:"
   ]
  },
  {
   "cell_type": "markdown",
   "metadata": {},
   "source": [
    "`compile_telemac.py`"
   ]
  },
  {
   "cell_type": "markdown",
   "metadata": {
    "collapsed": true
   },
   "source": [
    "*Note: if an error occurs, check for the environment variables HOMETEL and SYSTELCFG and rerun the command.*"
   ]
  },
  {
   "cell_type": "markdown",
   "metadata": {},
   "source": [
    "If the compilation is successful, you will then run Telemac on your test case providing a steering file:"
   ]
  },
  {
   "cell_type": "markdown",
   "metadata": {},
   "source": [
    "`telemac2d.py t2d.cas`"
   ]
  },
  {
   "cell_type": "markdown",
   "metadata": {},
   "source": [
    "*Note: as the name of the steering file here is fictive, no computation is done*"
   ]
  },
  {
   "cell_type": "markdown",
   "metadata": {},
   "source": [
    "The interface between the Telemac libraries and the Python language is automatically created using [F2PY](https://numpy.org/doc/stable/f2py/). This corresponds to the compilation of the Telemac API for Python. It has to be done by adding :\n",
    "options: api\n",
    "in the configuration file (systel.cfg)"
   ]
  },
  {
   "cell_type": "markdown",
   "metadata": {},
   "source": [
    "## Using the interface"
   ]
  },
  {
   "cell_type": "markdown",
   "metadata": {},
   "source": [
    "Telemac/Python is now ready to be used as a hydrodynamic 2D solver with the import system:"
   ]
  },
  {
   "cell_type": "code",
   "execution_count": 1,
   "metadata": {
    "execution": {
     "iopub.execute_input": "2023-12-01T09:20:03.320553Z",
     "iopub.status.busy": "2023-12-01T09:20:03.320012Z",
     "iopub.status.idle": "2023-12-01T09:20:03.361911Z",
     "shell.execute_reply": "2023-12-01T09:20:03.361302Z"
    }
   },
   "outputs": [],
   "source": [
    "import telapy.api.t2d"
   ]
  },
  {
   "cell_type": "markdown",
   "metadata": {},
   "source": [
    "The module 'TelApy.api.t2d' is located in the '$HOMETEL/scripts/python3/telapy/api' directory. If an error occurs while attempting to import, check the value of the environment variable PYTHONPATH. Alternatively you can also work with the file 'apiT2d.py' listed in your working directory.\n"
   ]
  },
  {
   "cell_type": "code",
   "execution_count": 2,
   "metadata": {
    "execution": {
     "iopub.execute_input": "2023-12-01T09:20:03.364101Z",
     "iopub.status.busy": "2023-12-01T09:20:03.363877Z",
     "iopub.status.idle": "2023-12-01T09:20:03.369342Z",
     "shell.execute_reply": "2023-12-01T09:20:03.368960Z"
    }
   },
   "outputs": [
    {
     "data": {
      "text/plain": [
       "'/home/d60881/telemac/builds/S11.gfortran.dyn/wrap_api/lib:/home/d60881/telemac/scripts/python3:'"
      ]
     },
     "execution_count": 2,
     "metadata": {},
     "output_type": "execute_result"
    }
   ],
   "source": [
    "%env PYTHONPATH"
   ]
  },
  {
   "cell_type": "markdown",
   "metadata": {},
   "source": [
    "The module 'TelApy.api.t2d' defines a class named 'Telemac2d'. The user will have to instantiate an object from this class in order to run Telemac with all the facilities offered by the API."
   ]
  },
  {
   "cell_type": "code",
   "execution_count": 3,
   "metadata": {
    "execution": {
     "iopub.execute_input": "2023-12-01T09:20:03.371266Z",
     "iopub.status.busy": "2023-12-01T09:20:03.371094Z",
     "iopub.status.idle": "2023-12-01T09:20:06.429438Z",
     "shell.execute_reply": "2023-12-01T09:20:06.428703Z"
    }
   },
   "outputs": [
    {
     "name": "stdout",
     "output_type": "stream",
     "text": [
      "  ~> Checking keyword/rubrique coherence\n"
     ]
    },
    {
     "data": {
      "text/plain": [
       "<telapy.api.t2d.Telemac2d at 0x7f2378d6cd60>"
      ]
     },
     "execution_count": 3,
     "metadata": {},
     "output_type": "execute_result"
    }
   ],
   "source": [
    "# Changing of directory : 'examples' directory of the Telemac sources\n",
    "import os\n",
    "HOMETEL = os.environ.get('HOMETEL')\n",
    "os.chdir(HOMETEL + '/examples/telemac2d/breach')\n",
    "\n",
    "# Instantiation of a Telemac2d object from the test case named 'breach'\n",
    "# - steering file : 't2d_breach.cas'\n",
    "# - language : french (1) or english (2: default)\n",
    "from telapy.api.t2d import Telemac2d\n",
    "from mpi4py import MPI\n",
    "my_case = Telemac2d('t2d_breach.cas', lang=1, comm=MPI.COMM_WORLD)\n",
    "my_case"
   ]
  },
  {
   "cell_type": "markdown",
   "metadata": {},
   "source": [
    "An object 'my_case' is now created. This object offers some useful methods to communicate with the Telemac computational kernel. These (non exaustive) methods are seen with:"
   ]
  },
  {
   "cell_type": "code",
   "execution_count": 4,
   "metadata": {
    "execution": {
     "iopub.execute_input": "2023-12-01T09:20:06.431533Z",
     "iopub.status.busy": "2023-12-01T09:20:06.431345Z",
     "iopub.status.idle": "2023-12-01T09:20:06.436749Z",
     "shell.execute_reply": "2023-12-01T09:20:06.436126Z"
    }
   },
   "outputs": [
    {
     "data": {
      "text/plain": [
       "['__class__',\n",
       " '__del__',\n",
       " '__delattr__',\n",
       " '__dict__',\n",
       " '__dir__',\n",
       " '__doc__',\n",
       " '__eq__',\n",
       " '__format__',\n",
       " '__ge__',\n",
       " '__getattribute__',\n",
       " '__gt__',\n",
       " '__hash__',\n",
       " '__init__',\n",
       " '__init_subclass__',\n",
       " '__le__',\n",
       " '__lt__',\n",
       " '__module__',\n",
       " '__ne__',\n",
       " '__new__',\n",
       " '__reduce__',\n",
       " '__reduce_ex__',\n",
       " '__repr__',\n",
       " '__setattr__',\n",
       " '__sizeof__',\n",
       " '__str__',\n",
       " '__subclasshook__',\n",
       " '__weakref__',\n",
       " '_api',\n",
       " '_error',\n",
       " '_get_file_format',\n",
       " '_get_var_info',\n",
       " '_initstate',\n",
       " '_instanciated',\n",
       " '_knolg',\n",
       " '_mod_handle_var',\n",
       " '_nachb',\n",
       " '_run_allocation',\n",
       " '_run_finalize',\n",
       " '_run_init',\n",
       " '_run_read_case',\n",
       " '_run_set_config',\n",
       " '_run_timestep',\n",
       " '_run_timestep_compute',\n",
       " '_run_timestep_res',\n",
       " '_run_timestep_rst',\n",
       " '_save_variable',\n",
       " '_saved',\n",
       " '_set_parallel_array',\n",
       " '_variables',\n",
       " 'api_handle_error',\n",
       " 'api_inter',\n",
       " 'bottom',\n",
       " 'cas',\n",
       " 'casfile',\n",
       " 'cleanup',\n",
       " 'code',\n",
       " 'comm',\n",
       " 'concatenation_step',\n",
       " 'coordx',\n",
       " 'coordy',\n",
       " 'dicofile',\n",
       " 'dump_var_info',\n",
       " 'error',\n",
       " 'fcomm',\n",
       " 'finalize',\n",
       " 'g2l',\n",
       " 'gaia_dico',\n",
       " 'gaia_file',\n",
       " 'generate_var_info',\n",
       " 'get',\n",
       " 'get_array',\n",
       " 'get_elem',\n",
       " 'get_error_message',\n",
       " 'get_mesh',\n",
       " 'get_node',\n",
       " 'get_on_polygon',\n",
       " 'get_on_range',\n",
       " 'get_state',\n",
       " 'get_var_ndim',\n",
       " 'get_var_pos',\n",
       " 'get_var_readonly',\n",
       " 'get_var_size',\n",
       " 'get_var_type',\n",
       " 'gretel_method',\n",
       " 'init_state_default',\n",
       " 'l2g',\n",
       " 'lang',\n",
       " 'list_variables',\n",
       " 'logger',\n",
       " 'mpi_get',\n",
       " 'mpi_get_array',\n",
       " 'mpi_get_npoin',\n",
       " 'mpi_set',\n",
       " 'mpi_set_array',\n",
       " 'my_id',\n",
       " 'name',\n",
       " 'nbnodes',\n",
       " 'ncsize',\n",
       " 'nelem',\n",
       " 'parallel_run',\n",
       " 'partitionning_step',\n",
       " 'rank',\n",
       " 'restore_state',\n",
       " 'run_all_time_steps',\n",
       " 'run_one_time_step',\n",
       " 'run_one_time_step_compute',\n",
       " 'run_one_time_step_res',\n",
       " 'run_one_time_step_rst',\n",
       " 'save_state',\n",
       " 'set',\n",
       " 'set_array',\n",
       " 'set_bathy',\n",
       " 'set_case',\n",
       " 'set_on_polygon',\n",
       " 'set_on_range',\n",
       " 'set_state',\n",
       " 'show_mesh',\n",
       " 'show_state',\n",
       " 'stdout',\n",
       " 'tri',\n",
       " 'user_fortran_lib',\n",
       " 'variables',\n",
       " 'waqdico',\n",
       " 'waqfile']"
      ]
     },
     "execution_count": 4,
     "metadata": {},
     "output_type": "execute_result"
    }
   ],
   "source": [
    "dir(my_case)"
   ]
  },
  {
   "cell_type": "markdown",
   "metadata": {
    "collapsed": true
   },
   "source": [
    "# API description"
   ]
  },
  {
   "cell_type": "markdown",
   "metadata": {},
   "source": [
    "The methods listed above give access to the Fortran Telemac API and to some extra functionalities based on Python packages like 'numpy' or 'matplotlib'. The list is still uncomplete and will be improved in future."
   ]
  },
  {
   "cell_type": "markdown",
   "metadata": {},
   "source": [
    "### Get the value of a Telemac variable"
   ]
  },
  {
   "cell_type": "code",
   "execution_count": 5,
   "metadata": {
    "execution": {
     "iopub.execute_input": "2023-12-01T09:20:06.439067Z",
     "iopub.status.busy": "2023-12-01T09:20:06.438833Z",
     "iopub.status.idle": "2023-12-01T09:20:06.442838Z",
     "shell.execute_reply": "2023-12-01T09:20:06.442278Z"
    }
   },
   "outputs": [
    {
     "name": "stdout",
     "output_type": "stream",
     "text": [
      "Help on method get in module telapy.api.api_module:\n",
      "\n",
      "get(varname, i=-1, j=-1, k=-1) method of telapy.api.t2d.Telemac2d instance\n",
      "    Get the value of a variable of Telemac 2D\n",
      "    \n",
      "    @param varname Name of the variable\n",
      "    @param i index on first dimension\n",
      "    @param j index on second dimension\n",
      "    @param k index on third dimension\n",
      "    \n",
      "    @return variable value\n",
      "\n"
     ]
    }
   ],
   "source": [
    "help(my_case.get)"
   ]
  },
  {
   "cell_type": "markdown",
   "metadata": {},
   "source": [
    "### Get a node number"
   ]
  },
  {
   "cell_type": "code",
   "execution_count": 6,
   "metadata": {
    "execution": {
     "iopub.execute_input": "2023-12-01T09:20:06.445513Z",
     "iopub.status.busy": "2023-12-01T09:20:06.445281Z",
     "iopub.status.idle": "2023-12-01T09:20:06.449147Z",
     "shell.execute_reply": "2023-12-01T09:20:06.448556Z"
    }
   },
   "outputs": [
    {
     "name": "stdout",
     "output_type": "stream",
     "text": [
      "Help on method get_node in module telapy.api.api_module:\n",
      "\n",
      "get_node(xval, yval) method of telapy.api.t2d.Telemac2d instance\n",
      "    Get the nearest node number for the coordinates (xval, yval).\n",
      "    On local mesh\n",
      "    \n",
      "    @param xval X coordinate.\n",
      "    @param yval Y coordinate.\n",
      "    \n",
      "    @returns An integer value from 0 to (nbnode-1).\n",
      "\n"
     ]
    }
   ],
   "source": [
    "help(my_case.get_node)"
   ]
  },
  {
   "cell_type": "markdown",
   "metadata": {},
   "source": [
    "### Get an element number"
   ]
  },
  {
   "cell_type": "code",
   "execution_count": 7,
   "metadata": {
    "execution": {
     "iopub.execute_input": "2023-12-01T09:20:06.451380Z",
     "iopub.status.busy": "2023-12-01T09:20:06.451148Z",
     "iopub.status.idle": "2023-12-01T09:20:06.455075Z",
     "shell.execute_reply": "2023-12-01T09:20:06.454474Z"
    }
   },
   "outputs": [
    {
     "name": "stdout",
     "output_type": "stream",
     "text": [
      "Help on method get_elem in module telapy.api.api_module:\n",
      "\n",
      "get_elem(xval, yval) method of telapy.api.t2d.Telemac2d instance\n",
      "    Get the triangle where the point (xval, yval) is on the local mesh\n",
      "    \n",
      "    @param xval X coordinate\n",
      "    @param yval Y coordinate\n",
      "    \n",
      "    @return integer value from 0 to (nbtriangle-1)\n",
      "             (-1 if no triangle found)\n",
      "\n"
     ]
    }
   ],
   "source": [
    "help(my_case.get_elem)"
   ]
  },
  {
   "cell_type": "markdown",
   "metadata": {},
   "source": [
    "### Error message from Telemac"
   ]
  },
  {
   "cell_type": "code",
   "execution_count": 8,
   "metadata": {
    "execution": {
     "iopub.execute_input": "2023-12-01T09:20:06.458177Z",
     "iopub.status.busy": "2023-12-01T09:20:06.457938Z",
     "iopub.status.idle": "2023-12-01T09:20:06.461777Z",
     "shell.execute_reply": "2023-12-01T09:20:06.461157Z"
    }
   },
   "outputs": [
    {
     "name": "stdout",
     "output_type": "stream",
     "text": [
      "Help on method get_error_message in module telapy.api.api_module:\n",
      "\n",
      "get_error_message() method of telapy.api.t2d.Telemac2d instance\n",
      "    Get the error message from the Fortran sources of Telemac 2D\n",
      "    \n",
      "    @return character string of the error message\n",
      "\n"
     ]
    }
   ],
   "source": [
    "help(my_case.get_error_message)"
   ]
  },
  {
   "cell_type": "markdown",
   "metadata": {},
   "source": [
    "### Mesh coordinates and connectivity"
   ]
  },
  {
   "cell_type": "code",
   "execution_count": 9,
   "metadata": {
    "execution": {
     "iopub.execute_input": "2023-12-01T09:20:06.463987Z",
     "iopub.status.busy": "2023-12-01T09:20:06.463749Z",
     "iopub.status.idle": "2023-12-01T09:20:06.467449Z",
     "shell.execute_reply": "2023-12-01T09:20:06.466846Z"
    }
   },
   "outputs": [
    {
     "name": "stdout",
     "output_type": "stream",
     "text": [
      "Help on method get_mesh in module telapy.api.api_module:\n",
      "\n",
      "get_mesh() method of telapy.api.t2d.Telemac2d instance\n",
      "    Get the local 2D mesh of triangular cells\n",
      "    \n",
      "    @returns X, Y coordinates and connectivity\n",
      "\n"
     ]
    }
   ],
   "source": [
    "help(my_case.get_mesh)"
   ]
  },
  {
   "cell_type": "markdown",
   "metadata": {},
   "source": [
    "### Hydraulic state"
   ]
  },
  {
   "cell_type": "code",
   "execution_count": 10,
   "metadata": {
    "execution": {
     "iopub.execute_input": "2023-12-01T09:20:06.469889Z",
     "iopub.status.busy": "2023-12-01T09:20:06.469653Z",
     "iopub.status.idle": "2023-12-01T09:20:06.473380Z",
     "shell.execute_reply": "2023-12-01T09:20:06.472776Z"
    }
   },
   "outputs": [
    {
     "name": "stdout",
     "output_type": "stream",
     "text": [
      "Help on method get_state in module telapy.api.t2d:\n",
      "\n",
      "get_state() method of telapy.api.t2d.Telemac2d instance\n",
      "    Get the hydraulic state\n",
      "    \n",
      "    @returns the hydraulic state: depth (m) .. u_vel (m/s) .. v_vel (m/s)\n",
      "\n"
     ]
    }
   ],
   "source": [
    "help(my_case.get_state)"
   ]
  },
  {
   "cell_type": "code",
   "execution_count": 11,
   "metadata": {
    "execution": {
     "iopub.execute_input": "2023-12-01T09:20:06.475603Z",
     "iopub.status.busy": "2023-12-01T09:20:06.475377Z",
     "iopub.status.idle": "2023-12-01T09:20:06.478922Z",
     "shell.execute_reply": "2023-12-01T09:20:06.478359Z"
    }
   },
   "outputs": [
    {
     "name": "stdout",
     "output_type": "stream",
     "text": [
      "Help on method set_state in module telapy.api.t2d:\n",
      "\n",
      "set_state(hval, uval, vval) method of telapy.api.t2d.Telemac2d instance\n",
      "    Set the hydraulic state: hval (m) .. uval (m/s) .. vval (m/s)\n",
      "    \n",
      "    @param hval Water depth value\n",
      "    @param uval Velocity U value\n",
      "    @param vval Velocity V value\n",
      "\n"
     ]
    }
   ],
   "source": [
    "help(my_case.set_state)"
   ]
  },
  {
   "cell_type": "markdown",
   "metadata": {},
   "source": [
    "### Read the steering file"
   ]
  },
  {
   "cell_type": "code",
   "execution_count": 12,
   "metadata": {
    "execution": {
     "iopub.execute_input": "2023-12-01T09:20:06.481718Z",
     "iopub.status.busy": "2023-12-01T09:20:06.481476Z",
     "iopub.status.idle": "2023-12-01T09:20:06.485119Z",
     "shell.execute_reply": "2023-12-01T09:20:06.484502Z"
    }
   },
   "outputs": [
    {
     "name": "stdout",
     "output_type": "stream",
     "text": [
      "Help on method set_case in module telapy.api.api_module:\n",
      "\n",
      "set_case(init=True) method of telapy.api.t2d.Telemac2d instance\n",
      "    Read the steering file\n",
      "    \n",
      "    @param init (boolean) If true calling p_init\n",
      "\n"
     ]
    }
   ],
   "source": [
    "help(my_case.set_case)"
   ]
  },
  {
   "cell_type": "markdown",
   "metadata": {},
   "source": [
    "### State initialisation"
   ]
  },
  {
   "cell_type": "code",
   "execution_count": 13,
   "metadata": {
    "execution": {
     "iopub.execute_input": "2023-12-01T09:20:06.487281Z",
     "iopub.status.busy": "2023-12-01T09:20:06.487067Z",
     "iopub.status.idle": "2023-12-01T09:20:06.490742Z",
     "shell.execute_reply": "2023-12-01T09:20:06.490123Z"
    }
   },
   "outputs": [
    {
     "name": "stdout",
     "output_type": "stream",
     "text": [
      "Help on method init_state_default in module telapy.api.api_module:\n",
      "\n",
      "init_state_default() method of telapy.api.t2d.Telemac2d instance\n",
      "    Initialize the state of the model Telemac 2D with the values of\n",
      "    disharges and water levels as indicated by the steering file\n",
      "\n"
     ]
    }
   ],
   "source": [
    "help(my_case.init_state_default)"
   ]
  },
  {
   "cell_type": "markdown",
   "metadata": {},
   "source": [
    "### Save a state"
   ]
  },
  {
   "cell_type": "code",
   "execution_count": 14,
   "metadata": {
    "execution": {
     "iopub.execute_input": "2023-12-01T09:20:06.492942Z",
     "iopub.status.busy": "2023-12-01T09:20:06.492694Z",
     "iopub.status.idle": "2023-12-01T09:20:06.496358Z",
     "shell.execute_reply": "2023-12-01T09:20:06.495702Z"
    }
   },
   "outputs": [
    {
     "name": "stdout",
     "output_type": "stream",
     "text": [
      "Help on method save_state in module telapy.api.t2d:\n",
      "\n",
      "save_state() method of telapy.api.t2d.Telemac2d instance\n",
      "    Save the hydraulic state and variables required for a complete restart.\n",
      "\n"
     ]
    }
   ],
   "source": [
    "help(my_case.save_state)"
   ]
  },
  {
   "cell_type": "markdown",
   "metadata": {},
   "source": [
    "### Back to a saved state"
   ]
  },
  {
   "cell_type": "code",
   "execution_count": 15,
   "metadata": {
    "execution": {
     "iopub.execute_input": "2023-12-01T09:20:06.498522Z",
     "iopub.status.busy": "2023-12-01T09:20:06.498308Z",
     "iopub.status.idle": "2023-12-01T09:20:06.502059Z",
     "shell.execute_reply": "2023-12-01T09:20:06.501442Z"
    }
   },
   "outputs": [
    {
     "name": "stdout",
     "output_type": "stream",
     "text": [
      "Help on method restore_state in module telapy.api.t2d:\n",
      "\n",
      "restore_state() method of telapy.api.t2d.Telemac2d instance\n",
      "    Restore the hydraulic state.\n",
      "\n"
     ]
    }
   ],
   "source": [
    "help(my_case.restore_state)"
   ]
  },
  {
   "cell_type": "markdown",
   "metadata": {},
   "source": [
    "### Run Telemac for one time step"
   ]
  },
  {
   "cell_type": "code",
   "execution_count": 16,
   "metadata": {
    "execution": {
     "iopub.execute_input": "2023-12-01T09:20:06.504235Z",
     "iopub.status.busy": "2023-12-01T09:20:06.504019Z",
     "iopub.status.idle": "2023-12-01T09:20:06.507785Z",
     "shell.execute_reply": "2023-12-01T09:20:06.507169Z"
    }
   },
   "outputs": [
    {
     "name": "stdout",
     "output_type": "stream",
     "text": [
      "Help on method run_one_time_step in module telapy.api.api_module:\n",
      "\n",
      "run_one_time_step() method of telapy.api.t2d.Telemac2d instance\n",
      "    Run one time step\n",
      "\n"
     ]
    }
   ],
   "source": [
    "help(my_case.run_one_time_step)"
   ]
  },
  {
   "cell_type": "markdown",
   "metadata": {},
   "source": [
    "### Run Telemac for all the time steps"
   ]
  },
  {
   "cell_type": "code",
   "execution_count": 17,
   "metadata": {
    "execution": {
     "iopub.execute_input": "2023-12-01T09:20:06.509971Z",
     "iopub.status.busy": "2023-12-01T09:20:06.509754Z",
     "iopub.status.idle": "2023-12-01T09:20:06.513157Z",
     "shell.execute_reply": "2023-12-01T09:20:06.512540Z"
    }
   },
   "outputs": [
    {
     "name": "stdout",
     "output_type": "stream",
     "text": [
      "Help on method run_all_time_steps in module telapy.api.api_module:\n",
      "\n",
      "run_all_time_steps() method of telapy.api.t2d.Telemac2d instance\n",
      "    Run all the time steps\n",
      "    \n",
      "    @return the number of computed time steps\n",
      "\n"
     ]
    }
   ],
   "source": [
    "help(my_case.run_all_time_steps)"
   ]
  },
  {
   "cell_type": "markdown",
   "metadata": {},
   "source": [
    "### Change the value of a Telemac variable"
   ]
  },
  {
   "cell_type": "code",
   "execution_count": 18,
   "metadata": {
    "execution": {
     "iopub.execute_input": "2023-12-01T09:20:06.515378Z",
     "iopub.status.busy": "2023-12-01T09:20:06.515115Z",
     "iopub.status.idle": "2023-12-01T09:20:06.518551Z",
     "shell.execute_reply": "2023-12-01T09:20:06.517935Z"
    }
   },
   "outputs": [
    {
     "name": "stdout",
     "output_type": "stream",
     "text": [
      "Help on method set in module telapy.api.api_module:\n",
      "\n",
      "set(varname, value, i=-1, j=-1, k=-1) method of telapy.api.t2d.Telemac2d instance\n",
      "    Set the value of a variable of the telemac-mascare module\n",
      "    \n",
      "    @param varname (str) Name of the variable\n",
      "    @param value (int/bool/str/double) the value to set\n",
      "    @param i (int) index on first dimension\n",
      "    @param j (int) index on second dimension\n",
      "    @param k (int) index on third dimension\n",
      "    \n",
      "    @return variable value\n",
      "\n"
     ]
    }
   ],
   "source": [
    "help(my_case.set)"
   ]
  },
  {
   "cell_type": "markdown",
   "metadata": {},
   "source": [
    "### Plotting the mesh"
   ]
  },
  {
   "cell_type": "code",
   "execution_count": 19,
   "metadata": {
    "execution": {
     "iopub.execute_input": "2023-12-01T09:20:06.521366Z",
     "iopub.status.busy": "2023-12-01T09:20:06.521119Z",
     "iopub.status.idle": "2023-12-01T09:20:06.524777Z",
     "shell.execute_reply": "2023-12-01T09:20:06.524113Z"
    }
   },
   "outputs": [
    {
     "name": "stdout",
     "output_type": "stream",
     "text": [
      "Help on method show_mesh in module telapy.api.api_module:\n",
      "\n",
      "show_mesh(show=True, visu2d=True) method of telapy.api.t2d.Telemac2d instance\n",
      "    Show the local 2D mesh with topography\n",
      "    \n",
      "    @param show Display the graph (Default True)\n",
      "    @param visu2d 2d display (Default True)\n",
      "    \n",
      "    @return the figure object\n",
      "\n"
     ]
    }
   ],
   "source": [
    "help(my_case.show_mesh)"
   ]
  },
  {
   "cell_type": "markdown",
   "metadata": {},
   "source": [
    "### Plotting the state"
   ]
  },
  {
   "cell_type": "code",
   "execution_count": 20,
   "metadata": {
    "execution": {
     "iopub.execute_input": "2023-12-01T09:20:06.526982Z",
     "iopub.status.busy": "2023-12-01T09:20:06.526767Z",
     "iopub.status.idle": "2023-12-01T09:20:06.530532Z",
     "shell.execute_reply": "2023-12-01T09:20:06.529918Z"
    }
   },
   "outputs": [
    {
     "name": "stdout",
     "output_type": "stream",
     "text": [
      "Help on method show_state in module telapy.api.t2d:\n",
      "\n",
      "show_state(show=True) method of telapy.api.t2d.Telemac2d instance\n",
      "    Show the hydraulic state with matplotlib\n",
      "    \n",
      "    @param show Display the graph (Default True)\n",
      "    \n",
      "    @returns the figure object\n",
      "\n"
     ]
    }
   ],
   "source": [
    "help(my_case.show_state)"
   ]
  },
  {
   "cell_type": "markdown",
   "metadata": {},
   "source": [
    "# Telemac Variables"
   ]
  },
  {
   "cell_type": "markdown",
   "metadata": {},
   "source": [
    "All the variables and parameters available with the API to set or get a value can be seen with:"
   ]
  },
  {
   "cell_type": "code",
   "execution_count": 21,
   "metadata": {
    "execution": {
     "iopub.execute_input": "2023-12-01T09:20:06.533348Z",
     "iopub.status.busy": "2023-12-01T09:20:06.533134Z",
     "iopub.status.idle": "2023-12-01T09:20:06.539544Z",
     "shell.execute_reply": "2023-12-01T09:20:06.538915Z"
    }
   },
   "outputs": [],
   "source": [
    "varnames, varinfo = my_case.list_variables()"
   ]
  },
  {
   "cell_type": "code",
   "execution_count": 22,
   "metadata": {
    "execution": {
     "iopub.execute_input": "2023-12-01T09:20:06.541791Z",
     "iopub.status.busy": "2023-12-01T09:20:06.541574Z",
     "iopub.status.idle": "2023-12-01T09:20:06.546354Z",
     "shell.execute_reply": "2023-12-01T09:20:06.545733Z"
    }
   },
   "outputs": [
    {
     "name": "stdout",
     "output_type": "stream",
     "text": [
      "MODEL.AT: CURRENT TIME\n",
      "MODEL.DT: TIME STEP\n",
      "MODEL.TMAX: END TIME\n",
      "MODEL.BCFILE: BOUNDARY CONDITION FILE NAME\n",
      "MODEL.BND_TIDE: OPTION FOR TIDAL BOUNDARY CONDITIONS\n",
      "MODEL.BOTTOMELEVATION: LEVEL OF THE BOTTOM\n",
      "MODEL.CHESTR: ROUGHNESS COEFFICIENT ON POINT\n",
      "MODEL.FAIR: FAIR ON POINT\n",
      "MODEL.COTE: PRESCRIBED ELEVATION ON BOUNDARY\n",
      "MODEL.DEBIT: PRESCRIBED DISCHARGE ON BOUNDARY\n",
      "MODEL.DEBUG: ACTIVATING DEBUG MODE\n",
      "MODEL.FLUX_BOUNDARIES: FLUX AT BOUNDARIES\n",
      "MODEL.GEOMETRYFILE: NAME OF THE GEOMERY FILE\n",
      "MODEL.METEOFILE: NAME OF THE BINARY ATMOSPHERIC FILE\n",
      "MODEL.FO2FILE: NAME OF THE FORMATTED DATA FILE 2\n",
      "MODEL.LIQBCFILE: NAME OF THE LIQUID BOUNDARIES FILE\n",
      "MODEL.PREFILE: NAME OF THE PREVIOUS COMPUTATION FILE\n",
      "MODEL.GRAPH_PERIOD: GRAPHICAL OUTPUT PERIOD\n",
      "MODEL.HBOR: BOUNDARY VALUE ON H FOR EACH BOUNDARY POINT\n",
      "MODEL.IKLE: CONNECTIVITY TABLE BETWEEN ELEMENT AND NODES\n",
      "MODEL.ELTSEG: SEGMENTS FORMING AN ELEMENT\n",
      "MODEL.ORISEG: ORIENTATION OF SEGMENTS FORMING AN ELEMENT\n",
      "MODEL.GLOSEG: GLOBAL NUMBERS OF VERTICES OF SEGMENTS\n",
      "MODEL.NACHB: NUMBERS OF PROC CONTAINING A GIVEN POINT\n",
      "MODEL.KNOLG: GIVES THE INITIAL GLOBAL NUMBER OF A LOCAL POINT\n",
      "MODEL.INCWATERDEPTH: INCREASE IN THE DEPTH OF THE WATER\n",
      "MODEL.KP1BOR: POINTS FOLLOWING AND PRECEDING A BOUNDARY POINT\n",
      "MODEL.LIHBOR: BOUNDARY TYPE ON H FOR EACH BOUNDARY POINT\n",
      "MODEL.LISTIN_PERIOD: LISTING OUTPUT PERIOD\n",
      "MODEL.LIUBOR: BOUNDARY TYPE ON U FOR EACH BOUNDARY POINT\n",
      "MODEL.LIVBOR: BOUNDARY TYPE ON V FOR EACH BOUNDARY POINT\n",
      "MODEL.LT: CURRENT TIME STEP\n",
      "MODEL.NBMAXNSHARE: MAXIMUM GEOMETRICAL MULTIPLICITY OF A NODE\n",
      "MODEL.COMPLEO: GRAPHIC OUTPUT COUNTER\n",
      "MODEL.PTINIG: NUMBER OF FIRST TIME STEP FOR GRAPHIC PRINTOUTS\n",
      "MODEL.NPTIR: NUMBER OF INTERFACE POINTS OF THE SUB-DOMAIN\n",
      "MODEL.NBOR: GLOBAL NUMBER OF BOUNDARY POINTS\n",
      "MODEL.NELEM: NUMBER OF ELEMENT IN THE MESH\n",
      "MODEL.NELMAX: MAXIMUM NUMBER OF ELEMENTS ENVISAGED\n",
      "MODEL.NPOIN: NUMBER OF POINT IN THE MESH\n",
      "MODEL.NSEG: NUMBER OF SEGMENT IN THE MESH\n",
      "MODEL.NPTFR: NUMBER OF BOUNDARY POINTS\n",
      "MODEL.NTIMESTEPS: NUMBER OF TIME STEPS\n",
      "MODEL.NUMLIQ: LIQUID BOUNDARY NUMBERS\n",
      "MODEL.POROSITY: POROSITY\n",
      "MODEL.RESULTFILE: NAME OF THE RESULT FILE\n",
      "MODEL.SEALEVEL: COEFFICIENT TO CALIBRATE SEA LEVEL\n",
      "MODEL.TIDALRANGE: COEFFICIENT TO CALIBRATE TIDAL RANGE\n",
      "MODEL.VELOCITYRANGE: COEFFICIENT TO CALIBRATE TIDAL VELOCITY RANGE\n",
      "MODEL.UBOR: BOUNDARY VALUE ON U FOR EACH BOUNDARY POINT\n",
      "MODEL.VBOR: BOUNDARY VALUE ON V FOR EACH BOUNDARY POINT\n",
      "MODEL.VELOCITYU: VELOCITY ON U\n",
      "MODEL.VELOCITYV: VELOCITY ON V\n",
      "MODEL.WATERDEPTH: WATER DEPTH\n",
      "MODEL.WATERDEPTHN: WATER DEPTH AT PREVIOUS TIME STEP\n",
      "MODEL.X: X COORDINATES FOR EACH POINT OF THE MESH\n",
      "MODEL.XNEBOR: NORMAL X TO 1D BOUNDARY POINTS\n",
      "MODEL.Y: Y COORDINATES FOR EACH POINT OF THE MESH\n",
      "MODEL.YNEBOR: NORMAL Y TO 1D BOUNDARY POINTS\n",
      "MODEL.EQUATION: NAME OF THE EQUATION USED\n",
      "MODEL.AK: TURBULENT KINETIC ENERGY K\n",
      "MODEL.EP: TURBULENT DISSIPATION EPSILON\n",
      "MODEL.ITURB: TURBULENCE MODEL\n",
      "MODEL.INIT_DEPTH: INITIAL DEPTH\n",
      "MODEL.TRACER: TRACERS VALUE\n",
      "MODEL.NTRAC: NUMBER OF TRACERS\n",
      "MODEL.FLOWRATEQ: SOLID TRANSPORT FLOWRATE\n",
      "MODEL.DCLA: MEDIAN GRAIN SIZE\n",
      "MODEL.SHIELDS: CRITICAL SHIELDS PARAMETER\n",
      "MODEL.XWC: SETTLING VELOCITY\n",
      "MODEL.Z: FREE SURFACE ELEVATION\n",
      "MODEL.QBOR: BOUNDARY VALUE ON Q FOR EACH BOUNDARY POINT\n",
      "MODEL.EBOR: BOUNDARY VALUE ON E FOR EACH BOUNDARY POINT\n",
      "MODEL.FLBOR: BOUNDARY VALUE ON ZF FOR EACH BOUNDARY POINT\n",
      "MODEL.TOB: SHEAR STRESS\n",
      "MODEL.CLU: BOUNDARY TYPE ON U FOR EACH BOUNDARY POINT\n",
      "MODEL.CLV: BOUNDARY TYPE ON V FOR EACH BOUNDARY POINT\n",
      "MODEL.LIQBOR: BOUNDARY TYPE ON Q FOR EACH BOUNDARY POINT\n",
      "MODEL.LIEBOR: BOUNDARY TYPE ON E FOR EACH BOUNDARY POINT\n",
      "MODEL.NSICLA: NUMBER OF SIZE-CLASSES OF BED MATERIAL\n",
      "MODEL.NOMBLAY: NUMBER OF LAYER IN THE BED\n",
      "MODEL.CONCENTRATION: CONCENTRATION AT TIME N\n",
      "MODEL.EVOLUTION: EVOLUTION OF BED\n",
      "MODEL.PARTHENIADES: PARTHENIADES EROSION COEFFICIENT FOR EACH BED LAYER FOR EACH CLASS\n",
      "MODEL.MARDAT: A 1 DIMENSIONAL INTEGER ARRAY\n",
      "MODEL.MARTIM: A 1 DIMENSIONAL INTEGER ARRAY\n",
      "MODEL.RAZTIM: A SIMPLE BOOLEAN\n",
      "MODEL.START_RECORD: A SIMPLE INTEGER\n",
      "MODEL.VOLU2D: INTEGRAL OF BASES DOUBLE BIEF_OBJ\n",
      "MODEL.AM1D: DIAGONAL OF AM1 MATRIX\n",
      "MODEL.AM1X: EXTRA-DIAGONAL TERMS OF AM1 MATRIX\n",
      "MODEL.AM2D: DIAGONAL OF AM2 MATRIX\n",
      "MODEL.AM2X: EXTRA-DIAGONAL TERMS OF AM2 MATRIX\n",
      "MODEL.AM3D: DIAGONAL OF AM3 MATRIX\n",
      "MODEL.AM3X: EXTRA-DIAGONAL TERMS OF AM3 MATRIX\n",
      "MODEL.BM1D: DIAGONAL OF BM1 MATRIX\n",
      "MODEL.BM1X: EXTRA-DIAGONAL TERMS OF BM1 MATRIX\n",
      "MODEL.BM2D: DIAGONAL OF BM2 MATRIX\n",
      "MODEL.BM2X: EXTRA-DIAGONAL TERMS OF BM2 MATRIX\n",
      "MODEL.CM1D: DIAGONAL OF CM1 MATRIX\n",
      "MODEL.CM1X: EXTRA-DIAGONAL TERMS OF CM1 MATRIX\n",
      "MODEL.CM2D: DIAGONAL OF CM2 MATRIX\n",
      "MODEL.CM2X: EXTRA-DIAGONAL TERMS OF CM2 MATRIX\n",
      "MODEL.A32D: DIAGONAL OF A32 MATRIX\n",
      "MODEL.A32X: EXTRA-DIAGONAL TERMS OF A32 MATRIX\n",
      "MODEL.A23D: DIAGONAL OF A23 MATRIX\n",
      "MODEL.A23X: EXTRA-DIAGONAL TERMS OF A23 MATRIX\n",
      "MODEL.CV1: TERMS OF CV1 VECTOR\n",
      "MODEL.CV2: TERMS OF CV2 VECTOR\n",
      "MODEL.CV3: TERMS OF CV3 VECTOR\n",
      "MODEL.PROPNU: DIFFUSION COEFFICIENT OF VELOCITY\n",
      "MODEL.MPM: MEYER PETER MUELLER-COEFFICIENT\n",
      "MODEL.BETA2: PARAMETER FOR DEVIATION\n",
      "MODEL.PHISED: FRICTION ANGLE OF THE SEDIMENT\n",
      "MODEL.ALPHA: SECONDARY CURRENT ALPHA COEFFICIENT\n",
      "MODEL.XKV0: INITIAL POROSITY BY LAYERS\n",
      "MODEL.KSPRATIO: RATIO BETWEEN SKIN FRICTION AND MEAN DIAMETER\n",
      "MODEL.IORDRH: INITIAL GUESS FOR DEPTH\n",
      "MODEL.IORDRU: INITIAL GUESS FOR VELOCITY\n",
      "MODEL.INCVELOCITYU: INCREASE OF VELOCITY U\n",
      "MODEL.INCVELOCITYV: INCREASE OF VELOCITY V\n",
      "MODEL.INCWATERDEPTHN: INCREASE OF WATER DEPTH AT TN\n",
      "MODEL.VISCSA: VISCOSITY OF SPALART-ALLMARAS\n",
      "MODEL.RESTART_PERIOD: RESTART FILE PRINTOUT PERIOD\n",
      "MODEL.RESTART_RECORD: RECORD NUMBER IN RESTART FILE\n",
      "MODEL.SECCURRENTS: USE OF SECONDARY CURRENTS?\n",
      "MODEL.SEC_R: REVERSE OF LOCAL RADIUS\n",
      "MODEL.NESTOR: USE OF NESTOR?\n",
      "MODEL.ZREFLEVEL: REFERENCE LEVEL FOR NESTOR\n"
     ]
    }
   ],
   "source": [
    "for a, b in zip(varnames, varinfo):\n",
    "    print(a + ': ' + b)"
   ]
  },
  {
   "cell_type": "markdown",
   "metadata": {},
   "source": [
    "# Example of use"
   ]
  },
  {
   "cell_type": "markdown",
   "metadata": {},
   "source": [
    "Knowing now the API and the variables, a Telemac computation on the test example named 'breach' could be:"
   ]
  },
  {
   "cell_type": "markdown",
   "metadata": {},
   "source": [
    "## Read the steering file and do allocations"
   ]
  },
  {
   "cell_type": "code",
   "execution_count": 23,
   "metadata": {
    "execution": {
     "iopub.execute_input": "2023-12-01T09:20:06.548591Z",
     "iopub.status.busy": "2023-12-01T09:20:06.548375Z",
     "iopub.status.idle": "2023-12-01T09:20:06.565569Z",
     "shell.execute_reply": "2023-12-01T09:20:06.564939Z"
    }
   },
   "outputs": [
    {
     "name": "stdout",
     "output_type": "stream",
     "text": [
      " MASTER PROCESSOR NUMBER            0  OF THE GROUP OF            1\n",
      " READ_CONFIG: FILE CONFIG NOT FOUND: CONFIG\n",
      " DEFAULTS VALUES OF LU AND LNG:            6  AND            2\n",
      " LISTING OF TELEMAC2D------------------------------------------------------------------------------\n",
      "\n",
      "                TTTTT  EEEEE  L      EEEEE  M   M  AAAAA  CCCCC\n",
      "                  T    E      L      E      MM MM  A   A  C    \n",
      "                  T    EEE    L      EEE    M M M  AAAAA  C    \n",
      "                  T    E      L      E      M   M  A   A  C    \n",
      "                  T    EEEEE  LLLLL  EEEEE  M   M  A   A  CCCCC\n",
      "                                                               \n",
      "                        2D    VERSION V8P5   FORTRAN 2003       \n",
      "\n",
      "\n",
      "\n",
      "\n",
      "\n",
      "\n",
      "\n",
      "                        ~^~^~^~^~^~^~^~^~^~^~^^~^~^~^~^~^~     \n",
      "                          ~                            ~       \n",
      "                               \\   '    o      '               \n",
      "                               /\\ o       \\  o                 \n",
      "                             >=)'>    '   /\\ '                 \n",
      "                               \\/   \\   >=)'>        ~         \n",
      "                               /    /\\    \\/                   \n",
      "                        ~         >=)'>   /     .              \n",
      "                               "
     ]
    },
    {
     "data": {
      "text/plain": [
       "0"
      ]
     },
     "execution_count": 23,
     "metadata": {},
     "output_type": "execute_result"
    },
    {
     "name": "stdout",
     "output_type": "stream",
     "text": [
      "     \\/                   )     \n",
      "                                    /                   (      \n",
      "                                          ~          )   )     \n",
      "                          }     ~              (    (   (      \n",
      "                         {                      )    )   )     \n",
      "                          }  }         .       (    (   (      \n",
      "                         {  {               /^^^^^^^^^^^^      \n",
      "                        ^^^^^^^^^\\         /                   \n",
      "                                  ^^^^^^^^^                    \n",
      "\n",
      "\n",
      "\n",
      "\n",
      "\n",
      "\n",
      "  \n",
      " DIFFERENT NUMBER OF PARALLEL PROCESSORS:\n",
      " DECLARED BEFORE (CASE OF COUPLING ?):           1\n",
      " TELEMAC-2D :           0\n",
      " VALUE            1  IS KEPT\n",
      "\n",
      "                   ********************************************\n",
      "                   *               LECDON:                    *\n",
      "                   *        AFTER CALLING DAMOCLES            *\n",
      "                   *        CHECKING OF DATA  READ            *\n",
      "                   *         IN THE STEERING FILE             *\n",
      "                   ********************************************\n",
      "\n",
      "\n",
      " EXITING LECDON. NAME OF THE STUDY:\n",
      " TELEMAC 2D : rupture digue  - Qinitial                                  \n",
      "\n"
     ]
    }
   ],
   "source": [
    "my_case.set_case()"
   ]
  },
  {
   "cell_type": "markdown",
   "metadata": {},
   "source": [
    "## Initialisation"
   ]
  },
  {
   "cell_type": "code",
   "execution_count": 24,
   "metadata": {
    "execution": {
     "iopub.execute_input": "2023-12-01T09:20:06.567691Z",
     "iopub.status.busy": "2023-12-01T09:20:06.567468Z",
     "iopub.status.idle": "2023-12-01T09:20:06.621382Z",
     "shell.execute_reply": "2023-12-01T09:20:06.620523Z"
    }
   },
   "outputs": [
    {
     "name": "stdout",
     "output_type": "stream",
     "text": [
      " OPENING FILES FOR TELEMAC2D               \n",
      " OPENING: T2DGEO-geo_breach.slf\n"
     ]
    },
    {
     "name": "stdout",
     "output_type": "stream",
     "text": [
      " OPENING: T2DCLI-geo_breach.cli\n",
      " OPENING: T2DPRE-ini_breach.slf\n",
      " OPENING: T2DRES-r2d_breach.slf\n",
      " OPENING: T2DIMP-t2d_breach.liq\n",
      " OPENING: T2DBRC-breach.txt\n",
      "\n",
      "\n",
      "\n",
      "                          *****************************\n",
      "                          *    MEMORY ORGANIZATION    *\n",
      "                          *****************************\n",
      "\n",
      "\n",
      "\n",
      " READ_MESH_INFO: TITLE= C:\\RuptureDigue2D\\Modele.MAT\u0000\u0000\u0000\u0000\u0000\u0000\u0000\u0000\u0000\u0000\u0000\u0000\u0000\u0000\u0000\u0000\u0000\u0000\u0000\u0000\u0000\u0000\u0000\u0000\u0000\u0000\u0000\u0000\u0000\u0000\u0000\u0000\u0000\u0000\u0000\u0000\u0000\u0000\u0000\u0000\u0000\u0000\u0000\u0000\n",
      "            NUMBER OF ELEMENTS:    26449\n",
      "            NUMBER OF POINTS:    13648\n",
      "\n",
      "            TYPE OF ELEMENT: TRIANGLE            \n",
      "            TYPE OF BND ELEMENT: POINT               \n",
      "\n",
      "            SINGLE PRECISION FORMAT (R4)\n",
      "  \n",
      " MXPTEL (BIEF) : MAXIMUM NUMBER OF ELEMENTS AROUND A POINT:   8\n",
      "                 MAXIMUM NUMBER OF POINTS AROUND A POINT:   8\n",
      " USER_CORRXY (BIEF):NO MODIFICATION OF COORDINATES\n",
      "\n",
      " MESH: MESH   ALLOCATED\n",
      "\n",
      "\n",
      "\n",
      "                     *************************************\n",
      "                     *    END OF MEMORY ORGANIZATION:    *\n",
      "                     *************************************\n",
      "\n",
      " INITIALIZING TELEMAC2D FOR        \n",
      " INBIEF (BIEF): NOT A VECTOR MACHINE (ACCORDING TO YOUR DATA)\n",
      " STRCHE (BIEF): NO MODIFICATION OF FRICTION\n",
      "\n",
      "\n",
      " THERE IS     2 LIQUID BOUNDARIES:\n",
      "\n",
      " BOUNDARY    1 : \n",
      "  BEGINS AT BOUNDARY POINT:      534 , WITH GLOBAL NUMBER:        43\n",
      "  AND COORDINATES:     5000.000           0.000000    \n",
      "  ENDS AT BOUNDARY POINT:      544 , WITH GLOBAL NUMBER:       158\n",
      "  AND COORDINATES:     5000.000           26.00000    \n",
      "\n",
      " BOUNDARY    2 : \n",
      "  BEGINS AT BOUNDARY POINT:      836 , WITH GLOBAL NUMBER:         2\n",
      "  AND COORDINATES:     0.000000           26.00000    \n",
      "  ENDS AT BOUNDARY POINT:        1 , WITH GLOBAL NUMBER:        23\n",
      "  AND COORDINATES:     0.000000           0.000000    \n",
      "\n",
      " THERE IS     2 SOLID BOUNDARIES:\n",
      "\n",
      " BOUNDARY    1 : \n",
      "  BEGINS AT BOUNDARY POINT:        1 , WITH GLOBAL NUMBER:        23\n",
      "  AND COORDINATES:     0.000000           0.000000    \n",
      "  ENDS AT BOUNDARY POINT:      534 , WITH GLOBAL NUMBER:        43\n",
      "  AND COORDINATES:     5000.000           0.000000    \n",
      "\n",
      " BOUNDARY    2 : \n",
      "  BEGINS AT BOUNDARY POINT:      544 , WITH GLOBAL NUMBER:       158\n",
      "  AND COORDINATES:     5000.000           26.00000    \n",
      "  ENDS AT BOUNDARY POINT:      836 , WITH GLOBAL NUMBER:         2\n",
      "  AND COORDINATES:     0.000000           26.00000    \n",
      "\n",
      " USER_CORFON (TELEMAC2D): NO MODIFICATION OF BOTTOM\n",
      "\n",
      "\n",
      " CORFON (TELEMAC2D): NO BOTTOM SMOOTHINGS\n",
      "\n",
      "\n",
      "\n",
      " TITLE OF PREVIOUS COMPUTATION: maillage                                                                \n",
      "\n",
      " NAME: BOTTOM            UNIT: M               \n",
      " NAME: FREE SURFACE      UNIT: M               \n",
      " NAME: VELOCITY U        UNIT: M/S             \n",
      " NAME: VELOCITY V        UNIT: M/S             \n",
      "\n",
      " READ_DATASET : READ OF RECORD     1\n",
      "\n",
      "\n",
      " TIME OF RECORD:     15000.00     S\n",
      " ELAPSED TIME RESET TO ZERO\n",
      " RESCUE : WATER DEPTH COMPUTED WITH BATHYMETRY\n",
      "          AND SURFACE ELEVATION\n",
      " PRE READING THE BREACH FILE\n",
      " READING BREACH DATA = OK\n",
      "\n",
      "================================================================================\n",
      " ITERATION        0    TIME:   0.0000 S\n",
      " PRERES: MAXIMUM COURANT NUMBER:    0.2699380    \n",
      " TELEMAC2D INITIALIZED\n"
     ]
    }
   ],
   "source": [
    "my_case.init_state_default()"
   ]
  },
  {
   "cell_type": "markdown",
   "metadata": {},
   "source": [
    "## Mesh view"
   ]
  },
  {
   "cell_type": "code",
   "execution_count": 25,
   "metadata": {
    "execution": {
     "iopub.execute_input": "2023-12-01T09:20:06.623612Z",
     "iopub.status.busy": "2023-12-01T09:20:06.623362Z",
     "iopub.status.idle": "2023-12-01T09:20:07.039500Z",
     "shell.execute_reply": "2023-12-01T09:20:07.038863Z"
    }
   },
   "outputs": [
    {
     "data": {
      "image/png": "[encoded data removed]",
      "text/plain": [
       "<Figure size 640x480 with 1 Axes>"
      ]
     },
     "metadata": {},
     "output_type": "display_data"
    }
   ],
   "source": [
    "%matplotlib inline\n",
    "my_figure = my_case.show_mesh(visu2d=False)"
   ]
  },
  {
   "cell_type": "markdown",
   "metadata": {},
   "source": [
    "## Simulation"
   ]
  },
  {
   "cell_type": "code",
   "execution_count": 26,
   "metadata": {
    "execution": {
     "iopub.execute_input": "2023-12-01T09:20:07.042008Z",
     "iopub.status.busy": "2023-12-01T09:20:07.041709Z",
     "iopub.status.idle": "2023-12-01T09:20:07.194489Z",
     "shell.execute_reply": "2023-12-01T09:20:07.193851Z"
    }
   },
   "outputs": [
    {
     "name": "stdout",
     "output_type": "stream",
     "text": [
      " THE LIQUID BOUNDARIES FILE CONTAINS\n",
      "           3  LINES WITH:\n",
      " SL(1)    Q(2)     \n",
      " USING STREAMLINE VERSION V8P5 FOR CHARACTERISTICS\n"
     ]
    }
   ],
   "source": [
    "for i in range(10):\n",
    "    my_case.run_one_time_step()"
   ]
  },
  {
   "cell_type": "markdown",
   "metadata": {},
   "source": [
    "## Current state"
   ]
  },
  {
   "cell_type": "markdown",
   "metadata": {},
   "source": [
    "### Values"
   ]
  },
  {
   "cell_type": "code",
   "execution_count": 27,
   "metadata": {
    "execution": {
     "iopub.execute_input": "2023-12-01T09:20:07.196822Z",
     "iopub.status.busy": "2023-12-01T09:20:07.196602Z",
     "iopub.status.idle": "2023-12-01T09:20:07.201071Z",
     "shell.execute_reply": "2023-12-01T09:20:07.200470Z"
    }
   },
   "outputs": [
    {
     "name": "stdout",
     "output_type": "stream",
     "text": [
      "Mean water height (m) =  0.8729500479824129\n",
      "Max velocity (m/s) =  2.5593669153250427\n"
     ]
    }
   ],
   "source": [
    "import numpy as np\n",
    "\n",
    "h, u, v = my_case.get_state()\n",
    "\n",
    "print('Mean water height (m) = ', h.mean())\n",
    "print('Max velocity (m/s) = ', np.amax(np.sqrt(u * u + v * v)))"
   ]
  },
  {
   "cell_type": "markdown",
   "metadata": {},
   "source": [
    "### Graph"
   ]
  },
  {
   "cell_type": "code",
   "execution_count": 28,
   "metadata": {
    "execution": {
     "iopub.execute_input": "2023-12-01T09:20:07.203255Z",
     "iopub.status.busy": "2023-12-01T09:20:07.203043Z",
     "iopub.status.idle": "2023-12-01T09:20:07.699383Z",
     "shell.execute_reply": "2023-12-01T09:20:07.698743Z"
    }
   },
   "outputs": [
    {
     "data": {
      "image/png": "[encoded data removed]",
      "text/plain": [
       "<Figure size 640x480 with 4 Axes>"
      ]
     },
     "metadata": {},
     "output_type": "display_data"
    }
   ],
   "source": [
    "my_new_figure = my_case.show_state(show=True)"
   ]
  },
  {
   "cell_type": "markdown",
   "metadata": {},
   "source": [
    "### Save"
   ]
  },
  {
   "cell_type": "code",
   "execution_count": 29,
   "metadata": {
    "execution": {
     "iopub.execute_input": "2023-12-01T09:20:07.701794Z",
     "iopub.status.busy": "2023-12-01T09:20:07.701553Z",
     "iopub.status.idle": "2023-12-01T09:20:07.706694Z",
     "shell.execute_reply": "2023-12-01T09:20:07.706158Z"
    }
   },
   "outputs": [
    {
     "name": "stdout",
     "output_type": "stream",
     "text": [
      "Max velocity (m/s) =  2.5593669153250427\n"
     ]
    }
   ],
   "source": [
    "my_case.save_state()\n",
    "\n",
    "h, u, v = my_case.get_state()\n",
    "print('Max velocity (m/s) = ', np.amax(np.sqrt(u * u + v * v)))"
   ]
  },
  {
   "cell_type": "markdown",
   "metadata": {},
   "source": [
    "### Change"
   ]
  },
  {
   "cell_type": "code",
   "execution_count": 30,
   "metadata": {
    "execution": {
     "iopub.execute_input": "2023-12-01T09:20:07.709304Z",
     "iopub.status.busy": "2023-12-01T09:20:07.709129Z",
     "iopub.status.idle": "2023-12-01T09:20:07.713418Z",
     "shell.execute_reply": "2023-12-01T09:20:07.712921Z"
    }
   },
   "outputs": [
    {
     "name": "stdout",
     "output_type": "stream",
     "text": [
      "Mean velocity (m/s) =  0.0\n"
     ]
    }
   ],
   "source": [
    "# to null velocity\n",
    "number_of_nodes = my_case.get('MODEL.NPOIN')\n",
    "value = np.zeros(number_of_nodes)\n",
    "my_case.set_array('MODEL.VELOCITYU', value)\n",
    "my_case.set_array('MODEL.VELOCITYV', value)\n",
    "   \n",
    "h, u, v = my_case.get_state()\n",
    "print('Mean velocity (m/s) = ', np.mean(np.sqrt(u * u + v * v)))"
   ]
  },
  {
   "cell_type": "markdown",
   "metadata": {},
   "source": [
    "### Restore"
   ]
  },
  {
   "cell_type": "code",
   "execution_count": 31,
   "metadata": {
    "execution": {
     "iopub.execute_input": "2023-12-01T09:20:07.716180Z",
     "iopub.status.busy": "2023-12-01T09:20:07.715926Z",
     "iopub.status.idle": "2023-12-01T09:20:07.720005Z",
     "shell.execute_reply": "2023-12-01T09:20:07.719525Z"
    }
   },
   "outputs": [
    {
     "name": "stdout",
     "output_type": "stream",
     "text": [
      "Max velocity (m/s) =  2.5593669153250427\n"
     ]
    }
   ],
   "source": [
    "err = my_case.restore_state()\n",
    "\n",
    "h, u, v = my_case.get_state()\n",
    "print('Max velocity (m/s) = ', np.amax(np.sqrt(u * u + v * v)))"
   ]
  },
  {
   "cell_type": "markdown",
   "metadata": {},
   "source": [
    "## Parameters"
   ]
  },
  {
   "cell_type": "code",
   "execution_count": 32,
   "metadata": {
    "execution": {
     "iopub.execute_input": "2023-12-01T09:20:07.722651Z",
     "iopub.status.busy": "2023-12-01T09:20:07.722475Z",
     "iopub.status.idle": "2023-12-01T09:20:07.726248Z",
     "shell.execute_reply": "2023-12-01T09:20:07.725742Z"
    }
   },
   "outputs": [
    {
     "data": {
      "text/plain": [
       "7.179999828338623"
      ]
     },
     "execution_count": 32,
     "metadata": {},
     "output_type": "execute_result"
    }
   ],
   "source": [
    "# bottom elevation at node no. 102\n",
    "my_case.get('MODEL.BOTTOMELEVATION', 102)"
   ]
  },
  {
   "cell_type": "code",
   "execution_count": 33,
   "metadata": {
    "execution": {
     "iopub.execute_input": "2023-12-01T09:20:07.728812Z",
     "iopub.status.busy": "2023-12-01T09:20:07.728625Z",
     "iopub.status.idle": "2023-12-01T09:20:07.732234Z",
     "shell.execute_reply": "2023-12-01T09:20:07.731768Z"
    }
   },
   "outputs": [
    {
     "data": {
      "text/plain": [
       "15.0"
      ]
     },
     "execution_count": 33,
     "metadata": {},
     "output_type": "execute_result"
    }
   ],
   "source": [
    "# friction coefficient (Strickler value) at node no. 500\n",
    "my_case.get('MODEL.CHESTR', 500)"
   ]
  },
  {
   "cell_type": "markdown",
   "metadata": {},
   "source": [
    "## Deletion"
   ]
  },
  {
   "cell_type": "code",
   "execution_count": 34,
   "metadata": {
    "execution": {
     "iopub.execute_input": "2023-12-01T09:20:07.734834Z",
     "iopub.status.busy": "2023-12-01T09:20:07.734662Z",
     "iopub.status.idle": "2023-12-01T09:20:07.739047Z",
     "shell.execute_reply": "2023-12-01T09:20:07.738191Z"
    }
   },
   "outputs": [
    {
     "name": "stdout",
     "output_type": "stream",
     "text": [
      "\n",
      "\n",
      "\n",
      "                     *************************************\n",
      "                     *    END OF MEMORY ORGANIZATION:    *\n",
      "                     *************************************\n",
      "\n"
     ]
    },
    {
     "name": "stdout",
     "output_type": "stream",
     "text": [
      "\n",
      "\n",
      "\n",
      " CORRECT END OF RUN\n",
      "\n",
      "\n",
      "\n",
      " ELAPSE TIME : \n",
      "                              1  SECONDS\n"
     ]
    }
   ],
   "source": [
    "my_case.finalize()\n",
    "del my_case"
   ]
  }
 ],
 "metadata": {
  "anaconda-cloud": {},
  "kernelspec": {
   "display_name": "Python 3",
   "language": "python",
   "name": "python3"
  },
  "language_info": {
   "codemirror_mode": {
    "name": "ipython",
    "version": 3
   },
   "file_extension": ".py",
   "mimetype": "text/x-python",
   "name": "python",
   "nbconvert_exporter": "python",
   "pygments_lexer": "ipython3",
   "version": "3.9.17"
  }
 },
 "nbformat": 4,
 "nbformat_minor": 1
}
