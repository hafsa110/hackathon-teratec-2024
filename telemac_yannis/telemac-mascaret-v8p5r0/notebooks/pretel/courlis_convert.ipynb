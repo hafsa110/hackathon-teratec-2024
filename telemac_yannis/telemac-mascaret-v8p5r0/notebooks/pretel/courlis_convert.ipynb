{
 "cells": [
  {
   "cell_type": "markdown",
   "metadata": {},
   "source": [
    "# Courlis scripts\n",
    "\n",
    "## Convert Listing Courlis\n",
    "\n",
    "The script `converter.py convert_listing_courlis` allows to :\n",
    " - convert a listing courlis file into an opthyca file ;\n",
    " - extract the sediment budget of the simulation to export in a file. Several format are available :\n",
    "   * Ascii file : text file with no separator or csv file ;\n",
    "   * Excel file (Pandas is required).\n"
   ]
  },
  {
   "cell_type": "code",
   "execution_count": 1,
   "metadata": {
    "execution": {
     "iopub.execute_input": "2023-12-01T09:12:15.451006Z",
     "iopub.status.busy": "2023-12-01T09:12:15.450315Z",
     "iopub.status.idle": "2023-12-01T09:12:15.931098Z",
     "shell.execute_reply": "2023-12-01T09:12:15.929983Z"
    }
   },
   "outputs": [
    {
     "name": "stdout",
     "output_type": "stream",
     "text": [
      "usage: converter.py convert_listing_courlis [-h] [-o OUTPUTFILENAME] [-no-opt]\r\n",
      "                                            [-no-b] [-no-csv] [-txt] [-xlsx]\r\n",
      "                                            [-time]\r\n",
      "                                            listing Courlis file\r\n",
      "\r\n",
      "positional arguments:\r\n",
      "  listing Courlis file\r\n",
      "\r\n",
      "optional arguments:\r\n",
      "  -h, --help            show this help message and exit\r\n",
      "  -o OUTPUTFILENAME, --output OUTPUTFILENAME\r\n",
      "                        Option to give a name to the output Opthyca file\r\n",
      "  -no-opt, --no-opthyca\r\n",
      "                        Option to disable writing of Opthyca file\r\n",
      "  -no-b, --no-budget    Option to disable writing of budget file\r\n",
      "  -no-csv, --no-budget_file-csv\r\n",
      "                        Option to export sediment budget as csv file\r\n",
      "                        (sediment_budget.csv)\r\n",
      "  -txt, --budget_file-txt\r\n",
      "                        Option to export sediment budget as txt file\r\n",
      "                        (sediment_budget.txt)\r\n",
      "  -xlsx, --budget_file-xlsx\r\n",
      "                        Option to export sediment budget as xlsx Exclel file\r\n",
      "                        (sediment_budget.xlsx)\r\n",
      "  -time, --time-check   Option to display reading and writing time step\r\n"
     ]
    }
   ],
   "source": [
    "!converter.py convert_listing_courlis -h"
   ]
  },
  {
   "cell_type": "code",
   "execution_count": 2,
   "metadata": {
    "execution": {
     "iopub.execute_input": "2023-12-01T09:12:15.935125Z",
     "iopub.status.busy": "2023-12-01T09:12:15.934806Z",
     "iopub.status.idle": "2023-12-01T09:12:16.470760Z",
     "shell.execute_reply": "2023-12-01T09:12:16.468481Z"
    },
    "scrolled": true
   },
   "outputs": [
    {
     "name": "stdout",
     "output_type": "stream",
     "text": [
      "\r\n",
      "\r\n",
      "Loading Options and Configurations\r\n",
      "~~~~~~~~~~~~~~~~~~~~~~~~~~~~~~~~~~~~~~~~~~~~~~~~~~~~~~~~~~~~~~~~~~~~~~~~\r\n",
      "\r\n",
      "          ___          _____ \r\n",
      "         / _ \\        | ____|\r\n",
      " __   __| (_) | _ __  | |__  \r\n",
      " \\ \\ / / > _ < | '_ \\ |___ \\ \r\n",
      "  \\ V / | (_) || |_) | ___) |\r\n",
      "   \\_/   \\___/ | .__/ |____/ \r\n",
      "               | |           \r\n",
      "               |_|           \r\n"
     ]
    },
    {
     "name": "stdout",
     "output_type": "stream",
     "text": [
      "\r\n",
      "\r\n",
      "Running your CAS file(s) for:\r\n",
      "~~~~~~~~~~~~~~~~~~~~~~~~~~~~~~~~~~~~~~~~~~~~~~~~~~~~~~~~~~~~~~~~~~~~~~~~\r\n",
      "\r\n",
      "\r\n",
      "\r\n",
      "~~~~~~~~~~~~~~~~~~~~~~~~~~~~~~~~~~~~~~~~~~~~~~~~~~~~~~~~~~~~~~~~~~~~~~~~\r\n",
      "\r\n",
      "S11.gfortran.dyn: \r\n",
      "    \r\n",
      "\r\n",
      "    +> Scibian 11 dynamic build using GFortran 10.2.1 and Open MPI.\r\n",
      "\r\n",
      "    +> root:    /home/d60881/telemac\r\n",
      "    +> module: ad / api / artemis / bief\r\n",
      "               damocles  / gaia  / gretel  / hermes\r\n",
      "               identify_liq_bnd  / khione  / mascaret  / nestor\r\n",
      "               parallel  / partel  / postel3d  / special\r\n",
      "               stbtel  / telemac2d  / telemac3d  / tomawac\r\n",
      "               waqtel\r\n",
      "\r\n",
      "\r\n",
      "~~~~~~~~~~~~~~~~~~~~~~~~~~~~~~~~~~~~~~~~~~~~~~~~~~~~~~~~~~~~~~~~~~~~~~~~\r\n",
      "\r\n",
      "\r\n",
      "... processing the steering file\r\n",
      "Traceback (most recent call last):\r\n",
      "  File \"/home/d60881/telemac/scripts/python3/mascaret.py\", line 7, in <module>\r\n",
      "    main('mascaret')\r\n",
      "  File \"/home/d60881/telemac/scripts/python3/runcode.py\", line 288, in main\r\n",
      "    run_study(cas_file, code_name, options)\r\n",
      "  File \"/home/d60881/telemac/scripts/python3/execution/run_cas.py\", line 156, in run_study\r\n",
      "    my_study = Study(\r\n",
      "  File \"/home/d60881/telemac/scripts/python3/execution/study.py\", line 56, in __init__\r\n",
      "    raise TelemacException(\r\n",
      "utils.exceptions.TelemacException: Could not find your steering file :\r\n",
      "sarap.xcas\r\n"
     ]
    }
   ],
   "source": [
    "# Run Soni\n",
    "!mascaret.py sarap.xcas"
   ]
  },
  {
   "cell_type": "markdown",
   "metadata": {},
   "source": [
    "### Convert in Opthyca file\n",
    "\n",
    "Output file (`-o` or `--output` arguments) is optional (an automatic name will be attributed `inputfilename_listingcourlis.opt`)\n",
    "\n",
    "NB: Sediment budget is exported by default. The option `-no-b` (or `--no-budget`) desactivate the export"
   ]
  },
  {
   "cell_type": "code",
   "execution_count": 3,
   "metadata": {
    "execution": {
     "iopub.execute_input": "2023-12-01T09:12:16.477823Z",
     "iopub.status.busy": "2023-12-01T09:12:16.477630Z",
     "iopub.status.idle": "2023-12-01T09:12:17.002785Z",
     "shell.execute_reply": "2023-12-01T09:12:16.999754Z"
    }
   },
   "outputs": [
    {
     "name": "stdout",
     "output_type": "stream",
     "text": [
      "\r\n",
      "Conversion from resu.listingcourlis to resu_listingCourlis.opt\r\n",
      "\r\n",
      "WARNING:data_manip.formats.mascaret_file: Two timesteps, n°0 and n°1, are the                same (often the case for the two first timesteps with sarap), the second has been augmented                                     of +1.e-6s\r\n"
     ]
    }
   ],
   "source": [
    "HOMETEL = %env HOMETEL\n",
    "%cd -q {HOMETEL}/examples/courlis/Soni\n",
    "\n",
    "!converter.py convert_listing_courlis resu.listingcourlis -no-b"
   ]
  },
  {
   "cell_type": "markdown",
   "metadata": {},
   "source": [
    "### Export sediment budget\n",
    "\n",
    "Default export sediment budget file is csv. It can be desactivate with the option `-no-csv` (or `--no_budget_file-csv`)\n",
    "With the option `-xlsx` (or `--budget_file-xlsx`), the export of the budget in Excel file can be activated (Pandas library is required)\n",
    "With the option `-txt` (or `--budget_file-txt`), the export of the budget in text file with no separator can be activated\n",
    "\n",
    "The name of files exported are fixed to `inputfilename_sediment_budget` + extension of the file (`.csv`, `.xlsx` or `.txt`)\n",
    "\n",
    "NB: Opthyca file is exported by default. The option `-no-opt` (or `--no-opthyca`) desactivate the export"
   ]
  },
  {
   "cell_type": "code",
   "execution_count": 4,
   "metadata": {
    "execution": {
     "iopub.execute_input": "2023-12-01T09:12:17.010373Z",
     "iopub.status.busy": "2023-12-01T09:12:17.010160Z",
     "iopub.status.idle": "2023-12-01T09:12:17.755592Z",
     "shell.execute_reply": "2023-12-01T09:12:17.752766Z"
    }
   },
   "outputs": [
    {
     "name": "stdout",
     "output_type": "stream",
     "text": [
      "\r\n",
      "Generating resu_sediment_budget.txt\r\n",
      "\r\n",
      "WARNING:data_manip.formats.mascaret_file: Two timesteps, n°0 and n°1, are the                same (often the case for the two first timesteps with sarap), the second has been augmented                                     of +1.e-6s\r\n",
      "\r\n",
      "Generating resu_sediment_budget.csv\r\n",
      "\r\n",
      "\r\n",
      "Generating resu_sediment_budget.xslx\r\n",
      "\r\n"
     ]
    },
    {
     "name": "stdout",
     "output_type": "stream",
     "text": [
      "Traceback (most recent call last):\r\n",
      "  File \"/home/d60881/telemac/scripts/python3/converter.py\", line 309, in <module>\r\n",
      "    main()\r\n",
      "  File \"/home/d60881/telemac/scripts/python3/converter.py\", line 266, in main\r\n",
      "    convert_listing_courlis(options.args, options.outputFileName,\r\n",
      "  File \"/home/d60881/telemac/scripts/python3/pretel/convert_listing_courlis.py\", line 69, in convert_listing_courlis\r\n",
      "    writer.save()\r\n",
      "AttributeError: 'OpenpyxlWriter' object has no attribute 'save'\r\n"
     ]
    }
   ],
   "source": [
    "!converter.py convert_listing_courlis resu.listingcourlis -no-opt -xlsx -txt"
   ]
  }
 ],
 "metadata": {
  "kernelspec": {
   "display_name": "Python 3",
   "language": "python",
   "name": "python3"
  },
  "language_info": {
   "codemirror_mode": {
    "name": "ipython",
    "version": 3
   },
   "file_extension": ".py",
   "mimetype": "text/x-python",
   "name": "python",
   "nbconvert_exporter": "python",
   "pygments_lexer": "ipython3",
   "version": "3.9.17"
  }
 },
 "nbformat": 4,
 "nbformat_minor": 1
}
